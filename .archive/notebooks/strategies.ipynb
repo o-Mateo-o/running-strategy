{
 "cells": [
  {
   "cell_type": "code",
   "execution_count": 1,
   "metadata": {},
   "outputs": [],
   "source": [
    "import numpy as np\n",
    "import sympy\n",
    "import scipy.stats as st\n",
    "import seaborn as sns\n",
    "import matplotlib.pyplot as plt\n",
    "from matplotlib.patches import Polygon"
   ]
  },
  {
   "cell_type": "code",
   "execution_count": 2,
   "metadata": {},
   "outputs": [],
   "source": [
    "sns.set_style('darkgrid')\n",
    "sns.set(rc={'figure.figsize':(15,8)})"
   ]
  },
  {
   "cell_type": "code",
   "execution_count": 3,
   "metadata": {},
   "outputs": [],
   "source": [
    "#wyliczone przez nas stałe\n",
    "F = 10.29\n",
    "tau = 1.11\n",
    "E0 = 2644\n",
    "sigma = 34.31\n",
    "\n",
    "#czas\n",
    "a, b = 0, 43"
   ]
  },
  {
   "cell_type": "markdown",
   "metadata": {},
   "source": [
    "# Strategia 1\n",
    "\n",
    "> biegniemy z maksymalną siłą $F$ do momentu $t_1$: $E(t_1)=0$, później \"napędza\" nas tylko $\\sigma$\n",
    "\n",
    "\n",
    "* **Wyznaczenie $t_1$**"
   ]
  },
  {
   "cell_type": "code",
   "execution_count": 4,
   "metadata": {},
   "outputs": [
    {
     "data": {
      "text/latex": [
       "$\\displaystyle \\frac{E_{0} + F^{2} \\tau^{2} + \\tau \\left(F^{2} \\tau - \\sigma\\right) W\\left(- \\frac{e^{\\frac{- E_{0} + F^{2} \\tau^{2} \\log{\\left(F^{2} \\tau \\right)} - F^{2} \\tau^{2} - \\sigma \\tau \\log{\\left(F^{2} \\tau \\right)}}{\\tau \\left(F^{2} \\tau - \\sigma\\right)}}}{\\tau \\left(F^{2} \\tau - \\sigma\\right)}\\right)}{F^{2} \\tau - \\sigma}$"
      ],
      "text/plain": [
       "(E_0 + F**2*tau**2 + tau*(F**2*tau - sigma)*LambertW(-exp((-E_0 + F**2*tau**2*log(F**2*tau) - F**2*tau**2 - sigma*tau*log(F**2*tau))/(tau*(F**2*tau - sigma)))/(tau*(F**2*tau - sigma))))/(F**2*tau - sigma)"
      ]
     },
     "execution_count": 4,
     "metadata": {},
     "output_type": "execute_result"
    }
   ],
   "source": [
    "tau_, F_, v_, E_, t1_, T_, sigma_ = sympy.symbols('tau, F, V, E_0, t_1, T, sigma')\n",
    "\n",
    "e_expr = E_ + sigma_*t1_-F_**2*tau_*t1_ - F_**2*tau_*sympy.exp(-t1_/tau_) + F_**2*tau_**2\n",
    "tc_expr = sympy.solve(e_expr, t1_)[0]\n",
    "tc_expr"
   ]
  },
  {
   "cell_type": "code",
   "execution_count": 5,
   "metadata": {},
   "outputs": [
    {
     "data": {
      "text/plain": [
       "33.3383172259483"
      ]
     },
     "execution_count": 5,
     "metadata": {},
     "output_type": "execute_result"
    }
   ],
   "source": [
    "tc = float(tc_expr.evalf(subs={F_: F, E_: E0, sigma_: sigma, tau_: tau}))\n",
    "tc"
   ]
  },
  {
   "cell_type": "markdown",
   "metadata": {},
   "source": [
    "* **Wykres prędkości**"
   ]
  },
  {
   "cell_type": "code",
   "execution_count": 6,
   "metadata": {},
   "outputs": [],
   "source": [
    "def velocity_1(t, t1=tc, F=F, tau=tau, s=sigma):\n",
    "    if t <= t1:\n",
    "        return F*tau*(1-np.exp(-t/tau))\n",
    "    else:\n",
    "        return (s*tau + ((F*tau*(1-np.exp(-t1/tau)))**2-s*tau)*np.exp(-2*(t-t1)/tau))**(1/2)"
   ]
  },
  {
   "cell_type": "code",
   "execution_count": 7,
   "metadata": {},
   "outputs": [
    {
     "data": {
      "image/png": "[encoded data removed]",
      "text/plain": [
       "<Figure size 1080x576 with 1 Axes>"
      ]
     },
     "metadata": {},
     "output_type": "display_data"
    }
   ],
   "source": [
    "xi = np.linspace(a, b, 10**3)\n",
    "yi = [velocity_1(t) for t in xi]\n",
    "\n",
    "\n",
    "fig, ax = plt.subplots()\n",
    "ax.axhline(y=F*tau, color='black', linestyle='--')\n",
    "ax.axvline(x=tc, ymax=0.84, color='black', linestyle='--')\n",
    "\n",
    "ax.plot(xi, yi, color='hotpink', linewidth=2)\n",
    "\n",
    "verts = [(a, 0), *zip(xi, yi), (b, 0)]\n",
    "poly = Polygon(verts, facecolor='0.8', edgecolor='0.5')\n",
    "ax.add_patch(poly)\n",
    "\n",
    "fig.text(0.89, 0.05, '$t$', size=15)\n",
    "fig.text(0.09, 0.85, '$v(t)$', size=15)\n",
    "\n",
    "ax.set_xticks([tc, b])\n",
    "ax.set_xticklabels(['$t_1$', '$T$'], size=15)\n",
    "ax.set_yticks([F*tau])\n",
    "ax.set_yticklabels(['$F \\\\tau$'], size=15)\n",
    "\n",
    "ax.set_ylim([a, 1.2*F*tau])\n",
    "ax.set_xlim([a-0.5,b+2])\n",
    "\n",
    "ax.set_title('Strategia 1', size=18)\n",
    "\n",
    "#plt.savefig('startegia1')\n",
    "plt.show()"
   ]
  },
  {
   "cell_type": "markdown",
   "metadata": {},
   "source": [
    "* **Wyliczenie D**"
   ]
  },
  {
   "cell_type": "code",
   "execution_count": 8,
   "metadata": {},
   "outputs": [
    {
     "data": {
      "text/plain": [
       "431.13110160687086"
      ]
     },
     "execution_count": 8,
     "metadata": {},
     "output_type": "execute_result"
    }
   ],
   "source": [
    "np.trapz(yi, xi) "
   ]
  },
  {
   "cell_type": "markdown",
   "metadata": {},
   "source": [
    "----"
   ]
  },
  {
   "cell_type": "markdown",
   "metadata": {},
   "source": [
    "# Strategia 2\n",
    "\n",
    "> biegniemy tak, aby $E(T) = 0$\n",
    "\n",
    "\n",
    "\n",
    "*  **Wyznaczenie $t_1$**"
   ]
  },
  {
   "cell_type": "code",
   "execution_count": 9,
   "metadata": {},
   "outputs": [
    {
     "data": {
      "text/latex": [
       "$\\displaystyle 42.9834352660547$"
      ],
      "text/plain": [
       "42.9834352660547"
      ]
     },
     "execution_count": 9,
     "metadata": {},
     "output_type": "execute_result"
    }
   ],
   "source": [
    "#szukamy takiego v, żeby T = b\n",
    "v = 0.91*F*tau\n",
    "T = (tau_*(E_ + F_*tau_*v_ + (F_**2*tau_**2-v_**2)*sympy.log(1-v_/(F_*tau_))))/(v_**2 - sigma_*tau_)\n",
    "T = T.evalf(subs={F_: F, E_: E0, sigma_: sigma, tau_: tau, v_: v})\n",
    "T"
   ]
  },
  {
   "cell_type": "code",
   "execution_count": 10,
   "metadata": {},
   "outputs": [
    {
     "data": {
      "text/plain": [
       "2.6728196256035774"
      ]
     },
     "execution_count": 10,
     "metadata": {},
     "output_type": "execute_result"
    }
   ],
   "source": [
    "tc2 = tau*np.log(F*tau/(F*tau - v))\n",
    "tc2"
   ]
  },
  {
   "cell_type": "markdown",
   "metadata": {},
   "source": [
    "* **Wykres prędkości**"
   ]
  },
  {
   "cell_type": "code",
   "execution_count": 11,
   "metadata": {},
   "outputs": [],
   "source": [
    "def velocity_2(t, t1=tc2, F=F, tau=tau, s=sigma):\n",
    "    if t <= t1:\n",
    "        return F*tau*(1-np.exp(-t/tau))\n",
    "    else:\n",
    "        return F*tau*(1-np.exp(-t1/tau))"
   ]
  },
  {
   "cell_type": "code",
   "execution_count": 12,
   "metadata": {},
   "outputs": [
    {
     "data": {
      "image/png": "[encoded data removed]",
      "text/plain": [
       "<Figure size 1080x576 with 1 Axes>"
      ]
     },
     "metadata": {},
     "output_type": "display_data"
    }
   ],
   "source": [
    "xi2 = np.linspace(a, b, 10**3)\n",
    "yi2 = [velocity_2(t) for t in xi2]\n",
    "\n",
    "\n",
    "fig, ax = plt.subplots()\n",
    "ax.axhline(y=F*tau, color='black', linestyle='--')\n",
    "ax.axvline(x=tc2, ymax=0.75, color='black', linestyle='--')\n",
    "ax.axhline(y=v, color='black', linestyle='--')\n",
    "\n",
    "ax.plot(xi2, yi2, color='hotpink', linewidth=2)\n",
    "\n",
    "verts = [(a, 0), *zip(xi2, yi2), (b, 0)]\n",
    "poly = Polygon(verts, facecolor='0.8', edgecolor='0.5')\n",
    "ax.add_patch(poly)\n",
    "\n",
    "fig.text(0.89, 0.05, '$t$', size=15)\n",
    "fig.text(0.09, 0.85, '$v(t)$', size=15)\n",
    "\n",
    "ax.set_xticks([tc2, b])\n",
    "ax.set_xticklabels(['$t_1$', '$T$'], size=15)\n",
    "ax.set_yticks([F*tau, v])\n",
    "ax.set_yticklabels(['$F \\\\tau$', '$V$'], size=15)\n",
    "\n",
    "ax.set_ylim([a, 1.2*F*tau])\n",
    "ax.set_xlim([a-0.5,b+2])\n",
    "\n",
    "ax.set_title('Strategia 2', size=18)\n",
    "\n",
    "#plt.savefig('startegia2')\n",
    "plt.show()"
   ]
  },
  {
   "cell_type": "markdown",
   "metadata": {},
   "source": [
    "* **Wyliczenie D**"
   ]
  },
  {
   "cell_type": "code",
   "execution_count": 13,
   "metadata": {},
   "outputs": [
    {
     "data": {
      "text/plain": [
       "438.14774683493056"
      ]
     },
     "execution_count": 13,
     "metadata": {},
     "output_type": "execute_result"
    }
   ],
   "source": [
    "np.trapz(yi2, xi2)"
   ]
  }
 ],
 "metadata": {
  "kernelspec": {
   "display_name": "Python 3",
   "language": "python",
   "name": "python3"
  },
  "language_info": {
   "codemirror_mode": {
    "name": "ipython",
    "version": 3
   },
   "file_extension": ".py",
   "mimetype": "text/x-python",
   "name": "python",
   "nbconvert_exporter": "python",
   "pygments_lexer": "ipython3",
   "version": "3.8.5"
  }
 },
 "nbformat": 4,
 "nbformat_minor": 4
}
