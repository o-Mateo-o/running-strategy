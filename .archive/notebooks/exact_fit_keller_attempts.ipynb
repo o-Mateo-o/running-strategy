{
 "cells": [
  {
   "cell_type": "markdown",
   "id": "726ec117-0da0-4d16-af6e-585f544177ee",
   "metadata": {},
   "source": [
    "# Failed attempts to fit the exact model"
   ]
  },
  {
   "cell_type": "markdown",
   "id": "f87d6d59-8192-4326-9e0c-fcb5e8ca4840",
   "metadata": {},
   "source": [
    "### First phase"
   ]
  },
  {
   "cell_type": "code",
   "execution_count": 301,
   "id": "9a63b9d0-fca0-423a-8f03-6b570c322234",
   "metadata": {},
   "outputs": [],
   "source": [
    "# D_f = lambda T, tau, F: F * tau ** 2 * (T / tau - 1 + np.exp(-T / tau))"
   ]
  },
  {
   "cell_type": "code",
   "execution_count": 302,
   "id": "3a62be1b-4802-4d4e-bad8-511c4920158a",
   "metadata": {},
   "outputs": [],
   "source": [
    "# ff_m_popt, ff_m_pcov = curve_fit(\n",
    "#     D_f,\n",
    "#     records[(records[\"D\"] <= 200) & (records[\"Sex\"] == \"M\")][\"T\"],\n",
    "#     records[(records[\"D\"] <= 200) & (records[\"Sex\"] == \"M\")][\"D\"],\n",
    "# )\n",
    "# ff_f_popt, ff_f_pcov = curve_fit(\n",
    "#     D_f,\n",
    "#     records[(records[\"D\"] <= 200) & (records[\"Sex\"] == \"F\")][\"T\"],\n",
    "#     records[(records[\"D\"] <= 200) & (records[\"Sex\"] == \"F\")][\"D\"],\n",
    "# )"
   ]
  },
  {
   "cell_type": "markdown",
   "id": "b6a3f595-5345-4a03-8445-67c1f783b446",
   "metadata": {},
   "source": [
    "### The rest"
   ]
  },
  {
   "cell_type": "code",
   "execution_count": 315,
   "id": "a41765c9-5f8a-4df0-b384-be726825c1ee",
   "metadata": {},
   "outputs": [],
   "source": [
    "# eq_for_V = lambda V, T, tau, F, sigma, E0: (\n",
    "#     (E0 + F * tau * V + (F ** 2 * tau ** 2 - V ** 2) * np.log(1 - V / F / tau))\n",
    "#     / (V ** 2 - sigma * tau)\n",
    "#     - T / tau\n",
    "#     - 1 / 2 * np.log((1 - sigma * tau / V ** 2) / 4)\n",
    "# )"
   ]
  },
  {
   "cell_type": "code",
   "execution_count": 316,
   "id": "d2e90a65-6432-4711-a3d9-3d2bc982d9c3",
   "metadata": {},
   "outputs": [],
   "source": [
    "# def root_V(T, tau, F, sigma, E0, x0g_param=(0, 20, 0.1)):\n",
    "#     for x0 in np.arange(*x0g_param):\n",
    "#         try:\n",
    "#             ans = root(lambda V: eq_for_V(V, T, tau, F, sigma, E0), x0=x0, method=\"lm\").x[0]\n",
    "#             if ans > 0 and ans > np.sqrt(sigma*tau):\n",
    "#                 return ans\n",
    "#             else:\n",
    "#                 continue\n",
    "#         except FloatingPointError:\n",
    "#             continue\n",
    "#     return -np.inf"
   ]
  },
  {
   "cell_type": "code",
   "execution_count": 325,
   "id": "5f0315db-2e7a-4406-8cc7-df47718b5141",
   "metadata": {},
   "outputs": [],
   "source": [
    "# def D_r_raw(T, tau, F, sigma, E0):\n",
    "#     V = root_V(T, tau, F, sigma, E0)\n",
    "#     t1 = -np.log(1 - V / F / tau) * tau\n",
    "#     t2 = (\n",
    "#         tau\n",
    "#         * (E0 + F * tau * V + (F ** 2 * tau ** 2 - V ** 2) * np.log(1 - V / F / tau))\n",
    "#         / (V ** 2 - sigma * tau)\n",
    "#     )\n",
    "#     print((t2 - T) / tau)\n",
    "#     K = np.sqrt(1 + (V ** 2 / sigma / tau - 1) * np.exp((t2 - T) / tau)**2)\n",
    "    \n",
    "#     return (\n",
    "#         F\n",
    "#         * tau ** 2\n",
    "#         * (\n",
    "#             1\n",
    "#             - np.exp(-t1 / tau) * (t2 - t1) / tau\n",
    "#             + 1\n",
    "#             / 2\n",
    "#             * np.sqrt(sigma / F ** 2 / tau)\n",
    "#             * (\n",
    "#                 np.log((V - np.sqrt(sigma * tau)) / (V + np.sqrt(sigma * tau)))\n",
    "#                 - 2 * K\n",
    "#                 - np.log((K - 1 / K + 1))\n",
    "#             )\n",
    "#         )\n",
    "#     )\n",
    "\n",
    "# # ttry to vectorize it?\n",
    "# def D_r(*args):\n",
    "#     try:\n",
    "#         return D_r_raw(*args)\n",
    "#     except FloatingPointError:\n",
    "#         return -1000000000"
   ]
  },
  {
   "cell_type": "code",
   "execution_count": 328,
   "id": "7645aaa5-9140-4bef-a3ae-c8ffedc563bc",
   "metadata": {},
   "outputs": [],
   "source": [
    "# fr_m_popt, fr_m_pcov = curve_fit(\n",
    "#     lambda T, sigma, E0: D_r_raw(T, ff_m_popt[0], ff_m_popt[1], sigma, E0),\n",
    "#     records[(records[\"D\"] > 200) &(records[\"D\"] <= 2000) & (records[\"Sex\"] == \"M\")][\"T\"],\n",
    "#     records[(records[\"D\"] > 200) &(records[\"D\"] <= 2000) & (records[\"Sex\"] == \"M\")][\"D\"],\n",
    "#     bounds=[(0, 0.001), (ff_m_popt[1]*ff_m_popt[0]**2, 10000)]\n",
    "# )"
   ]
  },
  {
   "cell_type": "code",
   "execution_count": 329,
   "id": "3babf84a-1b18-444a-b9d6-59c82d38f348",
   "metadata": {},
   "outputs": [],
   "source": [
    "# fr_m_popt  # coś na razie bardzo nie gra"
   ]
  }
 ],
 "metadata": {
  "kernelspec": {
   "display_name": "Python 3 (ipykernel)",
   "language": "python",
   "name": "python3"
  },
  "language_info": {
   "codemirror_mode": {
    "name": "ipython",
    "version": 3
   },
   "file_extension": ".py",
   "mimetype": "text/x-python",
   "name": "python",
   "nbconvert_exporter": "python",
   "pygments_lexer": "ipython3",
   "version": "3.9.7"
  }
 },
 "nbformat": 4,
 "nbformat_minor": 5
}
