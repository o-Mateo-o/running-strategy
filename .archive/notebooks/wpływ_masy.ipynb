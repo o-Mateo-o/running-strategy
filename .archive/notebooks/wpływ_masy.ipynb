{
 "cells": [
  {
   "cell_type": "code",
   "execution_count": 475,
   "metadata": {},
   "outputs": [],
   "source": [
    "import numpy as np \n",
    "import seaborn as sns\n",
    "import matplotlib.pyplot as plt\n",
    "from scipy.optimize import root , bisect, newton, root_scalar\n"
   ]
  },
  {
   "cell_type": "code",
   "execution_count": 476,
   "metadata": {},
   "outputs": [],
   "source": [
    "F = 12.2\n",
    "Tau = 0.892\n",
    "Sigma = 41.56\n",
    "E_0 = 2409\n",
    "T_c = 27.7\n",
    "D_c = 291\n"
   ]
  },
  {
   "cell_type": "code",
   "execution_count": 477,
   "metadata": {},
   "outputs": [
    {
     "data": {
      "text/plain": [
       "3.0000000158161653"
      ]
     },
     "execution_count": 477,
     "metadata": {},
     "output_type": "execute_result"
    }
   ],
   "source": [
    "newton(lambda x : (x-3)**2 ,4)"
   ]
  },
  {
   "cell_type": "code",
   "execution_count": 478,
   "metadata": {},
   "outputs": [],
   "source": [
    "energy  = lambda t : E_0 / ( F**2 * Tau**2) - (1 - Sigma/(F**2 * Tau))*t/Tau - np.exp(-t/Tau)+1"
   ]
  },
  {
   "cell_type": "code",
   "execution_count": 479,
   "metadata": {},
   "outputs": [],
   "source": [
    "def bisetion(a,b,func, eps=10**(-5)):\n",
    "    print(func(a),func(b))\n",
    "    if func(a)*func(b) < 0:\n",
    "        c = (a+b)/2\n",
    "        c_list = [c]\n",
    "        while abs(func(c)) > eps:\n",
    "            if func(a)*func(c) < 0 :\n",
    "                b = c\n",
    "            elif func(a)*func(c) > 0 :\n",
    "                a = c\n",
    "            else:\n",
    "                return 'test'\n",
    "            c = (a+b)/2\n",
    "            c_list.append(c)\n",
    "        return c , func(c), np.array(c_list)\n",
    "    return 'test2'"
   ]
  },
  {
   "cell_type": "code",
   "execution_count": 480,
   "metadata": {},
   "outputs": [
    {
     "data": {
      "text/plain": [
       "<matplotlib.axes._subplots.AxesSubplot at 0x2b835328cc8>"
      ]
     },
     "execution_count": 480,
     "metadata": {},
     "output_type": "execute_result"
    },
    {
     "data": {
      "image/png": "[encoded data removed]",
      "text/plain": [
       "<Figure size 432x288 with 1 Axes>"
      ]
     },
     "metadata": {
      "needs_background": "light"
     },
     "output_type": "display_data"
    }
   ],
   "source": [
    "t = np.linspace(0,30,100)\n",
    "\n",
    "sns.lineplot(x=t,y= np.exp(-t/Tau)-1 )\n",
    "sns.lineplot(x=t,y=E_0 / ( F**2 * Tau**2) - (1 - Sigma/(F**2 * Tau))*t/Tau)"
   ]
  },
  {
   "cell_type": "code",
   "execution_count": 481,
   "metadata": {},
   "outputs": [
    {
     "name": "stdout",
     "output_type": "stream",
     "text": [
      "13.640278634794086 -24.866790317414498\n",
      "27.711400985717773\n"
     ]
    }
   ],
   "source": [
    "t_c  =bisetion(10,60,energy)[0]\n",
    "print(t_c)"
   ]
  },
  {
   "cell_type": "code",
   "execution_count": 482,
   "metadata": {},
   "outputs": [],
   "source": [
    "distance = lambda T : F * Tau ** 2 * ( T / Tau - 1 + np.exp(- T / Tau))"
   ]
  },
  {
   "cell_type": "code",
   "execution_count": 483,
   "metadata": {},
   "outputs": [
    {
     "name": "stdout",
     "output_type": "stream",
     "text": [
      "291.8594492869754\n",
      "291.7353792000003\n"
     ]
    }
   ],
   "source": [
    "distance_c = distance(t_c)\n",
    "print(distance_c)\n",
    "print(distance(T_c))"
   ]
  },
  {
   "cell_type": "code",
   "execution_count": 503,
   "metadata": {},
   "outputs": [],
   "source": [
    "def max_distance_in_time(t):\n",
    "    if Sigma/ (F**2 * Tau ) >= 1 :\n",
    "        raise ValueError\n",
    "    energy  = lambda t : E_0 / ( F**2 * Tau**2) - (1 - Sigma/(F**2 * Tau))*t/Tau - np.exp(-t/Tau)+1\n",
    "    t_c  =newton(energy,3)\n",
    "\n",
    "    if t <= t_c:\n",
    "        return F * Tau ** 2 * ( t / Tau - 1 + np.exp(- t / Tau))\n",
    "    \n",
    "    # velocity_equation = lambda v : (E_0 + F * Tau * v + (F**2 * Tau **2 - v**2)* np.log(1 - v/(F * Tau)))/(v**2 - Sigma * Tau) - t / Tau -1/2 * np.log(1/4)*(1 - Sigma * Tau / v**2)\n",
    "    velocity_equation = lambda v : (E_0 + F * Tau * v + (F *Tau - v) * (F *Tau + v)* np.log(1 - v/(F * Tau)))/(v**2 - Sigma * Tau) - t / Tau -1/2 * np.log(1/4)*(1 - Sigma * Tau / v**2)\n",
    "    v = bisect(velocity_equation, 1,8,xtol=4*np.finfo(float).eps)\n",
    "    print(v, velocity_equation(v))\n",
    "    v = root_scalar(velocity_equation, x0 = v, x1 = 9).root\n",
    "    print(v, velocity_equation(v))\n",
    "    t_1 =  - Tau * np.log(1 - v / ( F * Tau ) )\n",
    "    print(t_1, \"t_1\")\n",
    "    t_2 = (E_0 + F * Tau * v + (F**2 * Tau **2 - v**2)* np.log(1 - v/(F * Tau)))/(v**2 - Sigma * Tau) * Tau\n",
    "    t_2_2 = (1/2 * v**2 + F * ( -t_1 - 1/2 *t_1 **2 - 3 * np.log(1 - t_1)) - v**2 * t_1 / Tau - E_0)/ ( Sigma - v**2 / Tau)\n",
    "    print(t_2 , \"t_2\", t_2_2 , \"t_2_2\")\n",
    "    k = np.sqrt(1 + (v**2 / (Sigma* Tau) -1 ) * np.exp(2*(t_2 - t)/Tau))\n",
    "    print(k, \"k\")\n",
    "    distance_1 = F * Tau**2 * ( t_1/ Tau - 1 + np.exp(-t_1 / Tau))\n",
    "    print(distance_1)\n",
    "    distance_2 =  v * (t_2 - t_1)\n",
    "    print(distance_2)\n",
    "    distance_3 = F * Tau**2 *( 1 - np.exp(-t_1 / Tau)) + Tau * np.sqrt(Sigma * Tau ) / 2 * (np.log((v-np.sqrt(Sigma * Tau))/ (v + np.sqrt(Sigma * Tau))) - 2 * k - np.log((k-1)/(k+1)))\n",
    "    print(distance_3)\n",
    "    return distance_1 + distance_2 + distance_3 \n",
    "    \n",
    "    \n",
    "    "
   ]
  },
  {
   "cell_type": "code",
   "execution_count": 504,
   "metadata": {},
   "outputs": [
    {
     "ename": "ValueError",
     "evalue": "f(a) and f(b) must have different signs",
     "output_type": "error",
     "traceback": [
      "\u001b[1;31m---------------------------------------------------------------------------\u001b[0m",
      "\u001b[1;31mValueError\u001b[0m                                Traceback (most recent call last)",
      "\u001b[1;32m<ipython-input-504-f6137134f77e>\u001b[0m in \u001b[0;36m<module>\u001b[1;34m\u001b[0m\n\u001b[1;32m----> 1\u001b[1;33m \u001b[0mmax_distance_in_time\u001b[0m\u001b[1;33m(\u001b[0m\u001b[1;36m180\u001b[0m\u001b[1;33m)\u001b[0m\u001b[1;33m\u001b[0m\u001b[1;33m\u001b[0m\u001b[0m\n\u001b[0m",
      "\u001b[1;32m<ipython-input-503-e698bae72fb4>\u001b[0m in \u001b[0;36mmax_distance_in_time\u001b[1;34m(t)\u001b[0m\n\u001b[0;32m     10\u001b[0m     \u001b[1;31m# velocity_equation = lambda v : (E_0 + F * Tau * v + (F**2 * Tau **2 - v**2)* np.log(1 - v/(F * Tau)))/(v**2 - Sigma * Tau) - t / Tau -1/2 * np.log(1/4)*(1 - Sigma * Tau / v**2)\u001b[0m\u001b[1;33m\u001b[0m\u001b[1;33m\u001b[0m\u001b[1;33m\u001b[0m\u001b[0m\n\u001b[0;32m     11\u001b[0m     \u001b[0mvelocity_equation\u001b[0m \u001b[1;33m=\u001b[0m \u001b[1;32mlambda\u001b[0m \u001b[0mv\u001b[0m \u001b[1;33m:\u001b[0m \u001b[1;33m(\u001b[0m\u001b[0mE_0\u001b[0m \u001b[1;33m+\u001b[0m \u001b[0mF\u001b[0m \u001b[1;33m*\u001b[0m \u001b[0mTau\u001b[0m \u001b[1;33m*\u001b[0m \u001b[0mv\u001b[0m \u001b[1;33m+\u001b[0m \u001b[1;33m(\u001b[0m\u001b[0mF\u001b[0m \u001b[1;33m*\u001b[0m\u001b[0mTau\u001b[0m \u001b[1;33m-\u001b[0m \u001b[0mv\u001b[0m\u001b[1;33m)\u001b[0m \u001b[1;33m*\u001b[0m \u001b[1;33m(\u001b[0m\u001b[0mF\u001b[0m \u001b[1;33m*\u001b[0m\u001b[0mTau\u001b[0m \u001b[1;33m+\u001b[0m \u001b[0mv\u001b[0m\u001b[1;33m)\u001b[0m\u001b[1;33m*\u001b[0m \u001b[0mnp\u001b[0m\u001b[1;33m.\u001b[0m\u001b[0mlog\u001b[0m\u001b[1;33m(\u001b[0m\u001b[1;36m1\u001b[0m \u001b[1;33m-\u001b[0m \u001b[0mv\u001b[0m\u001b[1;33m/\u001b[0m\u001b[1;33m(\u001b[0m\u001b[0mF\u001b[0m \u001b[1;33m*\u001b[0m \u001b[0mTau\u001b[0m\u001b[1;33m)\u001b[0m\u001b[1;33m)\u001b[0m\u001b[1;33m)\u001b[0m\u001b[1;33m/\u001b[0m\u001b[1;33m(\u001b[0m\u001b[0mv\u001b[0m\u001b[1;33m**\u001b[0m\u001b[1;36m2\u001b[0m \u001b[1;33m-\u001b[0m \u001b[0mSigma\u001b[0m \u001b[1;33m*\u001b[0m \u001b[0mTau\u001b[0m\u001b[1;33m)\u001b[0m \u001b[1;33m-\u001b[0m \u001b[0mt\u001b[0m \u001b[1;33m/\u001b[0m \u001b[0mTau\u001b[0m \u001b[1;33m-\u001b[0m\u001b[1;36m1\u001b[0m\u001b[1;33m/\u001b[0m\u001b[1;36m2\u001b[0m \u001b[1;33m*\u001b[0m \u001b[0mnp\u001b[0m\u001b[1;33m.\u001b[0m\u001b[0mlog\u001b[0m\u001b[1;33m(\u001b[0m\u001b[1;36m1\u001b[0m\u001b[1;33m/\u001b[0m\u001b[1;36m4\u001b[0m\u001b[1;33m)\u001b[0m\u001b[1;33m*\u001b[0m\u001b[1;33m(\u001b[0m\u001b[1;36m1\u001b[0m \u001b[1;33m-\u001b[0m \u001b[0mSigma\u001b[0m \u001b[1;33m*\u001b[0m \u001b[0mTau\u001b[0m \u001b[1;33m/\u001b[0m \u001b[0mv\u001b[0m\u001b[1;33m**\u001b[0m\u001b[1;36m2\u001b[0m\u001b[1;33m)\u001b[0m\u001b[1;33m\u001b[0m\u001b[1;33m\u001b[0m\u001b[0m\n\u001b[1;32m---> 12\u001b[1;33m     \u001b[0mv\u001b[0m \u001b[1;33m=\u001b[0m \u001b[0mbisect\u001b[0m\u001b[1;33m(\u001b[0m\u001b[0mvelocity_equation\u001b[0m\u001b[1;33m,\u001b[0m \u001b[1;36m1\u001b[0m\u001b[1;33m,\u001b[0m\u001b[1;36m8\u001b[0m\u001b[1;33m,\u001b[0m\u001b[0mxtol\u001b[0m\u001b[1;33m=\u001b[0m\u001b[1;36m4\u001b[0m\u001b[1;33m*\u001b[0m\u001b[0mnp\u001b[0m\u001b[1;33m.\u001b[0m\u001b[0mfinfo\u001b[0m\u001b[1;33m(\u001b[0m\u001b[0mfloat\u001b[0m\u001b[1;33m)\u001b[0m\u001b[1;33m.\u001b[0m\u001b[0meps\u001b[0m\u001b[1;33m)\u001b[0m\u001b[1;33m\u001b[0m\u001b[1;33m\u001b[0m\u001b[0m\n\u001b[0m\u001b[0;32m     13\u001b[0m     \u001b[0mprint\u001b[0m\u001b[1;33m(\u001b[0m\u001b[0mv\u001b[0m\u001b[1;33m,\u001b[0m \u001b[0mvelocity_equation\u001b[0m\u001b[1;33m(\u001b[0m\u001b[0mv\u001b[0m\u001b[1;33m)\u001b[0m\u001b[1;33m)\u001b[0m\u001b[1;33m\u001b[0m\u001b[1;33m\u001b[0m\u001b[0m\n\u001b[0;32m     14\u001b[0m     \u001b[0mv\u001b[0m \u001b[1;33m=\u001b[0m \u001b[0mroot_scalar\u001b[0m\u001b[1;33m(\u001b[0m\u001b[0mvelocity_equation\u001b[0m\u001b[1;33m,\u001b[0m \u001b[0mx0\u001b[0m \u001b[1;33m=\u001b[0m \u001b[0mv\u001b[0m\u001b[1;33m,\u001b[0m \u001b[0mx1\u001b[0m \u001b[1;33m=\u001b[0m \u001b[1;36m9\u001b[0m\u001b[1;33m)\u001b[0m\u001b[1;33m.\u001b[0m\u001b[0mroot\u001b[0m\u001b[1;33m\u001b[0m\u001b[1;33m\u001b[0m\u001b[0m\n",
      "\u001b[1;32mc:\\Users\\mkarc\\AppData\\Local\\Programs\\Python\\Python37\\lib\\site-packages\\scipy\\optimize\\zeros.py\u001b[0m in \u001b[0;36mbisect\u001b[1;34m(f, a, b, args, xtol, rtol, maxiter, full_output, disp)\u001b[0m\n\u001b[0;32m    547\u001b[0m     \u001b[1;32mif\u001b[0m \u001b[0mrtol\u001b[0m \u001b[1;33m<\u001b[0m \u001b[0m_rtol\u001b[0m\u001b[1;33m:\u001b[0m\u001b[1;33m\u001b[0m\u001b[1;33m\u001b[0m\u001b[0m\n\u001b[0;32m    548\u001b[0m         \u001b[1;32mraise\u001b[0m \u001b[0mValueError\u001b[0m\u001b[1;33m(\u001b[0m\u001b[1;34m\"rtol too small (%g < %g)\"\u001b[0m \u001b[1;33m%\u001b[0m \u001b[1;33m(\u001b[0m\u001b[0mrtol\u001b[0m\u001b[1;33m,\u001b[0m \u001b[0m_rtol\u001b[0m\u001b[1;33m)\u001b[0m\u001b[1;33m)\u001b[0m\u001b[1;33m\u001b[0m\u001b[1;33m\u001b[0m\u001b[0m\n\u001b[1;32m--> 549\u001b[1;33m     \u001b[0mr\u001b[0m \u001b[1;33m=\u001b[0m \u001b[0m_zeros\u001b[0m\u001b[1;33m.\u001b[0m\u001b[0m_bisect\u001b[0m\u001b[1;33m(\u001b[0m\u001b[0mf\u001b[0m\u001b[1;33m,\u001b[0m \u001b[0ma\u001b[0m\u001b[1;33m,\u001b[0m \u001b[0mb\u001b[0m\u001b[1;33m,\u001b[0m \u001b[0mxtol\u001b[0m\u001b[1;33m,\u001b[0m \u001b[0mrtol\u001b[0m\u001b[1;33m,\u001b[0m \u001b[0mmaxiter\u001b[0m\u001b[1;33m,\u001b[0m \u001b[0margs\u001b[0m\u001b[1;33m,\u001b[0m \u001b[0mfull_output\u001b[0m\u001b[1;33m,\u001b[0m \u001b[0mdisp\u001b[0m\u001b[1;33m)\u001b[0m\u001b[1;33m\u001b[0m\u001b[1;33m\u001b[0m\u001b[0m\n\u001b[0m\u001b[0;32m    550\u001b[0m     \u001b[1;32mreturn\u001b[0m \u001b[0mresults_c\u001b[0m\u001b[1;33m(\u001b[0m\u001b[0mfull_output\u001b[0m\u001b[1;33m,\u001b[0m \u001b[0mr\u001b[0m\u001b[1;33m)\u001b[0m\u001b[1;33m\u001b[0m\u001b[1;33m\u001b[0m\u001b[0m\n\u001b[0;32m    551\u001b[0m \u001b[1;33m\u001b[0m\u001b[0m\n",
      "\u001b[1;31mValueError\u001b[0m: f(a) and f(b) must have different signs"
     ]
    }
   ],
   "source": [
    "max_distance_in_time(180)"
   ]
  },
  {
   "cell_type": "code",
   "execution_count": 486,
   "metadata": {},
   "outputs": [
    {
     "data": {
      "text/plain": [
       "-298919664384893.94"
      ]
     },
     "execution_count": 486,
     "metadata": {},
     "output_type": "execute_result"
    }
   ],
   "source": [
    "v = 6.088638599883552\n",
    "t =30\n",
    "velocity_equation = lambda v : (E_0 + F * Tau * v + (F**2 * Tau **2 - v**2)* np.log(1 - v/(F * Tau)))/(v**2 - Sigma * Tau) - t / Tau -1/2 * np.log(1/4)*(1 - Sigma * Tau / v**2)\n",
    "velocity_equation(6.088638599883552)"
   ]
  },
  {
   "cell_type": "code",
   "execution_count": 487,
   "metadata": {},
   "outputs": [
    {
     "data": {
      "text/plain": [
       "      converged: True\n",
       "           flag: 'converged'\n",
       " function_calls: 55\n",
       "     iterations: 54\n",
       "           root: 6.088638599885753"
      ]
     },
     "execution_count": 487,
     "metadata": {},
     "output_type": "execute_result"
    }
   ],
   "source": [
    "root_scalar(velocity_equation,bracket=(1,7))"
   ]
  },
  {
   "cell_type": "code",
   "execution_count": 488,
   "metadata": {},
   "outputs": [
    {
     "data": {
      "text/plain": [
       "-0.8198314410857104"
      ]
     },
     "execution_count": 488,
     "metadata": {},
     "output_type": "execute_result"
    }
   ],
   "source": [
    "np.log(1 - v/(F * Tau))"
   ]
  },
  {
   "cell_type": "code",
   "execution_count": 489,
   "metadata": {},
   "outputs": [
    {
     "data": {
      "text/plain": [
       "41.56"
      ]
     },
     "execution_count": 489,
     "metadata": {},
     "output_type": "execute_result"
    }
   ],
   "source": [
    "Sigma"
   ]
  },
  {
   "cell_type": "code",
   "execution_count": 490,
   "metadata": {},
   "outputs": [
    {
     "data": {
      "text/plain": [
       "2408.5615238251394"
      ]
     },
     "execution_count": 490,
     "metadata": {},
     "output_type": "execute_result"
    }
   ],
   "source": [
    "(E_0 + F * Tau * v + (F**2 * Tau **2 - v**2)* np.log(1 - v/(F * Tau)))"
   ]
  },
  {
   "cell_type": "code",
   "execution_count": 491,
   "metadata": {},
   "outputs": [
    {
     "data": {
      "text/plain": [
       "-8.057554623519536e-12"
      ]
     },
     "execution_count": 491,
     "metadata": {},
     "output_type": "execute_result"
    }
   ],
   "source": [
    "v**2 - Sigma * Tau"
   ]
  },
  {
   "cell_type": "code",
   "execution_count": 492,
   "metadata": {},
   "outputs": [
    {
     "data": {
      "text/plain": [
       "-0.8198314410857104"
      ]
     },
     "execution_count": 492,
     "metadata": {},
     "output_type": "execute_result"
    }
   ],
   "source": [
    "np.log(1 - v/(F * Tau))"
   ]
  },
  {
   "cell_type": "code",
   "execution_count": 493,
   "metadata": {},
   "outputs": [
    {
     "data": {
      "text/plain": [
       "99.11703051590186"
      ]
     },
     "execution_count": 493,
     "metadata": {},
     "output_type": "execute_result"
    }
   ],
   "source": [
    "max_distance_in_time(10)"
   ]
  },
  {
   "cell_type": "code",
   "execution_count": 494,
   "metadata": {},
   "outputs": [
    {
     "name": "stderr",
     "output_type": "stream",
     "text": [
      "c:\\Users\\mkarc\\AppData\\Local\\Programs\\Python\\Python37\\lib\\site-packages\\ipykernel_launcher.py:1: RuntimeWarning: invalid value encountered in log\n",
      "  \"\"\"Entry point for launching an IPython kernel.\n"
     ]
    },
    {
     "data": {
      "text/plain": [
       "(6.2, 9)"
      ]
     },
     "execution_count": 494,
     "metadata": {},
     "output_type": "execute_result"
    },
    {
     "data": {
      "image/png": "[encoded data removed]",
      "text/plain": [
       "<Figure size 432x288 with 1 Axes>"
      ]
     },
     "metadata": {
      "needs_background": "light"
     },
     "output_type": "display_data"
    }
   ],
   "source": [
    "velocity_equation = lambda v : (E_0 + F * Tau * v + (F**2 * Tau **2 - v**2)* np.log(1 - v/(F * Tau)))/(v**2 - Sigma * Tau) - 55 / Tau -1/2 * np.log(1/4)*(1 - Sigma * Tau / v**2)\n",
    "v_t = np.linspace(0.5 , 100,1000000)\n",
    "sns.scatterplot(x=v_t , y= velocity_equation(v_t))\n",
    "plt.ylim((-0.1,0.1))\n",
    "plt.xlim((6.2,9))"
   ]
  },
  {
   "cell_type": "code",
   "execution_count": 506,
   "metadata": {},
   "outputs": [
    {
     "name": "stdout",
     "output_type": "stream",
     "text": [
      "6 -2449.3026314186013 6.12 6089.179820956809\n"
     ]
    },
    {
     "name": "stderr",
     "output_type": "stream",
     "text": [
      "c:\\Users\\mkarc\\AppData\\Local\\Programs\\Python\\Python37\\lib\\site-packages\\seaborn\\_decorators.py:43: FutureWarning: Pass the following variables as keyword args: x, y. From version 0.12, the only valid positional argument will be `data`, and passing other arguments without an explicit keyword will result in an error or misinterpretation.\n",
      "  FutureWarning\n"
     ]
    },
    {
     "data": {
      "image/png": "[encoded data removed]",
      "text/plain": [
       "<Figure size 432x288 with 1 Axes>"
      ]
     },
     "metadata": {
      "needs_background": "light"
     },
     "output_type": "display_data"
    }
   ],
   "source": [
    "t = 180 \n",
    "func = lambda v: (E_0 + F * Tau * v + (F *Tau - v) * (F *Tau + v)* np.log(1 - v/(F * Tau)))/(v**2 - Sigma * Tau) - t / Tau -1/2 * np.log(1/4)*(1 - Sigma * Tau / v**2)\n",
    "\n",
    "sns.scatterplot(np.linspace(5,7,1000), func(np.linspace(5,7,1000)))\n",
    "print(\"6\", func(6), \"6.12\" , func(6.12))"
   ]
  },
  {
   "cell_type": "code",
   "execution_count": 496,
   "metadata": {},
   "outputs": [
    {
     "data": {
      "text/plain": [
       "8.881784197001252e-16"
      ]
     },
     "execution_count": 496,
     "metadata": {},
     "output_type": "execute_result"
    }
   ],
   "source": [
    "4*np.finfo(float).eps"
   ]
  },
  {
   "cell_type": "code",
   "execution_count": 507,
   "metadata": {},
   "outputs": [],
   "source": [
    "time = lambda sigma , d :   1 / (2 * sigma) *(np.sqrt(E_0 + 4 *sigma *d**2 / Tau) - E_0 )"
   ]
  },
  {
   "cell_type": "code",
   "execution_count": 517,
   "metadata": {},
   "outputs": [
    {
     "name": "stderr",
     "output_type": "stream",
     "text": [
      "c:\\Users\\mkarc\\AppData\\Local\\Programs\\Python\\Python37\\lib\\site-packages\\seaborn\\_decorators.py:43: FutureWarning: Pass the following variables as keyword args: x, y. From version 0.12, the only valid positional argument will be `data`, and passing other arguments without an explicit keyword will result in an error or misinterpretation.\n",
      "  FutureWarning\n"
     ]
    },
    {
     "data": {
      "text/plain": [
       "26.890353175855306"
      ]
     },
     "execution_count": 517,
     "metadata": {},
     "output_type": "execute_result"
    },
    {
     "data": {
      "image/png": "[encoded data removed]",
      "text/plain": [
       "<Figure size 432x288 with 1 Axes>"
      ]
     },
     "metadata": {
      "needs_background": "light"
     },
     "output_type": "display_data"
    }
   ],
   "source": [
    "new_sigma = np.linspace(0.5,2,10) * Sigma\n",
    "sns.scatterplot((new_sigma / Sigma)[::-1], time(new_sigma, 10000))\n",
    "\n",
    "time(Sigma, 10000) / 60 "
   ]
  },
  {
   "cell_type": "code",
   "execution_count": 512,
   "metadata": {},
   "outputs": [
    {
     "data": {
      "text/plain": [
       "41.56"
      ]
     },
     "execution_count": 512,
     "metadata": {},
     "output_type": "execute_result"
    }
   ],
   "source": [
    "Sigma"
   ]
  },
  {
   "cell_type": "code",
   "execution_count": null,
   "metadata": {},
   "outputs": [],
   "source": []
  }
 ],
 "metadata": {
  "kernelspec": {
   "display_name": "Python 3",
   "language": "python",
   "name": "python3"
  },
  "language_info": {
   "codemirror_mode": {
    "name": "ipython",
    "version": 3
   },
   "file_extension": ".py",
   "mimetype": "text/x-python",
   "name": "python",
   "nbconvert_exporter": "python",
   "pygments_lexer": "ipython3",
   "version": "3.7.9"
  },
  "orig_nbformat": 4
 },
 "nbformat": 4,
 "nbformat_minor": 2
}
