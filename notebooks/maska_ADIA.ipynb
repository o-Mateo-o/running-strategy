{
 "cells": [
  {
   "cell_type": "markdown",
   "id": "economic-darkness",
   "metadata": {},
   "source": [
    "# Setup"
   ]
  },
  {
   "cell_type": "code",
   "execution_count": 1,
   "id": "brilliant-invention",
   "metadata": {},
   "outputs": [],
   "source": [
    "import re\n",
    "from datetime import datetime\n",
    "\n",
    "import numpy as np\n",
    "import pandas as pd\n",
    "import seaborn as sns\n",
    "from matplotlib import pyplot as plt\n",
    "from matplotlib import rcParams\n",
    "from scipy.optimize import leastsq, root\n",
    "import os"
   ]
  },
  {
   "cell_type": "code",
   "execution_count": 2,
   "id": "patent-oxford",
   "metadata": {},
   "outputs": [],
   "source": [
    "sns.set_context(\"notebook\")\n",
    "sns.set_theme()\n",
    "sns.set_palette(\"Set3\")\n",
    "sns.set(font_scale=1.3)"
   ]
  },
  {
   "cell_type": "code",
   "execution_count": 3,
   "id": "monthly-appeal",
   "metadata": {},
   "outputs": [],
   "source": [
    "# cd .."
   ]
  },
  {
   "cell_type": "markdown",
   "id": "listed-poetry",
   "metadata": {},
   "source": [
    "# Data import & preprocess"
   ]
  },
  {
   "cell_type": "markdown",
   "id": "conservative-builder",
   "metadata": {},
   "source": [
    "## CSV outdor records import"
   ]
  },
  {
   "cell_type": "code",
   "execution_count": 4,
   "id": "special-embassy",
   "metadata": {},
   "outputs": [],
   "source": [
    "path = os.path.join('..', 'data')\n",
    "men_outdor = pd.read_csv(os.path.join(path, 'Men outdoor.csv'))\n",
    "women_outdor = pd.read_csv(os.path.join(path, 'Women outdoor.csv'))\n",
    "sprint_additional_both = pd.read_csv(os.path.join(path, 'sprint_additional.csv'))\n",
    "maciek = pd.read_csv(os.path.join(path, 'running_data.csv'))"
   ]
  },
  {
   "cell_type": "markdown",
   "id": "consecutive-postcard",
   "metadata": {},
   "source": [
    "## Frame union"
   ]
  },
  {
   "cell_type": "code",
   "execution_count": 5,
   "id": "delayed-amber",
   "metadata": {},
   "outputs": [
    {
     "data": {
      "text/html": [
       "<div>\n",
       "<style scoped>\n",
       "    .dataframe tbody tr th:only-of-type {\n",
       "        vertical-align: middle;\n",
       "    }\n",
       "\n",
       "    .dataframe tbody tr th {\n",
       "        vertical-align: top;\n",
       "    }\n",
       "\n",
       "    .dataframe thead th {\n",
       "        text-align: right;\n",
       "    }\n",
       "</style>\n",
       "<table border=\"1\" class=\"dataframe\">\n",
       "  <thead>\n",
       "    <tr style=\"text-align: right;\">\n",
       "      <th></th>\n",
       "      <th>Competitor</th>\n",
       "      <th>Country</th>\n",
       "      <th>Date</th>\n",
       "      <th>Discipline</th>\n",
       "      <th>DOB</th>\n",
       "      <th>Perf</th>\n",
       "      <th>Progression</th>\n",
       "      <th>Venue</th>\n",
       "      <th>Wind</th>\n",
       "      <th>Sex</th>\n",
       "    </tr>\n",
       "  </thead>\n",
       "  <tbody>\n",
       "    <tr>\n",
       "      <th>0</th>\n",
       "      <td>Aries MERRITT</td>\n",
       "      <td>USA</td>\n",
       "      <td>2012-09-07 00:00:00</td>\n",
       "      <td>110 Metres Hurdles</td>\n",
       "      <td>1985-07-24 00:00:00</td>\n",
       "      <td>12.80</td>\n",
       "      <td>NaN</td>\n",
       "      <td>Boudewijnstadion, Bruxelles (BEL)</td>\n",
       "      <td>'+0.3</td>\n",
       "      <td>M</td>\n",
       "    </tr>\n",
       "    <tr>\n",
       "      <th>1</th>\n",
       "      <td>Armand DUPLANTIS</td>\n",
       "      <td>SWE</td>\n",
       "      <td>2022-07-24 00:00:00</td>\n",
       "      <td>Pole Vault</td>\n",
       "      <td>1999-11-10 00:00:00</td>\n",
       "      <td>6.21</td>\n",
       "      <td>NaN</td>\n",
       "      <td>Hayward Field, Eugene, OR (USA)</td>\n",
       "      <td>NaN</td>\n",
       "      <td>M</td>\n",
       "    </tr>\n",
       "    <tr>\n",
       "      <th>2</th>\n",
       "      <td>Armand DUPLANTIS</td>\n",
       "      <td>SWE</td>\n",
       "      <td>2023-02-25 00:00:00</td>\n",
       "      <td>Pole Vault</td>\n",
       "      <td>1999-11-10 00:00:00</td>\n",
       "      <td>6.22   *(i)</td>\n",
       "      <td>NaN</td>\n",
       "      <td>Maison des Sports, Clermont-Ferrand (FRA)</td>\n",
       "      <td>NaN</td>\n",
       "      <td>M</td>\n",
       "    </tr>\n",
       "    <tr>\n",
       "      <th>3</th>\n",
       "      <td>Berihu AREGAWI</td>\n",
       "      <td>ETH</td>\n",
       "      <td>2021-12-31 00:00:00</td>\n",
       "      <td>5 Kilometres</td>\n",
       "      <td>2001-02-28 00:00:00</td>\n",
       "      <td>12:49</td>\n",
       "      <td>NaN</td>\n",
       "      <td>Barcelona (ESP)</td>\n",
       "      <td>NaN</td>\n",
       "      <td>M</td>\n",
       "    </tr>\n",
       "    <tr>\n",
       "      <th>4</th>\n",
       "      <td>Bernardo SEGURA</td>\n",
       "      <td>MEX</td>\n",
       "      <td>1994-05-07 00:00:00</td>\n",
       "      <td>20,000 Metres Race Walk</td>\n",
       "      <td>1970-02-11 00:00:00</td>\n",
       "      <td>1:17:25.6h</td>\n",
       "      <td>NaN</td>\n",
       "      <td>Fana (NOR)</td>\n",
       "      <td>NaN</td>\n",
       "      <td>M</td>\n",
       "    </tr>\n",
       "    <tr>\n",
       "      <th>5</th>\n",
       "      <td>CJ ALBERTSON</td>\n",
       "      <td>USA</td>\n",
       "      <td>2022-10-08 00:00:00</td>\n",
       "      <td>50 Kilometres</td>\n",
       "      <td>1993-10-11 00:00:00</td>\n",
       "      <td>2:38:43   *</td>\n",
       "      <td>NaN</td>\n",
       "      <td>San Francisco, CA (USA)</td>\n",
       "      <td>NaN</td>\n",
       "      <td>M</td>\n",
       "    </tr>\n",
       "    <tr>\n",
       "      <th>6</th>\n",
       "      <td>Daniel KOMEN</td>\n",
       "      <td>KEN</td>\n",
       "      <td>1996-09-01 00:00:00</td>\n",
       "      <td>3000 Metres</td>\n",
       "      <td>1976-05-17 00:00:00</td>\n",
       "      <td>7:20.67</td>\n",
       "      <td>NaN</td>\n",
       "      <td>Rieti (ITA)</td>\n",
       "      <td>NaN</td>\n",
       "      <td>M</td>\n",
       "    </tr>\n",
       "    <tr>\n",
       "      <th>7</th>\n",
       "      <td>David RUDISHA</td>\n",
       "      <td>KEN</td>\n",
       "      <td>2012-08-09 00:00:00</td>\n",
       "      <td>800 Metres</td>\n",
       "      <td>1988-12-17 00:00:00</td>\n",
       "      <td>1:40.91</td>\n",
       "      <td>NaN</td>\n",
       "      <td>Olympic Stadium, London (GBR)</td>\n",
       "      <td>NaN</td>\n",
       "      <td>M</td>\n",
       "    </tr>\n",
       "    <tr>\n",
       "      <th>8</th>\n",
       "      <td>Eliud KIPCHOGE</td>\n",
       "      <td>KEN</td>\n",
       "      <td>2022-09-25 00:00:00</td>\n",
       "      <td>Marathon</td>\n",
       "      <td>1984-11-05 00:00:00</td>\n",
       "      <td>2:01:09</td>\n",
       "      <td>NaN</td>\n",
       "      <td>Berlin (GER)</td>\n",
       "      <td>NaN</td>\n",
       "      <td>M</td>\n",
       "    </tr>\n",
       "    <tr>\n",
       "      <th>9</th>\n",
       "      <td>Hicham EL GUERROUJ</td>\n",
       "      <td>MAR</td>\n",
       "      <td>1998-07-14 00:00:00</td>\n",
       "      <td>1500 Metres</td>\n",
       "      <td>1974-09-14 00:00:00</td>\n",
       "      <td>3:26.00</td>\n",
       "      <td>NaN</td>\n",
       "      <td>Stadio Olimpico, Roma (ITA)</td>\n",
       "      <td>NaN</td>\n",
       "      <td>M</td>\n",
       "    </tr>\n",
       "    <tr>\n",
       "      <th>10</th>\n",
       "      <td>Hicham EL GUERROUJ</td>\n",
       "      <td>MAR</td>\n",
       "      <td>1999-07-07 00:00:00</td>\n",
       "      <td>One Mile</td>\n",
       "      <td>1974-09-14 00:00:00</td>\n",
       "      <td>3:43.13</td>\n",
       "      <td>NaN</td>\n",
       "      <td>Stadio Olimpico, Roma (ITA)</td>\n",
       "      <td>NaN</td>\n",
       "      <td>M</td>\n",
       "    </tr>\n",
       "    <tr>\n",
       "      <th>11</th>\n",
       "      <td>Hicham EL GUERROUJ</td>\n",
       "      <td>MAR</td>\n",
       "      <td>1999-09-07 00:00:00</td>\n",
       "      <td>2000 Metres</td>\n",
       "      <td>1974-09-14 00:00:00</td>\n",
       "      <td>4:44.79</td>\n",
       "      <td>NaN</td>\n",
       "      <td>Olympiastadion, Berlin (GER)</td>\n",
       "      <td>NaN</td>\n",
       "      <td>M</td>\n",
       "    </tr>\n",
       "    <tr>\n",
       "      <th>12</th>\n",
       "      <td>Jacob KIPLIMO</td>\n",
       "      <td>UGA</td>\n",
       "      <td>2021-11-21 00:00:00</td>\n",
       "      <td>Half Marathon</td>\n",
       "      <td>2000-11-14 00:00:00</td>\n",
       "      <td>57:31</td>\n",
       "      <td>NaN</td>\n",
       "      <td>Lisboa (POR)</td>\n",
       "      <td>NaN</td>\n",
       "      <td>M</td>\n",
       "    </tr>\n",
       "    <tr>\n",
       "      <th>13</th>\n",
       "      <td>Jamaica</td>\n",
       "      <td>JAM</td>\n",
       "      <td>2012-08-11 00:00:00</td>\n",
       "      <td>4x100 Metres Relay</td>\n",
       "      <td>NaN</td>\n",
       "      <td>36.84</td>\n",
       "      <td>NaN</td>\n",
       "      <td>Olympic Stadium, London (GBR)</td>\n",
       "      <td>NaN</td>\n",
       "      <td>M</td>\n",
       "    </tr>\n",
       "    <tr>\n",
       "      <th>14</th>\n",
       "      <td>Jamaica</td>\n",
       "      <td>JAM</td>\n",
       "      <td>2014-05-24 00:00:00</td>\n",
       "      <td>4x200 Metres Relay</td>\n",
       "      <td>NaN</td>\n",
       "      <td>1:18.63</td>\n",
       "      <td>NaN</td>\n",
       "      <td>T. Robinson Stadium, Nassau (BAH)</td>\n",
       "      <td>NaN</td>\n",
       "      <td>M</td>\n",
       "    </tr>\n",
       "    <tr>\n",
       "      <th>15</th>\n",
       "      <td>Jan ŽELEZNÝ</td>\n",
       "      <td>CZE</td>\n",
       "      <td>1996-05-25 00:00:00</td>\n",
       "      <td>Javelin Throw</td>\n",
       "      <td>1966-06-16 00:00:00</td>\n",
       "      <td>98.48</td>\n",
       "      <td>NaN</td>\n",
       "      <td>Jena (GER)</td>\n",
       "      <td>NaN</td>\n",
       "      <td>M</td>\n",
       "    </tr>\n",
       "    <tr>\n",
       "      <th>16</th>\n",
       "      <td>Javier SOTOMAYOR</td>\n",
       "      <td>CUB</td>\n",
       "      <td>1993-07-27 00:00:00</td>\n",
       "      <td>High Jump</td>\n",
       "      <td>1967-10-13 00:00:00</td>\n",
       "      <td>2.45</td>\n",
       "      <td>NaN</td>\n",
       "      <td>Salamanca (ESP)</td>\n",
       "      <td>NaN</td>\n",
       "      <td>M</td>\n",
       "    </tr>\n",
       "    <tr>\n",
       "      <th>17</th>\n",
       "      <td>Jonathan EDWARDS</td>\n",
       "      <td>GBR</td>\n",
       "      <td>1995-08-07 00:00:00</td>\n",
       "      <td>Triple Jump</td>\n",
       "      <td>1966-05-10 00:00:00</td>\n",
       "      <td>18.29</td>\n",
       "      <td>NaN</td>\n",
       "      <td>Ullevi Stadium, Göteborg (SWE)</td>\n",
       "      <td>'+1.3</td>\n",
       "      <td>M</td>\n",
       "    </tr>\n",
       "    <tr>\n",
       "      <th>18</th>\n",
       "      <td>Joshua CHEPTEGEI</td>\n",
       "      <td>UGA</td>\n",
       "      <td>2020-08-14 00:00:00</td>\n",
       "      <td>5000 Metres</td>\n",
       "      <td>1996-09-12 00:00:00</td>\n",
       "      <td>12:35.36</td>\n",
       "      <td>NaN</td>\n",
       "      <td>Stade Louis II, Monaco (MON)</td>\n",
       "      <td>NaN</td>\n",
       "      <td>M</td>\n",
       "    </tr>\n",
       "    <tr>\n",
       "      <th>19</th>\n",
       "      <td>Joshua CHEPTEGEI</td>\n",
       "      <td>UGA</td>\n",
       "      <td>2020-10-07 00:00:00</td>\n",
       "      <td>10,000 Metres</td>\n",
       "      <td>1996-09-12 00:00:00</td>\n",
       "      <td>26:11.00</td>\n",
       "      <td>NaN</td>\n",
       "      <td>Estadio de Atletismo del Turia, Valencia (ESP)</td>\n",
       "      <td>NaN</td>\n",
       "      <td>M</td>\n",
       "    </tr>\n",
       "    <tr>\n",
       "      <th>20</th>\n",
       "      <td>Jürgen SCHULT</td>\n",
       "      <td>GDR</td>\n",
       "      <td>1986-06-06 00:00:00</td>\n",
       "      <td>Discus Throw</td>\n",
       "      <td>1960-05-11 00:00:00</td>\n",
       "      <td>74.08</td>\n",
       "      <td>NaN</td>\n",
       "      <td>Neubrandenburg (GDR)</td>\n",
       "      <td>NaN</td>\n",
       "      <td>M</td>\n",
       "    </tr>\n",
       "    <tr>\n",
       "      <th>21</th>\n",
       "      <td>Karsten WARHOLM</td>\n",
       "      <td>NOR</td>\n",
       "      <td>2021-08-03 00:00:00</td>\n",
       "      <td>400 Metres Hurdles</td>\n",
       "      <td>1996-02-28 00:00:00</td>\n",
       "      <td>45.94</td>\n",
       "      <td>NaN</td>\n",
       "      <td>National Stadium, Tokyo (JPN)</td>\n",
       "      <td>NaN</td>\n",
       "      <td>M</td>\n",
       "    </tr>\n",
       "    <tr>\n",
       "      <th>22</th>\n",
       "      <td>Kenya</td>\n",
       "      <td>KEN</td>\n",
       "      <td>2005-11-23 00:00:00</td>\n",
       "      <td>Road Relay</td>\n",
       "      <td>NaN</td>\n",
       "      <td>1:57:06</td>\n",
       "      <td>NaN</td>\n",
       "      <td>Chiba (JPN)</td>\n",
       "      <td>NaN</td>\n",
       "      <td>M</td>\n",
       "    </tr>\n",
       "    <tr>\n",
       "      <th>23</th>\n",
       "      <td>Kenya</td>\n",
       "      <td>KEN</td>\n",
       "      <td>2006-08-25 00:00:00</td>\n",
       "      <td>4x800 Metres Relay</td>\n",
       "      <td>NaN</td>\n",
       "      <td>7:02.43</td>\n",
       "      <td>NaN</td>\n",
       "      <td>Boudewijnstadion, Bruxelles (BEL)</td>\n",
       "      <td>NaN</td>\n",
       "      <td>M</td>\n",
       "    </tr>\n",
       "    <tr>\n",
       "      <th>24</th>\n",
       "      <td>Kenya</td>\n",
       "      <td>KEN</td>\n",
       "      <td>2014-05-25 00:00:00</td>\n",
       "      <td>4x1500 Metres Relay</td>\n",
       "      <td>NaN</td>\n",
       "      <td>14:22.22</td>\n",
       "      <td>NaN</td>\n",
       "      <td>T. Robinson Stadium, Nassau (BAH)</td>\n",
       "      <td>NaN</td>\n",
       "      <td>M</td>\n",
       "    </tr>\n",
       "    <tr>\n",
       "      <th>25</th>\n",
       "      <td>Kevin MAYER</td>\n",
       "      <td>FRA</td>\n",
       "      <td>2018-09-16 00:00:00</td>\n",
       "      <td>Decathlon</td>\n",
       "      <td>1992-02-10 00:00:00</td>\n",
       "      <td>9126</td>\n",
       "      <td>NaN</td>\n",
       "      <td>Stade Pierre Paul Bernard, Talence (FRA)</td>\n",
       "      <td>NaN</td>\n",
       "      <td>M</td>\n",
       "    </tr>\n",
       "    <tr>\n",
       "      <th>26</th>\n",
       "      <td>Maurizio DAMILANO</td>\n",
       "      <td>ITA</td>\n",
       "      <td>1992-10-03 00:00:00</td>\n",
       "      <td>30,000 Metres Race Walk</td>\n",
       "      <td>1957-04-06 00:00:00</td>\n",
       "      <td>2:01:44.1h</td>\n",
       "      <td>NaN</td>\n",
       "      <td>Cuneo (ITA)</td>\n",
       "      <td>NaN</td>\n",
       "      <td>M</td>\n",
       "    </tr>\n",
       "    <tr>\n",
       "      <th>27</th>\n",
       "      <td>Mike POWELL</td>\n",
       "      <td>USA</td>\n",
       "      <td>1991-08-30 00:00:00</td>\n",
       "      <td>Long Jump</td>\n",
       "      <td>1963-11-10 00:00:00</td>\n",
       "      <td>8.95</td>\n",
       "      <td>NaN</td>\n",
       "      <td>National Stadium, Tokyo (JPN)</td>\n",
       "      <td>'+0.3</td>\n",
       "      <td>M</td>\n",
       "    </tr>\n",
       "    <tr>\n",
       "      <th>28</th>\n",
       "      <td>Mo FARAH</td>\n",
       "      <td>GBR</td>\n",
       "      <td>2020-09-04 00:00:00</td>\n",
       "      <td>One Hour</td>\n",
       "      <td>1983-03-23 00:00:00</td>\n",
       "      <td>21330</td>\n",
       "      <td>NaN</td>\n",
       "      <td>Boudewijnstadion, Bruxelles (BEL)</td>\n",
       "      <td>NaN</td>\n",
       "      <td>M</td>\n",
       "    </tr>\n",
       "    <tr>\n",
       "      <th>29</th>\n",
       "      <td>Nao KAZAMI</td>\n",
       "      <td>JPN</td>\n",
       "      <td>2018-06-24 00:00:00</td>\n",
       "      <td>100 Kilometres</td>\n",
       "      <td>1983-04-09 00:00:00</td>\n",
       "      <td>6:09:14</td>\n",
       "      <td>NaN</td>\n",
       "      <td>Lake Saroma (JPN)</td>\n",
       "      <td>NaN</td>\n",
       "      <td>M</td>\n",
       "    </tr>\n",
       "    <tr>\n",
       "      <th>30</th>\n",
       "      <td>Noah NGENY</td>\n",
       "      <td>KEN</td>\n",
       "      <td>1999-09-05 00:00:00</td>\n",
       "      <td>1000 Metres</td>\n",
       "      <td>1978-11-02 00:00:00</td>\n",
       "      <td>2:11.96</td>\n",
       "      <td>NaN</td>\n",
       "      <td>Rieti (ITA)</td>\n",
       "      <td>NaN</td>\n",
       "      <td>M</td>\n",
       "    </tr>\n",
       "    <tr>\n",
       "      <th>31</th>\n",
       "      <td>Rhonex KIPRUTO</td>\n",
       "      <td>KEN</td>\n",
       "      <td>2020-01-12 00:00:00</td>\n",
       "      <td>10 Kilometres</td>\n",
       "      <td>1999-10-12 00:00:00</td>\n",
       "      <td>26:24</td>\n",
       "      <td>NaN</td>\n",
       "      <td>Valencia (ESP)</td>\n",
       "      <td>NaN</td>\n",
       "      <td>M</td>\n",
       "    </tr>\n",
       "    <tr>\n",
       "      <th>32</th>\n",
       "      <td>Ryan CROUSER</td>\n",
       "      <td>USA</td>\n",
       "      <td>2021-06-18 00:00:00</td>\n",
       "      <td>Shot Put</td>\n",
       "      <td>1992-12-18 00:00:00</td>\n",
       "      <td>23.37</td>\n",
       "      <td>NaN</td>\n",
       "      <td>Hayward Field, Eugene, OR (USA)</td>\n",
       "      <td>NaN</td>\n",
       "      <td>M</td>\n",
       "    </tr>\n",
       "    <tr>\n",
       "      <th>33</th>\n",
       "      <td>Ryan CROUSER</td>\n",
       "      <td>USA</td>\n",
       "      <td>2023-02-18 00:00:00</td>\n",
       "      <td>Shot Put</td>\n",
       "      <td>1992-12-18 00:00:00</td>\n",
       "      <td>23.38   *(i)</td>\n",
       "      <td>NaN</td>\n",
       "      <td>Holt Arena, Pocatello, ID (USA)</td>\n",
       "      <td>NaN</td>\n",
       "      <td>M</td>\n",
       "    </tr>\n",
       "    <tr>\n",
       "      <th>34</th>\n",
       "      <td>Saif Saaeed SHAHEEN</td>\n",
       "      <td>QAT</td>\n",
       "      <td>2004-09-03 00:00:00</td>\n",
       "      <td>3000 Metres Steeplechase</td>\n",
       "      <td>1982-10-15 00:00:00</td>\n",
       "      <td>7:53.63</td>\n",
       "      <td>NaN</td>\n",
       "      <td>Boudewijnstadion, Bruxelles (BEL)</td>\n",
       "      <td>NaN</td>\n",
       "      <td>M</td>\n",
       "    </tr>\n",
       "    <tr>\n",
       "      <th>35</th>\n",
       "      <td>Stephen MOKOKA</td>\n",
       "      <td>RSA</td>\n",
       "      <td>2022-03-06 00:00:00</td>\n",
       "      <td>50 Kilometres</td>\n",
       "      <td>1985-01-31 00:00:00</td>\n",
       "      <td>2:40:13</td>\n",
       "      <td>NaN</td>\n",
       "      <td>Gqeberha (RSA)</td>\n",
       "      <td>NaN</td>\n",
       "      <td>M</td>\n",
       "    </tr>\n",
       "    <tr>\n",
       "      <th>36</th>\n",
       "      <td>United States</td>\n",
       "      <td>USA</td>\n",
       "      <td>1993-08-22 00:00:00</td>\n",
       "      <td>4x400 Metres Relay</td>\n",
       "      <td>NaN</td>\n",
       "      <td>2:54.29</td>\n",
       "      <td>NaN</td>\n",
       "      <td>Gottlieb-Daimler Stadion, Stuttgart (GER)</td>\n",
       "      <td>NaN</td>\n",
       "      <td>M</td>\n",
       "    </tr>\n",
       "    <tr>\n",
       "      <th>37</th>\n",
       "      <td>United States</td>\n",
       "      <td>USA</td>\n",
       "      <td>2015-05-03 00:00:00</td>\n",
       "      <td>Distance Medley Relay</td>\n",
       "      <td>NaN</td>\n",
       "      <td>9:15.50</td>\n",
       "      <td>NaN</td>\n",
       "      <td>T. Robinson Stadium, Nassau (BAH)</td>\n",
       "      <td>NaN</td>\n",
       "      <td>M</td>\n",
       "    </tr>\n",
       "    <tr>\n",
       "      <th>38</th>\n",
       "      <td>Usain BOLT</td>\n",
       "      <td>JAM</td>\n",
       "      <td>2009-08-16 00:00:00</td>\n",
       "      <td>100 Metres</td>\n",
       "      <td>1986-08-21 00:00:00</td>\n",
       "      <td>9.58</td>\n",
       "      <td>NaN</td>\n",
       "      <td>Olympiastadion, Berlin (GER)</td>\n",
       "      <td>'+0.9</td>\n",
       "      <td>M</td>\n",
       "    </tr>\n",
       "    <tr>\n",
       "      <th>39</th>\n",
       "      <td>Usain BOLT</td>\n",
       "      <td>JAM</td>\n",
       "      <td>2009-08-20 00:00:00</td>\n",
       "      <td>200 Metres</td>\n",
       "      <td>1986-08-21 00:00:00</td>\n",
       "      <td>19.19</td>\n",
       "      <td>NaN</td>\n",
       "      <td>Olympiastadion, Berlin (GER)</td>\n",
       "      <td>'-0.3</td>\n",
       "      <td>M</td>\n",
       "    </tr>\n",
       "    <tr>\n",
       "      <th>40</th>\n",
       "      <td>Wayde VAN NIEKERK</td>\n",
       "      <td>RSA</td>\n",
       "      <td>2016-08-14 00:00:00</td>\n",
       "      <td>400 Metres</td>\n",
       "      <td>1992-07-15 00:00:00</td>\n",
       "      <td>43.03</td>\n",
       "      <td>NaN</td>\n",
       "      <td>Estádio Olímpico, Rio de Janeiro (BRA)</td>\n",
       "      <td>NaN</td>\n",
       "      <td>M</td>\n",
       "    </tr>\n",
       "    <tr>\n",
       "      <th>41</th>\n",
       "      <td>Yohann DINIZ</td>\n",
       "      <td>FRA</td>\n",
       "      <td>2011-03-12 00:00:00</td>\n",
       "      <td>50,000 Metres Race Walk</td>\n",
       "      <td>1978-01-01 00:00:00</td>\n",
       "      <td>3:35:27.2h</td>\n",
       "      <td>NaN</td>\n",
       "      <td>Reims (FRA)</td>\n",
       "      <td>NaN</td>\n",
       "      <td>M</td>\n",
       "    </tr>\n",
       "    <tr>\n",
       "      <th>42</th>\n",
       "      <td>Yohann DINIZ</td>\n",
       "      <td>FRA</td>\n",
       "      <td>2014-08-15 00:00:00</td>\n",
       "      <td>50 Kilometres Race Walk</td>\n",
       "      <td>1978-01-01 00:00:00</td>\n",
       "      <td>3:32:33</td>\n",
       "      <td>NaN</td>\n",
       "      <td>Letzigrund, Zürich (SUI)</td>\n",
       "      <td>NaN</td>\n",
       "      <td>M</td>\n",
       "    </tr>\n",
       "    <tr>\n",
       "      <th>43</th>\n",
       "      <td>Yuriy SEDYKH</td>\n",
       "      <td>URS</td>\n",
       "      <td>1986-08-30 00:00:00</td>\n",
       "      <td>Hammer Throw</td>\n",
       "      <td>1955-06-11 00:00:00</td>\n",
       "      <td>86.74</td>\n",
       "      <td>NaN</td>\n",
       "      <td>Neckarstadion, Stuttgart (GER)</td>\n",
       "      <td>NaN</td>\n",
       "      <td>M</td>\n",
       "    </tr>\n",
       "    <tr>\n",
       "      <th>44</th>\n",
       "      <td>Yusuke SUZUKI</td>\n",
       "      <td>JPN</td>\n",
       "      <td>2015-03-15 00:00:00</td>\n",
       "      <td>20 Kilometres Race Walk</td>\n",
       "      <td>1988-01-02 00:00:00</td>\n",
       "      <td>1:16:36</td>\n",
       "      <td>NaN</td>\n",
       "      <td>Nomi (JPN)</td>\n",
       "      <td>NaN</td>\n",
       "      <td>M</td>\n",
       "    </tr>\n",
       "  </tbody>\n",
       "</table>\n",
       "</div>"
      ],
      "text/plain": [
       "             Competitor Country                 Date  \\\n",
       "0         Aries MERRITT     USA  2012-09-07 00:00:00   \n",
       "1      Armand DUPLANTIS     SWE  2022-07-24 00:00:00   \n",
       "2      Armand DUPLANTIS     SWE  2023-02-25 00:00:00   \n",
       "3        Berihu AREGAWI     ETH  2021-12-31 00:00:00   \n",
       "4       Bernardo SEGURA     MEX  1994-05-07 00:00:00   \n",
       "5          CJ ALBERTSON     USA  2022-10-08 00:00:00   \n",
       "6          Daniel KOMEN     KEN  1996-09-01 00:00:00   \n",
       "7         David RUDISHA     KEN  2012-08-09 00:00:00   \n",
       "8        Eliud KIPCHOGE     KEN  2022-09-25 00:00:00   \n",
       "9    Hicham EL GUERROUJ     MAR  1998-07-14 00:00:00   \n",
       "10   Hicham EL GUERROUJ     MAR  1999-07-07 00:00:00   \n",
       "11   Hicham EL GUERROUJ     MAR  1999-09-07 00:00:00   \n",
       "12        Jacob KIPLIMO     UGA  2021-11-21 00:00:00   \n",
       "13              Jamaica     JAM  2012-08-11 00:00:00   \n",
       "14              Jamaica     JAM  2014-05-24 00:00:00   \n",
       "15          Jan ŽELEZNÝ     CZE  1996-05-25 00:00:00   \n",
       "16     Javier SOTOMAYOR     CUB  1993-07-27 00:00:00   \n",
       "17     Jonathan EDWARDS     GBR  1995-08-07 00:00:00   \n",
       "18     Joshua CHEPTEGEI     UGA  2020-08-14 00:00:00   \n",
       "19     Joshua CHEPTEGEI     UGA  2020-10-07 00:00:00   \n",
       "20        Jürgen SCHULT     GDR  1986-06-06 00:00:00   \n",
       "21      Karsten WARHOLM     NOR  2021-08-03 00:00:00   \n",
       "22                Kenya     KEN  2005-11-23 00:00:00   \n",
       "23                Kenya     KEN  2006-08-25 00:00:00   \n",
       "24                Kenya     KEN  2014-05-25 00:00:00   \n",
       "25          Kevin MAYER     FRA  2018-09-16 00:00:00   \n",
       "26    Maurizio DAMILANO     ITA  1992-10-03 00:00:00   \n",
       "27          Mike POWELL     USA  1991-08-30 00:00:00   \n",
       "28             Mo FARAH     GBR  2020-09-04 00:00:00   \n",
       "29           Nao KAZAMI     JPN  2018-06-24 00:00:00   \n",
       "30           Noah NGENY     KEN  1999-09-05 00:00:00   \n",
       "31       Rhonex KIPRUTO     KEN  2020-01-12 00:00:00   \n",
       "32         Ryan CROUSER     USA  2021-06-18 00:00:00   \n",
       "33         Ryan CROUSER     USA  2023-02-18 00:00:00   \n",
       "34  Saif Saaeed SHAHEEN     QAT  2004-09-03 00:00:00   \n",
       "35       Stephen MOKOKA     RSA  2022-03-06 00:00:00   \n",
       "36        United States     USA  1993-08-22 00:00:00   \n",
       "37        United States     USA  2015-05-03 00:00:00   \n",
       "38           Usain BOLT     JAM  2009-08-16 00:00:00   \n",
       "39           Usain BOLT     JAM  2009-08-20 00:00:00   \n",
       "40    Wayde VAN NIEKERK     RSA  2016-08-14 00:00:00   \n",
       "41         Yohann DINIZ     FRA  2011-03-12 00:00:00   \n",
       "42         Yohann DINIZ     FRA  2014-08-15 00:00:00   \n",
       "43         Yuriy SEDYKH     URS  1986-08-30 00:00:00   \n",
       "44        Yusuke SUZUKI     JPN  2015-03-15 00:00:00   \n",
       "\n",
       "                  Discipline                  DOB          Perf  Progression  \\\n",
       "0         110 Metres Hurdles  1985-07-24 00:00:00         12.80          NaN   \n",
       "1                 Pole Vault  1999-11-10 00:00:00          6.21          NaN   \n",
       "2                 Pole Vault  1999-11-10 00:00:00   6.22   *(i)          NaN   \n",
       "3               5 Kilometres  2001-02-28 00:00:00         12:49          NaN   \n",
       "4    20,000 Metres Race Walk  1970-02-11 00:00:00    1:17:25.6h          NaN   \n",
       "5              50 Kilometres  1993-10-11 00:00:00   2:38:43   *          NaN   \n",
       "6                3000 Metres  1976-05-17 00:00:00       7:20.67          NaN   \n",
       "7                 800 Metres  1988-12-17 00:00:00       1:40.91          NaN   \n",
       "8                   Marathon  1984-11-05 00:00:00       2:01:09          NaN   \n",
       "9                1500 Metres  1974-09-14 00:00:00       3:26.00          NaN   \n",
       "10                  One Mile  1974-09-14 00:00:00       3:43.13          NaN   \n",
       "11               2000 Metres  1974-09-14 00:00:00       4:44.79          NaN   \n",
       "12             Half Marathon  2000-11-14 00:00:00         57:31          NaN   \n",
       "13        4x100 Metres Relay                  NaN         36.84          NaN   \n",
       "14        4x200 Metres Relay                  NaN       1:18.63          NaN   \n",
       "15             Javelin Throw  1966-06-16 00:00:00         98.48          NaN   \n",
       "16                 High Jump  1967-10-13 00:00:00          2.45          NaN   \n",
       "17               Triple Jump  1966-05-10 00:00:00         18.29          NaN   \n",
       "18               5000 Metres  1996-09-12 00:00:00      12:35.36          NaN   \n",
       "19             10,000 Metres  1996-09-12 00:00:00      26:11.00          NaN   \n",
       "20              Discus Throw  1960-05-11 00:00:00         74.08          NaN   \n",
       "21        400 Metres Hurdles  1996-02-28 00:00:00         45.94          NaN   \n",
       "22                Road Relay                  NaN       1:57:06          NaN   \n",
       "23        4x800 Metres Relay                  NaN       7:02.43          NaN   \n",
       "24       4x1500 Metres Relay                  NaN      14:22.22          NaN   \n",
       "25                 Decathlon  1992-02-10 00:00:00          9126          NaN   \n",
       "26   30,000 Metres Race Walk  1957-04-06 00:00:00    2:01:44.1h          NaN   \n",
       "27                 Long Jump  1963-11-10 00:00:00          8.95          NaN   \n",
       "28                  One Hour  1983-03-23 00:00:00         21330          NaN   \n",
       "29            100 Kilometres  1983-04-09 00:00:00       6:09:14          NaN   \n",
       "30               1000 Metres  1978-11-02 00:00:00       2:11.96          NaN   \n",
       "31             10 Kilometres  1999-10-12 00:00:00         26:24          NaN   \n",
       "32                  Shot Put  1992-12-18 00:00:00         23.37          NaN   \n",
       "33                  Shot Put  1992-12-18 00:00:00  23.38   *(i)          NaN   \n",
       "34  3000 Metres Steeplechase  1982-10-15 00:00:00       7:53.63          NaN   \n",
       "35             50 Kilometres  1985-01-31 00:00:00       2:40:13          NaN   \n",
       "36        4x400 Metres Relay                  NaN       2:54.29          NaN   \n",
       "37     Distance Medley Relay                  NaN       9:15.50          NaN   \n",
       "38                100 Metres  1986-08-21 00:00:00          9.58          NaN   \n",
       "39                200 Metres  1986-08-21 00:00:00         19.19          NaN   \n",
       "40                400 Metres  1992-07-15 00:00:00         43.03          NaN   \n",
       "41   50,000 Metres Race Walk  1978-01-01 00:00:00    3:35:27.2h          NaN   \n",
       "42   50 Kilometres Race Walk  1978-01-01 00:00:00       3:32:33          NaN   \n",
       "43              Hammer Throw  1955-06-11 00:00:00         86.74          NaN   \n",
       "44   20 Kilometres Race Walk  1988-01-02 00:00:00       1:16:36          NaN   \n",
       "\n",
       "                                             Venue   Wind Sex  \n",
       "0                Boudewijnstadion, Bruxelles (BEL)  '+0.3   M  \n",
       "1                  Hayward Field, Eugene, OR (USA)    NaN   M  \n",
       "2        Maison des Sports, Clermont-Ferrand (FRA)    NaN   M  \n",
       "3                                  Barcelona (ESP)    NaN   M  \n",
       "4                                       Fana (NOR)    NaN   M  \n",
       "5                          San Francisco, CA (USA)    NaN   M  \n",
       "6                                      Rieti (ITA)    NaN   M  \n",
       "7                    Olympic Stadium, London (GBR)    NaN   M  \n",
       "8                                     Berlin (GER)    NaN   M  \n",
       "9                      Stadio Olimpico, Roma (ITA)    NaN   M  \n",
       "10                     Stadio Olimpico, Roma (ITA)    NaN   M  \n",
       "11                    Olympiastadion, Berlin (GER)    NaN   M  \n",
       "12                                    Lisboa (POR)    NaN   M  \n",
       "13                   Olympic Stadium, London (GBR)    NaN   M  \n",
       "14               T. Robinson Stadium, Nassau (BAH)    NaN   M  \n",
       "15                                      Jena (GER)    NaN   M  \n",
       "16                                 Salamanca (ESP)    NaN   M  \n",
       "17                  Ullevi Stadium, Göteborg (SWE)  '+1.3   M  \n",
       "18                    Stade Louis II, Monaco (MON)    NaN   M  \n",
       "19  Estadio de Atletismo del Turia, Valencia (ESP)    NaN   M  \n",
       "20                            Neubrandenburg (GDR)    NaN   M  \n",
       "21                   National Stadium, Tokyo (JPN)    NaN   M  \n",
       "22                                     Chiba (JPN)    NaN   M  \n",
       "23               Boudewijnstadion, Bruxelles (BEL)    NaN   M  \n",
       "24               T. Robinson Stadium, Nassau (BAH)    NaN   M  \n",
       "25        Stade Pierre Paul Bernard, Talence (FRA)    NaN   M  \n",
       "26                                     Cuneo (ITA)    NaN   M  \n",
       "27                   National Stadium, Tokyo (JPN)  '+0.3   M  \n",
       "28               Boudewijnstadion, Bruxelles (BEL)    NaN   M  \n",
       "29                               Lake Saroma (JPN)    NaN   M  \n",
       "30                                     Rieti (ITA)    NaN   M  \n",
       "31                                  Valencia (ESP)    NaN   M  \n",
       "32                 Hayward Field, Eugene, OR (USA)    NaN   M  \n",
       "33                 Holt Arena, Pocatello, ID (USA)    NaN   M  \n",
       "34               Boudewijnstadion, Bruxelles (BEL)    NaN   M  \n",
       "35                                  Gqeberha (RSA)    NaN   M  \n",
       "36       Gottlieb-Daimler Stadion, Stuttgart (GER)    NaN   M  \n",
       "37               T. Robinson Stadium, Nassau (BAH)    NaN   M  \n",
       "38                    Olympiastadion, Berlin (GER)  '+0.9   M  \n",
       "39                    Olympiastadion, Berlin (GER)  '-0.3   M  \n",
       "40          Estádio Olímpico, Rio de Janeiro (BRA)    NaN   M  \n",
       "41                                     Reims (FRA)    NaN   M  \n",
       "42                        Letzigrund, Zürich (SUI)    NaN   M  \n",
       "43                  Neckarstadion, Stuttgart (GER)    NaN   M  \n",
       "44                                      Nomi (JPN)    NaN   M  "
      ]
     },
     "execution_count": 5,
     "metadata": {},
     "output_type": "execute_result"
    }
   ],
   "source": [
    "men_outdor[\"Sex\"] = \"M\"\n",
    "women_outdor[\"Sex\"] = \"F\"\n",
    "records_all = pd.concat([men_outdor, women_outdor, sprint_additional_both])\n",
    "men_outdor"
   ]
  },
  {
   "cell_type": "markdown",
   "id": "coastal-fruit",
   "metadata": {},
   "source": [
    "## Filter for running"
   ]
  },
  {
   "cell_type": "code",
   "execution_count": 6,
   "id": "alpine-california",
   "metadata": {},
   "outputs": [],
   "source": [
    "def is_running_discip(name: str) -> bool:\n",
    "    return bool(re.findall(\"(?i)metres?$|mile?$|marathon$\", name))"
   ]
  },
  {
   "cell_type": "code",
   "execution_count": 7,
   "id": "attended-delhi",
   "metadata": {},
   "outputs": [],
   "source": [
    "records_run = records_all[records_all[\"Discipline\"].apply(is_running_discip)]"
   ]
  },
  {
   "cell_type": "markdown",
   "id": "atmospheric-gather",
   "metadata": {},
   "source": [
    "## The first record and the lastest update"
   ]
  },
  {
   "cell_type": "markdown",
   "id": "minimal-authority",
   "metadata": {},
   "source": [
    "__It's and additional piece of info__"
   ]
  },
  {
   "cell_type": "code",
   "execution_count": 8,
   "id": "developing-montana",
   "metadata": {},
   "outputs": [
    {
     "data": {
      "text/plain": [
       "(1965, 2023)"
      ]
     },
     "execution_count": 8,
     "metadata": {},
     "output_type": "execute_result"
    }
   ],
   "source": [
    "timestamps = pd.to_datetime(records_run[\"Date\"])\n",
    "timestamps.min().year, timestamps.max().year"
   ]
  },
  {
   "cell_type": "markdown",
   "id": "similar-standing",
   "metadata": {},
   "source": [
    "## Data selection"
   ]
  },
  {
   "cell_type": "code",
   "execution_count": 9,
   "id": "personalized-ballot",
   "metadata": {},
   "outputs": [],
   "source": [
    "records_select = records_run[[\"Discipline\", \"Perf\", \"Sex\"]].copy()\n",
    "records_select = records_select.astype(\"string\")"
   ]
  },
  {
   "cell_type": "markdown",
   "id": "automotive-effectiveness",
   "metadata": {},
   "source": [
    "## Data cleansing"
   ]
  },
  {
   "cell_type": "markdown",
   "id": "handed-associate",
   "metadata": {},
   "source": [
    "### Time in seconds"
   ]
  },
  {
   "cell_type": "markdown",
   "id": "brutal-slovenia",
   "metadata": {},
   "source": [
    "#### Cleanse the performace to leave only numbers, and separators."
   ]
  },
  {
   "cell_type": "code",
   "execution_count": 10,
   "id": "applicable-reason",
   "metadata": {},
   "outputs": [],
   "source": [
    "str_times = records_select[\"Perf\"].apply(\n",
    "    lambda perf: \"\".join(re.findall(r\"[\\d+\\.:]\", perf))\n",
    ")"
   ]
  },
  {
   "cell_type": "markdown",
   "id": "buried-voice",
   "metadata": {},
   "source": [
    "#### Time getter function and its call."
   ]
  },
  {
   "cell_type": "code",
   "execution_count": 11,
   "id": "heated-police",
   "metadata": {},
   "outputs": [],
   "source": [
    "def str_to_seconds(str_time):\n",
    "    zero_time = datetime(1900, 1, 1)\n",
    "    patterns = [\"%H:%M:%S\", \"%M:%S\", \"%M:%S.%f\", \"%S.%f\"]\n",
    "    for pattern in patterns:\n",
    "        try:\n",
    "            time = datetime.strptime(str_time, pattern)\n",
    "            delta = time - zero_time\n",
    "            return delta.total_seconds()\n",
    "        except ValueError:\n",
    "            continue"
   ]
  },
  {
   "cell_type": "code",
   "execution_count": 12,
   "id": "toxic-reporter",
   "metadata": {},
   "outputs": [],
   "source": [
    "records_select[\"T\"] = str_times.apply(str_to_seconds)"
   ]
  },
  {
   "cell_type": "markdown",
   "id": "primary-taiwan",
   "metadata": {},
   "source": [
    "#### Is anything null left?"
   ]
  },
  {
   "cell_type": "code",
   "execution_count": 13,
   "id": "occasional-plymouth",
   "metadata": {},
   "outputs": [
    {
     "data": {
      "text/plain": [
       "False"
      ]
     },
     "execution_count": 13,
     "metadata": {},
     "output_type": "execute_result"
    }
   ],
   "source": [
    "records_select[\"T\"].isnull().any()"
   ]
  },
  {
   "cell_type": "markdown",
   "id": "hollow-malpractice",
   "metadata": {},
   "source": [
    "### Distance in meters"
   ]
  },
  {
   "cell_type": "markdown",
   "id": "sensitive-reference",
   "metadata": {},
   "source": [
    "#### Get the distaces from discipline name."
   ]
  },
  {
   "cell_type": "code",
   "execution_count": 14,
   "id": "judicial-satisfaction",
   "metadata": {},
   "outputs": [],
   "source": [
    "str_distances = records_select[\"Discipline\"]"
   ]
  },
  {
   "cell_type": "markdown",
   "id": "statewide-poetry",
   "metadata": {},
   "source": [
    "#### Define how multipliers would be translated."
   ]
  },
  {
   "cell_type": "code",
   "execution_count": 15,
   "id": "reserved-laundry",
   "metadata": {},
   "outputs": [],
   "source": [
    "multipliers = {\n",
    "    \"kilometre\": 1000,\n",
    "    \"metre\": 1,\n",
    "    \"mile\": 1609.344,\n",
    "    \"marathon\": 42195,\n",
    "    \"half\": 0.5,\n",
    "    \"one\": 1,\n",
    "}"
   ]
  },
  {
   "cell_type": "markdown",
   "id": "catholic-pharmaceutical",
   "metadata": {},
   "source": [
    "#### Distance translator function and its call."
   ]
  },
  {
   "cell_type": "code",
   "execution_count": 16,
   "id": "amino-replacement",
   "metadata": {},
   "outputs": [],
   "source": [
    "def str_to_meters(str_distance):\n",
    "    unit_raw = re.findall(\"(?i)kilometre|metre|mile|marathon\", str_distance)  # unit\n",
    "    modifier_raw = re.findall(\"(?i)one|half\", str_distance)  # modifier\n",
    "    number_raw = re.findall(\"\\d+\", str_distance)  # number\n",
    "    unit = multipliers[unit_raw[0].lower()]\n",
    "    try:\n",
    "        modifier = multipliers[modifier_raw[0].lower()]\n",
    "    except IndexError:\n",
    "        modifier = 1\n",
    "    try:\n",
    "        if len(number_raw) > 0:\n",
    "            number_raw_str = \"\".join(number_raw)\n",
    "        else:\n",
    "            number_raw_str = number_raw[0]\n",
    "        number = int(number_raw_str)\n",
    "    except IndexError:\n",
    "        number = 1\n",
    "    return number * unit * modifier"
   ]
  },
  {
   "cell_type": "code",
   "execution_count": 17,
   "id": "charming-store",
   "metadata": {},
   "outputs": [],
   "source": [
    "records_select[\"D\"] = str_distances.apply(str_to_meters)"
   ]
  },
  {
   "cell_type": "markdown",
   "id": "casual-calibration",
   "metadata": {},
   "source": [
    "#### Is anything null left?"
   ]
  },
  {
   "cell_type": "code",
   "execution_count": 18,
   "id": "signal-arrow",
   "metadata": {},
   "outputs": [
    {
     "data": {
      "text/plain": [
       "False"
      ]
     },
     "execution_count": 18,
     "metadata": {},
     "output_type": "execute_result"
    }
   ],
   "source": [
    "records_select[\"D\"].isnull().any()"
   ]
  },
  {
   "cell_type": "markdown",
   "id": "visible-revision",
   "metadata": {},
   "source": [
    "## Final data selection"
   ]
  },
  {
   "cell_type": "markdown",
   "id": "advised-kruger",
   "metadata": {},
   "source": [
    "### Dropping distance duplicates."
   ]
  },
  {
   "cell_type": "code",
   "execution_count": 19,
   "id": "whole-rocket",
   "metadata": {},
   "outputs": [],
   "source": [
    "records_select.sort_values(\"T\", ascending=False, inplace=True)\n",
    "records_select.drop_duplicates([\"D\", \"Sex\"], keep=\"first\", inplace=True)"
   ]
  },
  {
   "cell_type": "markdown",
   "id": "altered-garbage",
   "metadata": {},
   "source": [
    "### Selecting columns."
   ]
  },
  {
   "cell_type": "code",
   "execution_count": 20,
   "id": "united-torture",
   "metadata": {},
   "outputs": [
    {
     "data": {
      "text/html": [
       "<div>\n",
       "<style scoped>\n",
       "    .dataframe tbody tr th:only-of-type {\n",
       "        vertical-align: middle;\n",
       "    }\n",
       "\n",
       "    .dataframe tbody tr th {\n",
       "        vertical-align: top;\n",
       "    }\n",
       "\n",
       "    .dataframe thead th {\n",
       "        text-align: right;\n",
       "    }\n",
       "</style>\n",
       "<table border=\"1\" class=\"dataframe\">\n",
       "  <thead>\n",
       "    <tr style=\"text-align: right;\">\n",
       "      <th></th>\n",
       "      <th>D</th>\n",
       "      <th>T</th>\n",
       "      <th>Sex</th>\n",
       "    </tr>\n",
       "  </thead>\n",
       "  <tbody>\n",
       "    <tr>\n",
       "      <th>0</th>\n",
       "      <td>100000.0</td>\n",
       "      <td>23591.0</td>\n",
       "      <td>F</td>\n",
       "    </tr>\n",
       "    <tr>\n",
       "      <th>1</th>\n",
       "      <td>100000.0</td>\n",
       "      <td>22154.0</td>\n",
       "      <td>M</td>\n",
       "    </tr>\n",
       "    <tr>\n",
       "      <th>2</th>\n",
       "      <td>50000.0</td>\n",
       "      <td>11064.0</td>\n",
       "      <td>F</td>\n",
       "    </tr>\n",
       "    <tr>\n",
       "      <th>3</th>\n",
       "      <td>50000.0</td>\n",
       "      <td>9613.0</td>\n",
       "      <td>M</td>\n",
       "    </tr>\n",
       "    <tr>\n",
       "      <th>4</th>\n",
       "      <td>42195.0</td>\n",
       "      <td>8221.0</td>\n",
       "      <td>F</td>\n",
       "    </tr>\n",
       "  </tbody>\n",
       "</table>\n",
       "</div>"
      ],
      "text/plain": [
       "          D        T Sex\n",
       "0  100000.0  23591.0   F\n",
       "1  100000.0  22154.0   M\n",
       "2   50000.0  11064.0   F\n",
       "3   50000.0   9613.0   M\n",
       "4   42195.0   8221.0   F"
      ]
     },
     "execution_count": 20,
     "metadata": {},
     "output_type": "execute_result"
    }
   ],
   "source": [
    "records = records_select[[\"D\", \"T\", \"Sex\"]].copy()\n",
    "records.reset_index(drop=True, inplace=True)\n",
    "records.head()"
   ]
  },
  {
   "cell_type": "markdown",
   "id": "alive-comedy",
   "metadata": {},
   "source": [
    "### Adding measures"
   ]
  },
  {
   "cell_type": "code",
   "execution_count": 21,
   "id": "welcome-current",
   "metadata": {},
   "outputs": [],
   "source": [
    "records[\"pace\"] = (records[\"T\"] / 60) / (records[\"D\"] / 1000)"
   ]
  },
  {
   "cell_type": "markdown",
   "id": "conventional-monday",
   "metadata": {},
   "source": [
    "## Model fit - approximated"
   ]
  },
  {
   "cell_type": "markdown",
   "id": "relevant-laser",
   "metadata": {},
   "source": [
    "### First phase"
   ]
  },
  {
   "cell_type": "code",
   "execution_count": 22,
   "id": "anonymous-charles",
   "metadata": {},
   "outputs": [],
   "source": [
    "T_short = lambda D, tau, F: D / F / tau + tau"
   ]
  },
  {
   "cell_type": "markdown",
   "id": "specific-verse",
   "metadata": {},
   "source": [
    "### The rest"
   ]
  },
  {
   "cell_type": "code",
   "execution_count": 23,
   "id": "simple-rotation",
   "metadata": {},
   "outputs": [],
   "source": [
    "T_long = (\n",
    "    lambda D, E0, sigma, tau, F: (np.sqrt(E0 ** 2 + 4 * sigma * D ** 2 / tau) - E0)\n",
    "    / sigma\n",
    "    / 2\n",
    ")"
   ]
  },
  {
   "cell_type": "markdown",
   "id": "eastern-article",
   "metadata": {},
   "source": [
    "### Combined"
   ]
  },
  {
   "cell_type": "code",
   "execution_count": 24,
   "id": "wired-tourist",
   "metadata": {},
   "outputs": [],
   "source": [
    "def fit_params_up_to_10km(records_df, discont_penal, old_mass=63.78, new_mass=63.78):\n",
    "    short_records = records_df[records_df[\"D\"] <= 170].sort_values(\"T\")\n",
    "    long_records = records_df[\n",
    "        (records_df[\"D\"] >= 170) & (records_df[\"D\"] <= 10000)\n",
    "    ].sort_values(\"T\")\n",
    "\n",
    "    def T_short_resid(p, D, T):\n",
    "        return T - T_short(D, p[0], p[1])\n",
    "\n",
    "    short_popt, short_pcov = leastsq(\n",
    "        T_short_resid, args=(short_records[\"D\"], short_records[\"T\"]), x0=(1, 12)\n",
    "    )\n",
    "    \n",
    "    tau, F = short_popt\n",
    "    F=F*old_mass/new_mass\n",
    "    \n",
    "    T_estim_short_for_200m = T_short(200, tau, F)\n",
    "\n",
    "    def T_long_resid(p, D, T):\n",
    "        penalty = (\n",
    "            np.abs(T_long(D, p[0], p[1], tau, F).iloc[0] - T_estim_short_for_200m)\n",
    "            * discont_penal\n",
    "        )\n",
    "        return T - T_long(D, p[0], p[1], tau, F) + penalty\n",
    "\n",
    "    long_popt, long_pcov = leastsq(\n",
    "        func=T_long_resid, args=(long_records[\"D\"], long_records[\"T\"]), x0=(2000, 40)\n",
    "    )\n",
    "    E0, sigma = long_popt\n",
    "    return E0, sigma*old_mass/new_mass, tau, F"
   ]
  },
  {
   "cell_type": "code",
   "execution_count": 25,
   "id": "pregnant-avatar",
   "metadata": {
    "tags": []
   },
   "outputs": [],
   "source": [
    "def estim_D_up_to_10km(records_df, discon_penal=0, old_mass=63.78, new_mass=63.78):\n",
    "    E0, sigma, tau, F = fit_params_up_to_10km(records_df, discon_penal, old_mass, new_mass)\n",
    "    D_range_short = np.arange(0, 210, 10)\n",
    "    D_range_long = np.arange(200, 10000, 10)\n",
    "    T_short_estims = T_short(D_range_short, tau, F)\n",
    "    T_long_estims = T_long(D_range_long, E0, sigma, tau, F)\n",
    "    D_range = np.concatenate([D_range_short, D_range_long])\n",
    "    T_range = np.concatenate([T_short_estims, T_long_estims])\n",
    "    return D_range, T_range, {\"E0\": E0, \"sigma\": sigma, \"tau\": tau, \"F\": F}"
   ]
  },
  {
   "cell_type": "markdown",
   "id": "earlier-cooper",
   "metadata": {},
   "source": [
    "### MASA I KIEŁBASA"
   ]
  },
  {
   "cell_type": "code",
   "execution_count": 26,
   "id": "specific-printing",
   "metadata": {},
   "outputs": [],
   "source": [
    "m_D_estim, m_T_estim, m_params = estim_D_up_to_10km(\n",
    "    records[records[\"Sex\"] == \"M\"], discon_penal=0\n",
    ")\n",
    "f_D_estim, f_T_estim, f_params = estim_D_up_to_10km(\n",
    "    records[records[\"Sex\"] == \"F\"], discon_penal=0\n",
    ")\n",
    "m_D_estim_cont, m_T_estim_cont, m_params_cont = estim_D_up_to_10km(\n",
    "    records[records[\"Sex\"] == \"M\"], discon_penal=100\n",
    ")\n",
    "f_D_estim_cont, f_T_estim_cont, f_params_cont = estim_D_up_to_10km(\n",
    "    records[records[\"Sex\"] == \"F\"], discon_penal=100\n",
    ")"
   ]
  },
  {
   "cell_type": "code",
   "execution_count": 27,
   "id": "skilled-spiritual",
   "metadata": {},
   "outputs": [],
   "source": [
    "m_D_estim_b, m_T_estim_b, m_params_b = estim_D_up_to_10km(\n",
    "    records[records[\"Sex\"] == \"M\"], discon_penal=0, new_mass=120\n",
    ")\n",
    "f_D_estim_b, f_T_estim_b, f_params_b = estim_D_up_to_10km(\n",
    "    records[records[\"Sex\"] == \"F\"], discon_penal=0, old_mass = 51.11, new_mass=100\n",
    ")\n",
    "m_D_estim_cont_b, m_T_estim_cont_b, m_params_cont_b = estim_D_up_to_10km(\n",
    "    records[records[\"Sex\"] == \"M\"], discon_penal=100, new_mass=120\n",
    ")\n",
    "f_D_estim_cont_b, f_T_estim_cont_b, f_params_cont_b = estim_D_up_to_10km(\n",
    "    records[records[\"Sex\"] == \"F\"], discon_penal=100, old_mass = 51.11, new_mass=100\n",
    ")"
   ]
  },
  {
   "cell_type": "code",
   "execution_count": 28,
   "id": "hybrid-pencil",
   "metadata": {},
   "outputs": [],
   "source": [
    "m_D_estim_s, m_T_estim_s, m_params_s = estim_D_up_to_10km(\n",
    "    records[records[\"Sex\"] == \"M\"], discon_penal=0, new_mass=50\n",
    ")\n",
    "f_D_estim_s, f_T_estim_s, f_params_s = estim_D_up_to_10km(\n",
    "    records[records[\"Sex\"] == \"F\"], discon_penal=0, old_mass = 51.11, new_mass=40\n",
    ")\n",
    "m_D_estim_cont_s, m_T_estim_cont_s, m_params_cont_s = estim_D_up_to_10km(\n",
    "    records[records[\"Sex\"] == \"M\"], discon_penal=100, new_mass=50\n",
    ")\n",
    "f_D_estim_cont_s, f_T_estim_cont_s, f_params_cont_s = estim_D_up_to_10km(\n",
    "    records[records[\"Sex\"] == \"F\"], discon_penal=100, old_mass = 51.11, new_mass=40\n",
    ")"
   ]
  },
  {
   "cell_type": "code",
   "execution_count": 29,
   "id": "arranged-brand",
   "metadata": {},
   "outputs": [],
   "source": [
    "man_records = records[records[\"Sex\"] == \"M\"]\n",
    "woman_records = records[records[\"Sex\"] == \"F\"]"
   ]
  },
  {
   "cell_type": "code",
   "execution_count": 30,
   "id": "disturbed-copper",
   "metadata": {},
   "outputs": [],
   "source": [
    "# sns.scatterplot( \n",
    "#     data=man_records,\n",
    "#     x=\"D\",\n",
    "#     y=\"T\")\n",
    "# plt.plot(m_D_estim_s, m_T_estim_s)\n",
    "# plt.plot(m_D_estim_b, m_T_estim_b)\n",
    "# plt.plot(m_D_estim, m_T_estim)\n",
    "# plt.xlim(0, 11000)\n",
    "# plt.ylim(0, 3000)"
   ]
  },
  {
   "cell_type": "code",
   "execution_count": 31,
   "id": "built-paint",
   "metadata": {},
   "outputs": [],
   "source": [
    "# sns.scatterplot( \n",
    "#     data=woman_records,\n",
    "#     x=\"D\",\n",
    "#     y=\"T\")\n",
    "# plt.plot(f_D_estim_s, f_T_estim_s)\n",
    "# plt.plot(f_D_estim_b, f_T_estim_b)\n",
    "# plt.plot(f_D_estim, f_T_estim)\n",
    "# plt.xlim(0, 11000)\n",
    "# plt.ylim(0, 3000)"
   ]
  },
  {
   "cell_type": "code",
   "execution_count": 32,
   "id": "thick-elimination",
   "metadata": {},
   "outputs": [
    {
     "data": {
      "text/html": [
       "<div>\n",
       "<style scoped>\n",
       "    .dataframe tbody tr th:only-of-type {\n",
       "        vertical-align: middle;\n",
       "    }\n",
       "\n",
       "    .dataframe tbody tr th {\n",
       "        vertical-align: top;\n",
       "    }\n",
       "\n",
       "    .dataframe thead th {\n",
       "        text-align: right;\n",
       "    }\n",
       "</style>\n",
       "<table border=\"1\" class=\"dataframe\">\n",
       "  <thead>\n",
       "    <tr style=\"text-align: right;\">\n",
       "      <th></th>\n",
       "      <th>Elapsed Time</th>\n",
       "      <th>Moving Time</th>\n",
       "      <th>Distance</th>\n",
       "      <th>Type</th>\n",
       "      <th>Elapsed Pace</th>\n",
       "      <th>Moving Pace</th>\n",
       "    </tr>\n",
       "  </thead>\n",
       "  <tbody>\n",
       "    <tr>\n",
       "      <th>0</th>\n",
       "      <td>2972</td>\n",
       "      <td>2715.0</td>\n",
       "      <td>9.2900</td>\n",
       "      <td>Run</td>\n",
       "      <td>319.913886</td>\n",
       "      <td>292.249731</td>\n",
       "    </tr>\n",
       "    <tr>\n",
       "      <th>1</th>\n",
       "      <td>5023</td>\n",
       "      <td>3046.0</td>\n",
       "      <td>9.9000</td>\n",
       "      <td>Run</td>\n",
       "      <td>507.373737</td>\n",
       "      <td>307.676768</td>\n",
       "    </tr>\n",
       "    <tr>\n",
       "      <th>2</th>\n",
       "      <td>1440</td>\n",
       "      <td>1358.0</td>\n",
       "      <td>5.0200</td>\n",
       "      <td>Run</td>\n",
       "      <td>286.852590</td>\n",
       "      <td>270.517928</td>\n",
       "    </tr>\n",
       "    <tr>\n",
       "      <th>3</th>\n",
       "      <td>3450</td>\n",
       "      <td>3249.0</td>\n",
       "      <td>10.6400</td>\n",
       "      <td>Run</td>\n",
       "      <td>324.248120</td>\n",
       "      <td>305.357143</td>\n",
       "    </tr>\n",
       "    <tr>\n",
       "      <th>4</th>\n",
       "      <td>6972</td>\n",
       "      <td>6574.0</td>\n",
       "      <td>21.5300</td>\n",
       "      <td>Run</td>\n",
       "      <td>323.827218</td>\n",
       "      <td>305.341384</td>\n",
       "    </tr>\n",
       "    <tr>\n",
       "      <th>...</th>\n",
       "      <td>...</td>\n",
       "      <td>...</td>\n",
       "      <td>...</td>\n",
       "      <td>...</td>\n",
       "      <td>...</td>\n",
       "      <td>...</td>\n",
       "    </tr>\n",
       "    <tr>\n",
       "      <th>431</th>\n",
       "      <td>5885</td>\n",
       "      <td>5885.0</td>\n",
       "      <td>21.0975</td>\n",
       "      <td>Records</td>\n",
       "      <td>278.943003</td>\n",
       "      <td>278.943003</td>\n",
       "    </tr>\n",
       "    <tr>\n",
       "      <th>432</th>\n",
       "      <td>10070</td>\n",
       "      <td>10070.0</td>\n",
       "      <td>30.0000</td>\n",
       "      <td>Records</td>\n",
       "      <td>335.666667</td>\n",
       "      <td>335.666667</td>\n",
       "    </tr>\n",
       "    <tr>\n",
       "      <th>433</th>\n",
       "      <td>14641</td>\n",
       "      <td>14641.0</td>\n",
       "      <td>42.1950</td>\n",
       "      <td>Records</td>\n",
       "      <td>346.984240</td>\n",
       "      <td>346.984240</td>\n",
       "    </tr>\n",
       "    <tr>\n",
       "      <th>434</th>\n",
       "      <td>33</td>\n",
       "      <td>33.0</td>\n",
       "      <td>0.2000</td>\n",
       "      <td>Lap</td>\n",
       "      <td>165.000000</td>\n",
       "      <td>165.000000</td>\n",
       "    </tr>\n",
       "    <tr>\n",
       "      <th>435</th>\n",
       "      <td>66</td>\n",
       "      <td>66.0</td>\n",
       "      <td>0.4000</td>\n",
       "      <td>Lap</td>\n",
       "      <td>165.000000</td>\n",
       "      <td>165.000000</td>\n",
       "    </tr>\n",
       "  </tbody>\n",
       "</table>\n",
       "<p>436 rows × 6 columns</p>\n",
       "</div>"
      ],
      "text/plain": [
       "     Elapsed Time  Moving Time  Distance     Type  Elapsed Pace  Moving Pace\n",
       "0            2972       2715.0    9.2900      Run    319.913886   292.249731\n",
       "1            5023       3046.0    9.9000      Run    507.373737   307.676768\n",
       "2            1440       1358.0    5.0200      Run    286.852590   270.517928\n",
       "3            3450       3249.0   10.6400      Run    324.248120   305.357143\n",
       "4            6972       6574.0   21.5300      Run    323.827218   305.341384\n",
       "..            ...          ...       ...      ...           ...          ...\n",
       "431          5885       5885.0   21.0975  Records    278.943003   278.943003\n",
       "432         10070      10070.0   30.0000  Records    335.666667   335.666667\n",
       "433         14641      14641.0   42.1950  Records    346.984240   346.984240\n",
       "434            33         33.0    0.2000      Lap    165.000000   165.000000\n",
       "435            66         66.0    0.4000      Lap    165.000000   165.000000\n",
       "\n",
       "[436 rows x 6 columns]"
      ]
     },
     "execution_count": 32,
     "metadata": {},
     "output_type": "execute_result"
    }
   ],
   "source": [
    "maciek"
   ]
  },
  {
   "cell_type": "code",
   "execution_count": 33,
   "id": "acute-cameroon",
   "metadata": {},
   "outputs": [],
   "source": [
    "man_records_b = man_records.copy()\n",
    "man_records_b['T'] = man_records_b['T']*1.88"
   ]
  },
  {
   "cell_type": "code",
   "execution_count": 34,
   "id": "therapeutic-coupon",
   "metadata": {},
   "outputs": [
    {
     "data": {
      "image/png": "[encoded data removed]",
      "text/plain": [
       "<Figure size 1440x504 with 2 Axes>"
      ]
     },
     "metadata": {},
     "output_type": "display_data"
    }
   ],
   "source": [
    "fig, ax = plt.subplots(1, 2, figsize=(20, 7))\n",
    "\n",
    "sns.scatterplot( \n",
    "    data=man_records,\n",
    "    x=\"D\",\n",
    "    y=\"T\",\n",
    "    ax=ax[0],\n",
    "    color=\"black\"\n",
    "    )\n",
    "\n",
    "# sns.scatterplot( \n",
    "#     data=man_records_b,\n",
    "#     x=\"D\",\n",
    "#     y=\"T\",\n",
    "#     ax=ax[0],\n",
    "#     color=\"red\"\n",
    "#     )\n",
    "\n",
    "ax[0].plot(m_D_estim_b, m_T_estim_b, color=\"royalblue\", label=\"120 kg\")\n",
    "ax[0].plot(m_D_estim, m_T_estim, color=\"green\", label=\"63.78 kg\")\n",
    "ax[0].plot(m_D_estim_s, m_T_estim_s, color=\"hotpink\", label=\"50 kg\")\n",
    "ax[0].set_xlabel(\"Distance [m]\")\n",
    "ax[0].set_ylabel(\"Time [s]\")\n",
    "ax[0].set_title(\"Man's records by weight\")\n",
    "ax[0].legend(loc='upper left')\n",
    "ax[0].set_xlim(0, 11000)\n",
    "ax[0].set_ylim(0, 3000)\n",
    "\n",
    "sns.scatterplot( \n",
    "    data=woman_records,\n",
    "    x=\"D\",\n",
    "    y=\"T\",\n",
    "    ax=ax[1],\n",
    "    color=\"black\")\n",
    "ax[1].plot(f_D_estim_b, f_T_estim_b, color=\"royalblue\", label=\"100 kg\")\n",
    "ax[1].plot(f_D_estim, f_T_estim, color=\"green\", label=\"51.11 kg\")\n",
    "ax[1].plot(f_D_estim_s, f_T_estim_s, color=\"hotpink\", label=\"40 kg\")\n",
    "ax[1].set_xlabel(\"Distance [m]\")\n",
    "ax[1].set_ylabel(\"Time [s]\")\n",
    "ax[1].set_title(\"Woman's records by weight\")\n",
    "ax[1].legend(loc='upper left')\n",
    "ax[1].set_xlim(0, 11000)\n",
    "ax[1].set_ylim(0, 3000)\n",
    "plt.show()"
   ]
  },
  {
   "cell_type": "markdown",
   "id": "fixed-finder",
   "metadata": {},
   "source": [
    "# Visualization"
   ]
  },
  {
   "cell_type": "markdown",
   "id": "super-mechanics",
   "metadata": {},
   "source": [
    "## Some insights"
   ]
  },
  {
   "cell_type": "markdown",
   "id": "moving-tuner",
   "metadata": {},
   "source": [
    "### Pace vs distance"
   ]
  },
  {
   "cell_type": "code",
   "execution_count": 35,
   "id": "authentic-weather",
   "metadata": {},
   "outputs": [
    {
     "data": {
      "image/png": "[encoded data removed]",
      "text/plain": [
       "<Figure size 720x504 with 1 Axes>"
      ]
     },
     "metadata": {},
     "output_type": "display_data"
    }
   ],
   "source": [
    "fig, ax = plt.subplots(1, 1, figsize=(10, 7))\n",
    "sns.scatterplot(\n",
    "    data=records,\n",
    "    x=\"D\",\n",
    "    y=\"pace\",\n",
    "    hue=\"Sex\",\n",
    "    ax=ax,\n",
    "    palette=[\"hotpink\", \"royalblue\"],\n",
    ")\n",
    "ax.set_xlabel(\"Distance [m]\")\n",
    "ax.set_ylabel(\"Pace [min/km]\")\n",
    "ax.set_title(\"Pace - all distances\")\n",
    "plt.show()"
   ]
  },
  {
   "cell_type": "markdown",
   "id": "concerned-limitation",
   "metadata": {},
   "source": [
    "### Distance and time"
   ]
  },
  {
   "cell_type": "code",
   "execution_count": 36,
   "id": "fabulous-usage",
   "metadata": {},
   "outputs": [
    {
     "data": {
      "image/png": "[encoded data removed]",
      "text/plain": [
       "<Figure size 720x504 with 1 Axes>"
      ]
     },
     "metadata": {},
     "output_type": "display_data"
    }
   ],
   "source": [
    "fig, ax = plt.subplots(1, 1, figsize=(10, 7))\n",
    "ax.vlines(200, 0, 25000, colors=\"darkgray\", ls=\"--\")\n",
    "ax.vlines(10000, 0, 25000, colors=\"gray\", ls=\"--\")\n",
    "sns.scatterplot(\n",
    "    data=records,\n",
    "    x=\"D\",\n",
    "    y=\"T\",\n",
    "    hue=\"Sex\",\n",
    "    ax=ax,\n",
    "    palette=[\"hotpink\", \"royalblue\"],\n",
    ")\n",
    "ax.set_ylabel(\"Time [s]\")\n",
    "ax.set_xlabel(\"Distance [m]\")\n",
    "ax.set_title(\"Time & distance - all distances\")\n",
    "plt.show()"
   ]
  },
  {
   "cell_type": "markdown",
   "id": "artistic-dispatch",
   "metadata": {},
   "source": [
    "## Fitted times - approx"
   ]
  },
  {
   "cell_type": "markdown",
   "id": "nasty-feature",
   "metadata": {},
   "source": [
    "### No discont. penalty"
   ]
  },
  {
   "cell_type": "code",
   "execution_count": 37,
   "id": "informal-karma",
   "metadata": {},
   "outputs": [
    {
     "data": {
      "image/png": "[encoded data removed]",
      "text/plain": [
       "<Figure size 1440x504 with 2 Axes>"
      ]
     },
     "metadata": {},
     "output_type": "display_data"
    }
   ],
   "source": [
    "fig, ax = plt.subplots(1, 2, figsize=(20, 7))\n",
    "\n",
    "ax[0].vlines(200, 0, 1800, colors=\"darkgray\", ls=\"--\")\n",
    "sns.scatterplot(\n",
    "    data=records[records.D <= 10000],\n",
    "    x=\"D\",\n",
    "    y=\"T\",\n",
    "    hue=\"Sex\",\n",
    "    ax=ax[0],\n",
    "    palette=[\"hotpink\", \"royalblue\"],\n",
    ")\n",
    "ax[0].set_xlabel(\"Distance [m]\")\n",
    "ax[0].set_ylabel(\"Time [s]\")\n",
    "ax[0].set_title(\"Times for distances <10km\")\n",
    "ax[0].plot(f_D_estim, f_T_estim, color=\"hotpink\")\n",
    "ax[0].plot(m_D_estim, m_T_estim, color=\"royalblue\")\n",
    "# ax.set_xlim(0, 600)\n",
    "# ax.set_ylim(0, 100)\n",
    "\n",
    "ax[1].vlines(200, 0, 1800, colors=\"darkgray\", ls=\"--\")\n",
    "sns.scatterplot(\n",
    "    data=records[records.D <= 400],\n",
    "    x=\"D\",\n",
    "    y=\"T\",\n",
    "    hue=\"Sex\",\n",
    "    ax=ax[1],\n",
    "    palette=[\"hotpink\", \"royalblue\"],\n",
    ")\n",
    "ax[1].set_xlabel(\"Distance [m]\")\n",
    "ax[1].set_ylabel(\"Time [s]\")\n",
    "ax[1].set_title(\"Times for distances <400m\")\n",
    "ax[1].plot(f_D_estim, f_T_estim, color=\"hotpink\")\n",
    "ax[1].plot(m_D_estim, m_T_estim, color=\"royalblue\")\n",
    "ax[1].set_xlim(0, 500)\n",
    "ax[1].set_ylim(0, 100)\n",
    "\n",
    "plt.show()"
   ]
  },
  {
   "cell_type": "markdown",
   "id": "visible-rough",
   "metadata": {},
   "source": [
    "### With discont. penalty"
   ]
  },
  {
   "cell_type": "code",
   "execution_count": 38,
   "id": "internal-natural",
   "metadata": {},
   "outputs": [
    {
     "data": {
      "image/png": "[encoded data removed]",
      "text/plain": [
       "<Figure size 1440x504 with 2 Axes>"
      ]
     },
     "metadata": {},
     "output_type": "display_data"
    }
   ],
   "source": [
    "fig, ax = plt.subplots(1, 2, figsize=(20, 7))\n",
    "\n",
    "ax[0].vlines(200, 0, 1800, colors=\"darkgray\", ls=\"--\")\n",
    "sns.scatterplot(\n",
    "    data=records[records.D <= 10000],\n",
    "    x=\"D\",\n",
    "    y=\"T\",\n",
    "    hue=\"Sex\",\n",
    "    ax=ax[0],\n",
    "    palette=[\"hotpink\", \"royalblue\"],\n",
    ")\n",
    "ax[0].set_xlabel(\"Distance [m]\")\n",
    "ax[0].set_ylabel(\"Time [s]\")\n",
    "ax[0].set_title(\"Times for distances <10km (discontinuity penalized)\")\n",
    "ax[0].plot(f_D_estim_cont, f_T_estim_cont, color=\"hotpink\")\n",
    "ax[0].plot(m_D_estim_cont, m_T_estim_cont, color=\"royalblue\")\n",
    "\n",
    "ax[1].vlines(200, 0, 1800, colors=\"darkgray\", ls=\"--\")\n",
    "sns.scatterplot(\n",
    "    data=records[records.D <= 400],\n",
    "    x=\"D\",\n",
    "    y=\"T\",\n",
    "    hue=\"Sex\",\n",
    "    ax=ax[1],\n",
    "    palette=[\"hotpink\", \"royalblue\"],\n",
    ")\n",
    "ax[1].set_xlabel(\"Distance [m]\")\n",
    "ax[1].set_ylabel(\"Time [s]\")\n",
    "ax[1].set_title(\"Times for distances <400m (discontinuity penalized)\")\n",
    "ax[1].plot(f_D_estim_cont, f_T_estim_cont, color=\"hotpink\")\n",
    "ax[1].plot(m_D_estim_cont, m_T_estim_cont, color=\"royalblue\")\n",
    "ax[1].set_xlim(0, 500)\n",
    "ax[1].set_ylim(0, 100)\n",
    "\n",
    "plt.show()"
   ]
  },
  {
   "cell_type": "markdown",
   "id": "following-front",
   "metadata": {},
   "source": [
    "# Estimated parameters"
   ]
  },
  {
   "cell_type": "code",
   "execution_count": 39,
   "id": "amateur-bracelet",
   "metadata": {},
   "outputs": [],
   "source": [
    "m_params_cont.update({'SEX': \"M\", \"CONTINOUS\": True})\n",
    "f_params_cont.update({'SEX': \"F\", \"CONTINOUS\": True})\n",
    "m_params.update({'SEX': \"M\", \"CONTINOUS\": False})\n",
    "f_params.update({'SEX': \"F\", \"CONTINOUS\": False})\n",
    "param_df = pd.DataFrame([m_params, f_params, m_params_cont, f_params_cont])"
   ]
  },
  {
   "cell_type": "code",
   "execution_count": 40,
   "id": "single-donna",
   "metadata": {},
   "outputs": [
    {
     "data": {
      "text/html": [
       "<div>\n",
       "<style scoped>\n",
       "    .dataframe tbody tr th:only-of-type {\n",
       "        vertical-align: middle;\n",
       "    }\n",
       "\n",
       "    .dataframe tbody tr th {\n",
       "        vertical-align: top;\n",
       "    }\n",
       "\n",
       "    .dataframe thead th {\n",
       "        text-align: right;\n",
       "    }\n",
       "</style>\n",
       "<table border=\"1\" class=\"dataframe\">\n",
       "  <thead>\n",
       "    <tr style=\"text-align: right;\">\n",
       "      <th></th>\n",
       "      <th>E0</th>\n",
       "      <th>sigma</th>\n",
       "      <th>tau</th>\n",
       "      <th>F</th>\n",
       "      <th>SEX</th>\n",
       "      <th>CONTINOUS</th>\n",
       "    </tr>\n",
       "  </thead>\n",
       "  <tbody>\n",
       "    <tr>\n",
       "      <th>0</th>\n",
       "      <td>2644.269872</td>\n",
       "      <td>34.312275</td>\n",
       "      <td>1.112597</td>\n",
       "      <td>10.287693</td>\n",
       "      <td>M</td>\n",
       "      <td>False</td>\n",
       "    </tr>\n",
       "    <tr>\n",
       "      <th>1</th>\n",
       "      <td>3209.266404</td>\n",
       "      <td>32.272943</td>\n",
       "      <td>0.911664</td>\n",
       "      <td>10.976440</td>\n",
       "      <td>F</td>\n",
       "      <td>False</td>\n",
       "    </tr>\n",
       "    <tr>\n",
       "      <th>2</th>\n",
       "      <td>1270.550820</td>\n",
       "      <td>34.761325</td>\n",
       "      <td>1.112597</td>\n",
       "      <td>10.287693</td>\n",
       "      <td>M</td>\n",
       "      <td>True</td>\n",
       "    </tr>\n",
       "    <tr>\n",
       "      <th>3</th>\n",
       "      <td>1390.382307</td>\n",
       "      <td>32.830911</td>\n",
       "      <td>0.911664</td>\n",
       "      <td>10.976440</td>\n",
       "      <td>F</td>\n",
       "      <td>True</td>\n",
       "    </tr>\n",
       "  </tbody>\n",
       "</table>\n",
       "</div>"
      ],
      "text/plain": [
       "            E0      sigma       tau          F SEX  CONTINOUS\n",
       "0  2644.269872  34.312275  1.112597  10.287693   M      False\n",
       "1  3209.266404  32.272943  0.911664  10.976440   F      False\n",
       "2  1270.550820  34.761325  1.112597  10.287693   M       True\n",
       "3  1390.382307  32.830911  0.911664  10.976440   F       True"
      ]
     },
     "execution_count": 40,
     "metadata": {},
     "output_type": "execute_result"
    }
   ],
   "source": [
    "param_df"
   ]
  },
  {
   "cell_type": "markdown",
   "id": "parental-citation",
   "metadata": {},
   "source": [
    "# Future"
   ]
  },
  {
   "cell_type": "markdown",
   "id": "lined-lawyer",
   "metadata": {},
   "source": [
    "* Residuals can be investgated (to know the accuracy).\n",
    "* Get more data.\n",
    "* Try another methods of LSq fitting."
   ]
  },
  {
   "cell_type": "markdown",
   "id": "moral-netherlands",
   "metadata": {},
   "source": [
    "\\+ ofc an extended version of the model."
   ]
  },
  {
   "cell_type": "markdown",
   "id": "4383c825",
   "metadata": {},
   "source": [
    "# MAĆKOVE LOVE"
   ]
  },
  {
   "cell_type": "code",
   "execution_count": 41,
   "id": "d16fe53d",
   "metadata": {},
   "outputs": [],
   "source": [
    "def Maciek(records_df, discon_penal=0, old_mass=62, new_mass=62):\n",
    "    E0, sigma, tau, F = 62423.65160927312, 398.72922233922156*old_mass/new_mass, 0.02914518409400867,211.1565191907392 * old_mass/new_mass\n",
    "    D_range_short = np.arange(0, 210, 10)\n",
    "    D_range_long = np.arange(200, 10000, 10)\n",
    "    T_short_estims = T_short(D_range_short, tau, F)\n",
    "    T_long_estims = T_long(D_range_long, E0, sigma, tau, F)\n",
    "    D_range = np.concatenate([D_range_short, D_range_long])\n",
    "    T_range = np.concatenate([T_short_estims, T_long_estims])\n",
    "    return D_range, T_range, {\"E0\": E0, \"sigma\": sigma, \"tau\": tau, \"F\": F}"
   ]
  },
  {
   "cell_type": "code",
   "execution_count": 94,
   "id": "71ca5df9",
   "metadata": {},
   "outputs": [],
   "source": [
    "maciek_d, maciek_t, m_params = Maciek(\n",
    "    records[records[\"Sex\"] == \"M\"], discon_penal=0, new_mass = 18.4\n",
    ")\n",
    "maciek_d_n, maciek_t_n, m_params = Maciek(\n",
    "    records[records[\"Sex\"] == \"M\"], discon_penal=0\n",
    ")"
   ]
  },
  {
   "cell_type": "code",
   "execution_count": 95,
   "id": "2d737612",
   "metadata": {},
   "outputs": [
    {
     "data": {
      "text/plain": [
       "Text(0, 0.5, 'Time')"
      ]
     },
     "execution_count": 95,
     "metadata": {},
     "output_type": "execute_result"
    },
    {
     "data": {
      "image/png": "[encoded data removed]",
      "text/plain": [
       "<Figure size 720x504 with 1 Axes>"
      ]
     },
     "metadata": {},
     "output_type": "display_data"
    }
   ],
   "source": [
    "fig, ax = plt.subplots(1, 1, figsize=(10, 7))\n",
    "sns.scatterplot( \n",
    "    data=man_records,\n",
    "    x=\"D\",\n",
    "    y=\"T\",\n",
    "    color=\"C0\",\n",
    "    label='World'\n",
    "    )\n",
    "plt.plot(maciek_d_n, maciek_t_n, c='green', label='Maciek')\n",
    "plt.xlim(0,10500)\n",
    "plt.ylim(0,4000)\n",
    "plt.legend()\n",
    "plt.title('Maciek with normal weight')\n",
    "plt.xlabel('Distance')\n",
    "plt.ylabel('Time')\n",
    "#plt.show()"
   ]
  },
  {
   "cell_type": "code",
   "execution_count": 97,
   "id": "7f4181db",
   "metadata": {},
   "outputs": [
    {
     "data": {
      "text/plain": [
       "Text(0, 0.5, 'Time')"
      ]
     },
     "execution_count": 97,
     "metadata": {},
     "output_type": "execute_result"
    },
    {
     "data": {
      "image/png": "[encoded data removed]",
      "text/plain": [
       "<Figure size 720x504 with 1 Axes>"
      ]
     },
     "metadata": {},
     "output_type": "display_data"
    }
   ],
   "source": [
    "fig, ax = plt.subplots(1, 1, figsize=(10, 7))\n",
    "sns.scatterplot( \n",
    "    data=man_records,\n",
    "    x=\"D\",\n",
    "    y=\"T\",\n",
    "    color=\"C0\",\n",
    "    label='World'\n",
    "    )\n",
    "plt.plot(maciek_d, maciek_t, c='green', label='Maciek')\n",
    "plt.xlim(0,10500)\n",
    "plt.ylim(0,4000)\n",
    "plt.legend()\n",
    "plt.title('Maciek weighing 18.4 kg')\n",
    "plt.xlabel('Distance')\n",
    "plt.ylabel('Time')\n",
    "#plt.show()"
   ]
  },
  {
   "cell_type": "code",
   "execution_count": null,
   "id": "067013ec",
   "metadata": {},
   "outputs": [],
   "source": []
  },
  {
   "cell_type": "code",
   "execution_count": null,
   "id": "5d8d7f6d",
   "metadata": {},
   "outputs": [],
   "source": []
  }
 ],
 "metadata": {
  "kernelspec": {
   "display_name": "Python 3 (ipykernel)",
   "language": "python",
   "name": "python3"
  },
  "language_info": {
   "codemirror_mode": {
    "name": "ipython",
    "version": 3
   },
   "file_extension": ".py",
   "mimetype": "text/x-python",
   "name": "python",
   "nbconvert_exporter": "python",
   "pygments_lexer": "ipython3",
   "version": "3.9.7"
  }
 },
 "nbformat": 4,
 "nbformat_minor": 5
}
