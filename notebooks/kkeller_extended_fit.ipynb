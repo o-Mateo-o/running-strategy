{
 "cells": [
  {
   "cell_type": "markdown",
<<<<<<< HEAD
   "id": "ab4f606d",
=======
   "id": "7f9443ff",
>>>>>>> 8d3198882c53cfaf25803d902cbd015a961344da
   "metadata": {},
   "source": [
    "# Setup"
   ]
  },
  {
   "cell_type": "code",
<<<<<<< HEAD
   "execution_count": 50,
   "id": "2d2ea1b3",
=======
   "execution_count": 1,
   "id": "a783ed46",
>>>>>>> 8d3198882c53cfaf25803d902cbd015a961344da
   "metadata": {},
   "outputs": [],
   "source": [
    "import re\n",
    "from datetime import datetime\n",
    "\n",
    "import numpy as np\n",
    "import pandas as pd\n",
    "import seaborn as sns\n",
    "from matplotlib import pyplot as plt\n",
    "from matplotlib import rcParams\n",
    "from scipy.optimize import leastsq, root"
   ]
  },
  {
   "cell_type": "code",
<<<<<<< HEAD
   "execution_count": 51,
   "id": "bd4b6ef6",
=======
   "execution_count": 2,
   "id": "ac913295",
>>>>>>> 8d3198882c53cfaf25803d902cbd015a961344da
   "metadata": {},
   "outputs": [],
   "source": [
    "sns.set_context(\"notebook\")\n",
    "sns.set_theme()\n",
    "sns.set_palette(\"Set3\")\n",
    "sns.set(font_scale=1.3)"
   ]
  },
  {
   "cell_type": "code",
<<<<<<< HEAD
   "execution_count": 52,
   "id": "f20cf84d",
=======
   "execution_count": 3,
   "id": "24664409",
>>>>>>> 8d3198882c53cfaf25803d902cbd015a961344da
   "metadata": {
    "jp-MarkdownHeadingCollapsed": true,
    "tags": []
   },
   "outputs": [],
   "source": [
    "# cd .."
   ]
  },
  {
   "cell_type": "markdown",
<<<<<<< HEAD
   "id": "0cbc55b3",
=======
   "id": "afb8c288",
>>>>>>> 8d3198882c53cfaf25803d902cbd015a961344da
   "metadata": {},
   "source": [
    "# Data import & preprocess"
   ]
  },
  {
   "cell_type": "markdown",
<<<<<<< HEAD
   "id": "c852875a",
=======
   "id": "ef688e28",
>>>>>>> 8d3198882c53cfaf25803d902cbd015a961344da
   "metadata": {},
   "source": [
    "## CSV outdor records import"
   ]
  },
  {
   "cell_type": "code",
<<<<<<< HEAD
   "execution_count": 53,
   "id": "c21db8b6",
=======
   "execution_count": 4,
   "id": "5d647016",
>>>>>>> 8d3198882c53cfaf25803d902cbd015a961344da
   "metadata": {},
   "outputs": [],
   "source": [
    "men_outdor = pd.read_csv(\"./../data/Men outdoor.csv\")\n",
    "women_outdor = pd.read_csv(\"./../data/Women outdoor.csv\")\n",
    "sprint_additional_both = pd.read_csv(\"./../data/sprint_additional.csv\")"
   ]
  },
  {
   "cell_type": "markdown",
<<<<<<< HEAD
   "id": "92f270d8",
=======
   "id": "5661c2a7",
>>>>>>> 8d3198882c53cfaf25803d902cbd015a961344da
   "metadata": {},
   "source": [
    "## Frame union"
   ]
  },
  {
   "cell_type": "code",
<<<<<<< HEAD
   "execution_count": 54,
   "id": "8ad99968",
=======
   "execution_count": 5,
   "id": "dfece38d",
>>>>>>> 8d3198882c53cfaf25803d902cbd015a961344da
   "metadata": {},
   "outputs": [],
   "source": [
    "men_outdor[\"Sex\"] = \"M\"\n",
    "women_outdor[\"Sex\"] = \"F\"\n",
    "records_all = pd.concat([men_outdor, women_outdor, sprint_additional_both])"
   ]
  },
  {
   "cell_type": "markdown",
<<<<<<< HEAD
   "id": "d658bcc3",
=======
   "id": "8386f40d",
>>>>>>> 8d3198882c53cfaf25803d902cbd015a961344da
   "metadata": {},
   "source": [
    "## Filter for running"
   ]
  },
  {
   "cell_type": "code",
<<<<<<< HEAD
   "execution_count": 55,
   "id": "a5e9a0bd",
=======
   "execution_count": 6,
   "id": "3f236739",
>>>>>>> 8d3198882c53cfaf25803d902cbd015a961344da
   "metadata": {},
   "outputs": [],
   "source": [
    "def is_running_discip(name: str) -> bool:\n",
    "    return bool(re.findall(\"(?i)metres?$|mile?$|marathon$\", name))"
   ]
  },
  {
   "cell_type": "code",
<<<<<<< HEAD
   "execution_count": 56,
   "id": "386edd9d",
=======
   "execution_count": 7,
   "id": "2a0f813d",
>>>>>>> 8d3198882c53cfaf25803d902cbd015a961344da
   "metadata": {},
   "outputs": [],
   "source": [
    "records_run = records_all[records_all[\"Discipline\"].apply(is_running_discip)]"
   ]
  },
  {
   "cell_type": "markdown",
<<<<<<< HEAD
   "id": "5a80a13a",
=======
   "id": "d3c20861",
>>>>>>> 8d3198882c53cfaf25803d902cbd015a961344da
   "metadata": {},
   "source": [
    "## The first record and the lastest update"
   ]
  },
  {
   "cell_type": "markdown",
<<<<<<< HEAD
   "id": "75462b96",
=======
   "id": "56c20640",
>>>>>>> 8d3198882c53cfaf25803d902cbd015a961344da
   "metadata": {},
   "source": [
    "__It's and additional piece of info__"
   ]
  },
  {
   "cell_type": "code",
<<<<<<< HEAD
   "execution_count": 57,
   "id": "b2bd9d43",
=======
   "execution_count": 8,
   "id": "7a4547f1",
>>>>>>> 8d3198882c53cfaf25803d902cbd015a961344da
   "metadata": {},
   "outputs": [
    {
     "data": {
      "text/plain": [
       "(1965, 2023)"
      ]
     },
     "execution_count": 57,
     "metadata": {},
     "output_type": "execute_result"
    }
   ],
   "source": [
    "timestamps = pd.to_datetime(records_run[\"Date\"])\n",
    "timestamps.min().year, timestamps.max().year"
   ]
  },
  {
   "cell_type": "markdown",
<<<<<<< HEAD
   "id": "bd8da760",
=======
   "id": "f8247e6c",
>>>>>>> 8d3198882c53cfaf25803d902cbd015a961344da
   "metadata": {},
   "source": [
    "## Data selection"
   ]
  },
  {
   "cell_type": "code",
<<<<<<< HEAD
   "execution_count": 58,
   "id": "97cb5378",
=======
   "execution_count": 9,
   "id": "634c7225",
>>>>>>> 8d3198882c53cfaf25803d902cbd015a961344da
   "metadata": {},
   "outputs": [],
   "source": [
    "records_select = records_run[[\"Discipline\", \"Perf\", \"Sex\"]].copy()\n",
    "records_select = records_select.astype(\"string\")"
   ]
  },
  {
   "cell_type": "markdown",
<<<<<<< HEAD
   "id": "6f0ffe1e",
=======
   "id": "70589b83",
>>>>>>> 8d3198882c53cfaf25803d902cbd015a961344da
   "metadata": {},
   "source": [
    "## Data cleansing"
   ]
  },
  {
   "cell_type": "markdown",
<<<<<<< HEAD
   "id": "e7895c80",
=======
   "id": "75afa509",
>>>>>>> 8d3198882c53cfaf25803d902cbd015a961344da
   "metadata": {},
   "source": [
    "### Time in seconds"
   ]
  },
  {
   "cell_type": "markdown",
<<<<<<< HEAD
   "id": "f4a8ebcb",
=======
   "id": "8e5515cb",
>>>>>>> 8d3198882c53cfaf25803d902cbd015a961344da
   "metadata": {},
   "source": [
    "#### Cleanse the performace to leave only numbers, and separators."
   ]
  },
  {
   "cell_type": "code",
<<<<<<< HEAD
   "execution_count": 59,
   "id": "a44dc658",
=======
   "execution_count": 10,
   "id": "2033aa9a",
>>>>>>> 8d3198882c53cfaf25803d902cbd015a961344da
   "metadata": {},
   "outputs": [],
   "source": [
    "str_times = records_select[\"Perf\"].apply(\n",
    "    lambda perf: \"\".join(re.findall(r\"[\\d+\\.:]\", perf))\n",
    ")"
   ]
  },
  {
   "cell_type": "markdown",
<<<<<<< HEAD
   "id": "b05b13bf",
=======
   "id": "5d41f117",
>>>>>>> 8d3198882c53cfaf25803d902cbd015a961344da
   "metadata": {},
   "source": [
    "#### Time getter function and its call."
   ]
  },
  {
   "cell_type": "code",
<<<<<<< HEAD
   "execution_count": 60,
   "id": "9a5a54c8",
=======
   "execution_count": 11,
   "id": "146d3ffb",
>>>>>>> 8d3198882c53cfaf25803d902cbd015a961344da
   "metadata": {},
   "outputs": [],
   "source": [
    "def str_to_seconds(str_time):\n",
    "    zero_time = datetime(1900, 1, 1)\n",
    "    patterns = [\"%H:%M:%S\", \"%M:%S\", \"%M:%S.%f\", \"%S.%f\"]\n",
    "    for pattern in patterns:\n",
    "        try:\n",
    "            time = datetime.strptime(str_time, pattern)\n",
    "            delta = time - zero_time\n",
    "            return delta.total_seconds()\n",
    "        except ValueError:\n",
    "            continue"
   ]
  },
  {
   "cell_type": "code",
<<<<<<< HEAD
   "execution_count": 61,
   "id": "f5e33d32",
=======
   "execution_count": 12,
   "id": "5d3e06fe",
>>>>>>> 8d3198882c53cfaf25803d902cbd015a961344da
   "metadata": {},
   "outputs": [],
   "source": [
    "records_select[\"T\"] = str_times.apply(str_to_seconds)"
   ]
  },
  {
   "cell_type": "markdown",
<<<<<<< HEAD
   "id": "47c072b0",
=======
   "id": "26ec8e36",
>>>>>>> 8d3198882c53cfaf25803d902cbd015a961344da
   "metadata": {},
   "source": [
    "#### Is anything null left?"
   ]
  },
  {
   "cell_type": "code",
<<<<<<< HEAD
   "execution_count": 62,
   "id": "d391ff46",
=======
   "execution_count": 13,
   "id": "6270ff1d",
>>>>>>> 8d3198882c53cfaf25803d902cbd015a961344da
   "metadata": {},
   "outputs": [
    {
     "data": {
      "text/plain": [
       "False"
      ]
     },
     "execution_count": 62,
     "metadata": {},
     "output_type": "execute_result"
    }
   ],
   "source": [
    "records_select[\"T\"].isnull().any()"
   ]
  },
  {
   "cell_type": "markdown",
<<<<<<< HEAD
   "id": "fd988ba7",
=======
   "id": "8b4e3617",
>>>>>>> 8d3198882c53cfaf25803d902cbd015a961344da
   "metadata": {},
   "source": [
    "### Distance in meters"
   ]
  },
  {
   "cell_type": "markdown",
<<<<<<< HEAD
   "id": "ef26e6d7",
=======
   "id": "49a28bf0",
>>>>>>> 8d3198882c53cfaf25803d902cbd015a961344da
   "metadata": {},
   "source": [
    "#### Get the distaces from discipline name."
   ]
  },
  {
   "cell_type": "code",
<<<<<<< HEAD
   "execution_count": 63,
   "id": "b9aec390",
=======
   "execution_count": 14,
   "id": "f054d50c",
>>>>>>> 8d3198882c53cfaf25803d902cbd015a961344da
   "metadata": {},
   "outputs": [],
   "source": [
    "str_distances = records_select[\"Discipline\"]"
   ]
  },
  {
   "cell_type": "markdown",
<<<<<<< HEAD
   "id": "084df267",
=======
   "id": "3059412d",
>>>>>>> 8d3198882c53cfaf25803d902cbd015a961344da
   "metadata": {},
   "source": [
    "#### Define how multipliers would be translated."
   ]
  },
  {
   "cell_type": "code",
<<<<<<< HEAD
   "execution_count": 64,
   "id": "5757e388",
=======
   "execution_count": 15,
   "id": "ac308372",
>>>>>>> 8d3198882c53cfaf25803d902cbd015a961344da
   "metadata": {},
   "outputs": [],
   "source": [
    "multipliers = {\n",
    "    \"kilometre\": 1000,\n",
    "    \"metre\": 1,\n",
    "    \"mile\": 1609.344,\n",
    "    \"marathon\": 42195,\n",
    "    \"half\": 0.5,\n",
    "    \"one\": 1,\n",
    "}"
   ]
  },
  {
   "cell_type": "markdown",
<<<<<<< HEAD
   "id": "3ea0ee60",
=======
   "id": "b44a49cb",
>>>>>>> 8d3198882c53cfaf25803d902cbd015a961344da
   "metadata": {},
   "source": [
    "#### Distance translator function and its call."
   ]
  },
  {
   "cell_type": "code",
<<<<<<< HEAD
   "execution_count": 65,
   "id": "842f88f4",
=======
   "execution_count": 16,
   "id": "b65ca194",
>>>>>>> 8d3198882c53cfaf25803d902cbd015a961344da
   "metadata": {},
   "outputs": [],
   "source": [
    "def str_to_meters(str_distance):\n",
    "    unit_raw = re.findall(\"(?i)kilometre|metre|mile|marathon\", str_distance)  # unit\n",
    "    modifier_raw = re.findall(\"(?i)one|half\", str_distance)  # modifier\n",
    "    number_raw = re.findall(\"\\d+\", str_distance)  # number\n",
    "    unit = multipliers[unit_raw[0].lower()]\n",
    "    try:\n",
    "        modifier = multipliers[modifier_raw[0].lower()]\n",
    "    except IndexError:\n",
    "        modifier = 1\n",
    "    try:\n",
    "        if len(number_raw) > 0:\n",
    "            number_raw_str = \"\".join(number_raw)\n",
    "        else:\n",
    "            number_raw_str = number_raw[0]\n",
    "        number = int(number_raw_str)\n",
    "    except IndexError:\n",
    "        number = 1\n",
    "    return number * unit * modifier"
   ]
  },
  {
   "cell_type": "code",
<<<<<<< HEAD
   "execution_count": 66,
   "id": "11befa9f",
=======
   "execution_count": 17,
   "id": "f8f5205b",
>>>>>>> 8d3198882c53cfaf25803d902cbd015a961344da
   "metadata": {},
   "outputs": [],
   "source": [
    "records_select[\"D\"] = str_distances.apply(str_to_meters)"
   ]
  },
  {
   "cell_type": "markdown",
<<<<<<< HEAD
   "id": "0d46e918",
=======
   "id": "8a7cd959",
>>>>>>> 8d3198882c53cfaf25803d902cbd015a961344da
   "metadata": {},
   "source": [
    "#### Is anything null left?"
   ]
  },
  {
   "cell_type": "code",
<<<<<<< HEAD
   "execution_count": 67,
   "id": "7726f0bb",
=======
   "execution_count": 18,
   "id": "732724f0",
>>>>>>> 8d3198882c53cfaf25803d902cbd015a961344da
   "metadata": {},
   "outputs": [
    {
     "data": {
      "text/plain": [
       "False"
      ]
     },
     "execution_count": 67,
     "metadata": {},
     "output_type": "execute_result"
    }
   ],
   "source": [
    "records_select[\"D\"].isnull().any()"
   ]
  },
  {
   "cell_type": "markdown",
<<<<<<< HEAD
   "id": "88891ecd",
=======
   "id": "eeab9e01",
>>>>>>> 8d3198882c53cfaf25803d902cbd015a961344da
   "metadata": {},
   "source": [
    "## Final data selection"
   ]
  },
  {
   "cell_type": "markdown",
<<<<<<< HEAD
   "id": "69cd076b",
=======
   "id": "ee311c48",
>>>>>>> 8d3198882c53cfaf25803d902cbd015a961344da
   "metadata": {},
   "source": [
    "### Dropping distance duplicates."
   ]
  },
  {
   "cell_type": "code",
<<<<<<< HEAD
   "execution_count": 68,
   "id": "7492d187",
=======
   "execution_count": 19,
   "id": "a0fb9ddc",
>>>>>>> 8d3198882c53cfaf25803d902cbd015a961344da
   "metadata": {},
   "outputs": [],
   "source": [
    "records_select.sort_values(\"T\", ascending=False, inplace=True)\n",
    "records_select.drop_duplicates([\"D\", \"Sex\"], keep=\"first\", inplace=True)"
   ]
  },
  {
   "cell_type": "markdown",
<<<<<<< HEAD
   "id": "8949c580",
=======
   "id": "64963cfd",
>>>>>>> 8d3198882c53cfaf25803d902cbd015a961344da
   "metadata": {},
   "source": [
    "### Selecting columns."
   ]
  },
  {
   "cell_type": "code",
<<<<<<< HEAD
   "execution_count": 69,
   "id": "d98759a2",
=======
   "execution_count": 20,
   "id": "c9a9da9c",
>>>>>>> 8d3198882c53cfaf25803d902cbd015a961344da
   "metadata": {},
   "outputs": [
    {
     "data": {
      "text/html": [
       "<div>\n",
       "<style scoped>\n",
       "    .dataframe tbody tr th:only-of-type {\n",
       "        vertical-align: middle;\n",
       "    }\n",
       "\n",
       "    .dataframe tbody tr th {\n",
       "        vertical-align: top;\n",
       "    }\n",
       "\n",
       "    .dataframe thead th {\n",
       "        text-align: right;\n",
       "    }\n",
       "</style>\n",
       "<table border=\"1\" class=\"dataframe\">\n",
       "  <thead>\n",
       "    <tr style=\"text-align: right;\">\n",
       "      <th></th>\n",
       "      <th>D</th>\n",
       "      <th>T</th>\n",
       "      <th>Sex</th>\n",
       "    </tr>\n",
       "  </thead>\n",
       "  <tbody>\n",
       "    <tr>\n",
       "      <th>0</th>\n",
       "      <td>100000.0</td>\n",
       "      <td>23591.0</td>\n",
       "      <td>F</td>\n",
       "    </tr>\n",
       "    <tr>\n",
       "      <th>1</th>\n",
       "      <td>100000.0</td>\n",
       "      <td>22154.0</td>\n",
       "      <td>M</td>\n",
       "    </tr>\n",
       "    <tr>\n",
       "      <th>2</th>\n",
       "      <td>50000.0</td>\n",
       "      <td>11064.0</td>\n",
       "      <td>F</td>\n",
       "    </tr>\n",
       "    <tr>\n",
       "      <th>3</th>\n",
       "      <td>50000.0</td>\n",
       "      <td>9613.0</td>\n",
       "      <td>M</td>\n",
       "    </tr>\n",
       "    <tr>\n",
       "      <th>4</th>\n",
       "      <td>42195.0</td>\n",
       "      <td>8221.0</td>\n",
       "      <td>F</td>\n",
       "    </tr>\n",
       "  </tbody>\n",
       "</table>\n",
       "</div>"
      ],
      "text/plain": [
       "          D        T Sex\n",
       "0  100000.0  23591.0   F\n",
       "1  100000.0  22154.0   M\n",
       "2   50000.0  11064.0   F\n",
       "3   50000.0   9613.0   M\n",
       "4   42195.0   8221.0   F"
      ]
     },
     "execution_count": 69,
     "metadata": {},
     "output_type": "execute_result"
    }
   ],
   "source": [
    "records = records_select[[\"D\", \"T\", \"Sex\"]].copy()\n",
    "records.reset_index(drop=True, inplace=True)\n",
    "records.head()"
   ]
  },
  {
   "cell_type": "markdown",
<<<<<<< HEAD
   "id": "5dad2714",
=======
   "id": "0eda76e3",
>>>>>>> 8d3198882c53cfaf25803d902cbd015a961344da
   "metadata": {},
   "source": [
    "### Adding measures"
   ]
  },
  {
   "cell_type": "code",
<<<<<<< HEAD
   "execution_count": 70,
   "id": "d1e2ddf3",
=======
   "execution_count": 21,
   "id": "0b32fe09",
>>>>>>> 8d3198882c53cfaf25803d902cbd015a961344da
   "metadata": {},
   "outputs": [],
   "source": [
    "records[\"pace\"] = (records[\"T\"] / 60) / (records[\"D\"] / 1000)"
   ]
  },
  {
   "cell_type": "markdown",
<<<<<<< HEAD
   "id": "b6278c4b",
=======
   "id": "de2ab330",
>>>>>>> 8d3198882c53cfaf25803d902cbd015a961344da
   "metadata": {},
   "source": [
    "## Model fit - approximated"
   ]
  },
  {
   "cell_type": "markdown",
<<<<<<< HEAD
   "id": "3ef004a2",
=======
   "id": "43089d06",
>>>>>>> 8d3198882c53cfaf25803d902cbd015a961344da
   "metadata": {},
   "source": [
    "### First phase"
   ]
  },
  {
   "cell_type": "code",
<<<<<<< HEAD
   "execution_count": 71,
   "id": "16d3f58e",
=======
   "execution_count": 22,
   "id": "c74ea0bb",
>>>>>>> 8d3198882c53cfaf25803d902cbd015a961344da
   "metadata": {},
   "outputs": [],
   "source": [
    "T_short = lambda D, tau, F: D / F / tau + tau"
   ]
  },
  {
   "cell_type": "markdown",
<<<<<<< HEAD
   "id": "e0267271",
=======
   "id": "e160f07e",
>>>>>>> 8d3198882c53cfaf25803d902cbd015a961344da
   "metadata": {},
   "source": [
    "### The rest"
   ]
  },
  {
   "cell_type": "code",
<<<<<<< HEAD
   "execution_count": 72,
   "id": "81ad68ec",
=======
   "execution_count": 23,
   "id": "3da30301",
>>>>>>> 8d3198882c53cfaf25803d902cbd015a961344da
   "metadata": {},
   "outputs": [],
   "source": [
    "T_long = (\n",
    "    lambda D, E0, sigma, tau, F: (np.sqrt(E0 ** 2 + 4 * sigma * D ** 2 / tau) - E0)\n",
    "    / sigma\n",
    "    / 2\n",
    ")"
   ]
  },
  {
   "cell_type": "markdown",
<<<<<<< HEAD
   "id": "1ecca5fc",
=======
   "id": "05bf3c95",
>>>>>>> 8d3198882c53cfaf25803d902cbd015a961344da
   "metadata": {},
   "source": [
    "### Extended"
   ]
  },
  {
   "cell_type": "code",
<<<<<<< HEAD
   "execution_count": 73,
   "id": "62a1e516",
=======
   "execution_count": 24,
   "id": "fabbfd3e",
>>>>>>> 8d3198882c53cfaf25803d902cbd015a961344da
   "metadata": {},
   "outputs": [],
   "source": [
    "T_very_long = (\n",
    "    lambda D, gamma, E0, sigma, tau, F: 1\n",
    "    / 2\n",
    "    / sigma\n",
    "    / tau\n",
    "    * (\n",
    "        np.sqrt((E0 * tau - gamma * D ** 2) ** 2 + 4 * sigma * tau * D ** 2)\n",
    "        - E0 * tau\n",
    "        + gamma * D ** 2\n",
    "    )\n",
    ")"
   ]
  },
  {
   "cell_type": "markdown",
<<<<<<< HEAD
   "id": "d55c74f3",
=======
   "id": "963e8eb3",
>>>>>>> 8d3198882c53cfaf25803d902cbd015a961344da
   "metadata": {},
   "source": [
    "### Combined"
   ]
  },
  {
   "cell_type": "code",
<<<<<<< HEAD
   "execution_count": 74,
   "id": "e146b2d1",
=======
   "execution_count": 25,
   "id": "b8aef9a4",
>>>>>>> 8d3198882c53cfaf25803d902cbd015a961344da
   "metadata": {},
   "outputs": [],
   "source": [
    "def fit_params_up_to_10km(records_df, discont_penal):\n",
    "    short_records = records_df[records_df[\"D\"] <= 170].sort_values(\"T\")\n",
    "    long_records = records_df[\n",
    "        (records_df[\"D\"] >= 170) & (records_df[\"D\"] <= 10000)\n",
    "    ].sort_values(\"T\")\n",
    "\n",
    "    def T_short_resid(p, D, T):\n",
    "        return T - T_short(D, p[0], p[1])\n",
    "\n",
    "    short_popt, short_pcov = leastsq(\n",
    "        T_short_resid, args=(short_records[\"D\"], short_records[\"T\"]), x0=(1, 12)\n",
    "    )\n",
    "\n",
    "    tau, F = short_popt\n",
    "    T_estim_short_for_200m = T_short(200, tau, F)\n",
    "\n",
    "    def T_long_resid(p, D, T):\n",
    "        penalty = (\n",
    "            np.abs(T_long(D, p[0], p[1], tau, F).iloc[0] - T_estim_short_for_200m)\n",
    "            * discont_penal\n",
    "        )\n",
    "        return T - T_long(D, p[0], p[1], tau, F) + penalty\n",
    "\n",
    "    long_popt, long_pcov = leastsq(\n",
    "        func=T_long_resid, args=(long_records[\"D\"], long_records[\"T\"]), x0=(2000, 40)\n",
    "    )\n",
    "    E0, sigma = long_popt\n",
    "    return E0, sigma, tau, F"
   ]
  },
  {
   "cell_type": "code",
<<<<<<< HEAD
   "execution_count": 75,
   "id": "521f8607",
=======
   "execution_count": 26,
   "id": "84b23527",
>>>>>>> 8d3198882c53cfaf25803d902cbd015a961344da
   "metadata": {},
   "outputs": [],
   "source": [
    "def fit_params_extended(records_df, th=170):\n",
    "    short_records = records_df[records_df[\"D\"] <= th].sort_values(\"T\")\n",
    "    long_records = records_df[\n",
    "        (records_df[\"D\"] >= th) & (records_df[\"D\"] <= 10000)\n",
    "    ].sort_values(\"T\")\n",
    "    very_long_records = records_df[records_df[\"D\"] >= 10000].sort_values(\"T\")\n",
    "\n",
    "    def T_short_resid(p, D, T):\n",
    "        return T - T_short(D, p[0], p[1])\n",
    "\n",
    "    short_popt, short_pcov = leastsq(\n",
    "        T_short_resid, args=(short_records[\"D\"], short_records[\"T\"]), x0=(1, 12)\n",
    "    )\n",
    "\n",
    "    tau, F = short_popt\n",
    "    T_estim_short_for_200m = T_short(200, tau, F)\n",
    "\n",
    "    def T_long_resid(p, D, T):\n",
    "        return T - T_long(D, p[0], p[1], tau, F)\n",
    "\n",
    "    long_popt, long_pcov = leastsq(\n",
    "        func=T_long_resid, args=(long_records[\"D\"], long_records[\"T\"]), x0=(2000, 40)\n",
    "    )\n",
    "    E0, sigma = long_popt\n",
    "    \n",
    "    def T_very_long_resid(p, D, T):\n",
    "        return T - T_very_long(D, p[0], E0, sigma, tau, F)\n",
    "    very_long_popt, very_long_pcov = leastsq(\n",
    "        func=T_very_long_resid, args=(very_long_records[\"D\"], very_long_records[\"T\"]), x0=(0.0001)\n",
    "    )\n",
    "    gamma, = very_long_popt\n",
    "    \n",
    "    \n",
    "    return gamma, E0, sigma, tau, F"
   ]
  },
  {
   "cell_type": "code",
<<<<<<< HEAD
   "execution_count": 76,
   "id": "8975fcc1",
=======
   "execution_count": 27,
   "id": "2abbf464",
>>>>>>> 8d3198882c53cfaf25803d902cbd015a961344da
   "metadata": {},
   "outputs": [
    {
     "data": {
      "text/plain": [
       "(2.7693415040526802e-05,\n",
       " 3209.26640363481,\n",
       " 32.27294281536338,\n",
       " 0.9116643695396013,\n",
       " 10.976439939929731)"
      ]
     },
     "execution_count": 76,
     "metadata": {},
     "output_type": "execute_result"
    }
   ],
   "source": [
    "# UWAGAS!!!!!!!!!!!!!\n",
    "fit_params_extended(records[records.Sex == \"M\"])\n",
    "fit_params_extended(records[records.Sex == \"F\"])"
   ]
  },
  {
   "cell_type": "code",
<<<<<<< HEAD
   "execution_count": 77,
   "id": "c29125de",
=======
   "execution_count": 28,
   "id": "c9f4cc41",
>>>>>>> 8d3198882c53cfaf25803d902cbd015a961344da
   "metadata": {
    "tags": []
   },
   "outputs": [],
   "source": [
    "def estim_D_up_to_10km(records_df, discon_penal=0):\n",
    "    E0, sigma, tau, F = fit_params_up_to_10km(records_df, discon_penal)\n",
    "    D_range_short = np.arange(0, 210, 10)\n",
    "    D_range_long = np.arange(200, 100000, 10, dtype=np.float64)\n",
    "    T_short_estims = T_short(D_range_short, tau, F)\n",
    "    T_long_estims = T_long(D_range_long, E0, sigma, tau, F)\n",
    "    D_range = np.concatenate([D_range_short, D_range_long])\n",
    "    T_range = np.concatenate([T_short_estims, T_long_estims])\n",
    "    return D_range, T_range, {\"E0\": E0, \"sigma\": sigma, \"tau\": tau, \"F\": F}"
   ]
  },
  {
   "cell_type": "code",
<<<<<<< HEAD
   "execution_count": 78,
   "id": "522c09ad",
=======
   "execution_count": 29,
   "id": "b5c64036",
>>>>>>> 8d3198882c53cfaf25803d902cbd015a961344da
   "metadata": {},
   "outputs": [],
   "source": [
    "def estim_D_extended(records_df, th=170):\n",
    "    gamma, E0, sigma, tau, F = fit_params_extended(records_df, th)\n",
    "    D_range_short = np.arange(0, th+10, 10)\n",
    "    D_range_long = np.arange(th,10000, 10, dtype=np.float64)\n",
    "    D_range_very_long = np.arange(10000, 100000, 100, dtype=np.float64)\n",
    "    T_short_estims = T_short(D_range_short, tau, F)\n",
    "    T_long_estims = T_long(D_range_long, E0, sigma, tau, F)\n",
    "    T_very_long_estims = T_very_long(D_range_very_long, gamma, E0, sigma, tau, F)\n",
    "    D_range = np.concatenate([D_range_short, D_range_long, D_range_very_long])\n",
    "    T_range = np.concatenate([T_short_estims, T_long_estims, T_very_long_estims])\n",
    "    return D_range, T_range, {\"E0\": E0, \"sigma\": sigma, \"tau\": tau, \"F\": F}"
   ]
  },
  {
   "cell_type": "code",
<<<<<<< HEAD
   "execution_count": 79,
   "id": "acf12300",
=======
   "execution_count": 30,
   "id": "8bb1be70",
>>>>>>> 8d3198882c53cfaf25803d902cbd015a961344da
   "metadata": {
    "tags": []
   },
   "outputs": [],
   "source": [
    "m_D_estim, m_T_estim, m_params = estim_D_up_to_10km(records[records[\"Sex\"] == \"M\"])\n",
    "f_D_estim, f_T_estim, f_params = estim_D_up_to_10km(records[records[\"Sex\"] == \"F\"])\n",
    "\n",
    "m_D_estim_extended, m_T_estim_extended, m_params_extended = estim_D_extended(\n",
    "    records[records[\"Sex\"] == \"M\"]\n",
    ")\n",
    "f_D_estim_extended, f_T_estim_extended, f_params_extended = estim_D_extended(\n",
    "    records[records[\"Sex\"] == \"F\"]\n",
    ")"
   ]
  },
  {
   "cell_type": "markdown",
<<<<<<< HEAD
   "id": "c087decc",
=======
   "id": "98777dd1",
>>>>>>> 8d3198882c53cfaf25803d902cbd015a961344da
   "metadata": {},
   "source": [
    "# Visualization"
   ]
  },
  {
   "cell_type": "markdown",
<<<<<<< HEAD
   "id": "d78cacd2",
=======
   "id": "f2f657a5",
>>>>>>> 8d3198882c53cfaf25803d902cbd015a961344da
   "metadata": {},
   "source": [
    "### Distance and time"
   ]
  },
  {
   "cell_type": "code",
<<<<<<< HEAD
   "execution_count": 80,
   "id": "8859d108",
=======
   "execution_count": 31,
   "id": "c206eb4a",
>>>>>>> 8d3198882c53cfaf25803d902cbd015a961344da
   "metadata": {},
   "outputs": [
    {
     "data": {
      "image/png": "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\n",
      "text/plain": [
       "<Figure size 1440x504 with 2 Axes>"
      ]
     },
     "metadata": {},
     "output_type": "display_data"
    }
   ],
   "source": [
    "fig, ax = plt.subplots(1, 2, figsize=(20, 7))\n",
    "ax[0].vlines(200, 0, 25000, colors=\"darkgray\", ls=\"--\")\n",
    "ax[0].vlines(10000, 0, 25000, colors=\"black\", ls=\"--\")\n",
    "sns.scatterplot(\n",
    "    data=records,\n",
    "    x=\"D\",\n",
    "    y=\"T\",\n",
    "    hue=\"Sex\",\n",
    "    ax=ax[0],\n",
    "    palette=[\"hotpink\", \"royalblue\"],\n",
    ")\n",
    "ax[0].set_ylabel(\"Time [s]\")\n",
    "ax[0].set_xlabel(\"Distance [m]\")\n",
    "ax[0].set_title(\"Basic Keller Model - Time & distance - short and mid-long distances\")\n",
    "ax[0].plot(f_D_estim, f_T_estim, color=\"hotpink\")\n",
    "ax[0].plot(m_D_estim, m_T_estim, color=\"royalblue\")\n",
    "ax[0].set_xlim((-500, 11000))\n",
    "ax[0].set_ylim((-100, 2000))\n",
    "\n",
    "\n",
    "ax[1].vlines(200, 0, 25000, colors=\"darkgray\", ls=\"--\")\n",
    "ax[1].vlines(10000, 0, 25000, colors=\"black\", ls=\"--\")\n",
    "sns.scatterplot(\n",
    "    data=records,\n",
    "    x=\"D\",\n",
    "    y=\"T\",\n",
    "    hue=\"Sex\",\n",
    "    ax=ax[1],\n",
    "    palette=[\"hotpink\", \"royalblue\"],\n",
    "    legend=False\n",
    ")\n",
    "ax[1].set_ylabel(\"Time [s]\")\n",
    "ax[1].set_xlabel(\"Distance [m]\")\n",
    "ax[1].set_title(\"Basic Keller Model - Time & distance - all distances\")\n",
    "ax[1].plot(f_D_estim, f_T_estim, color=\"hotpink\")\n",
    "ax[1].plot(m_D_estim, m_T_estim, color=\"royalblue\")\n",
    "\n",
    "\n",
    "plt.savefig(\"./../images/basic_keller_times_scatter.jpg\", dpi=300)"
   ]
  },
  {
   "cell_type": "code",
<<<<<<< HEAD
   "execution_count": 138,
   "id": "a6a533a6",
=======
   "execution_count": 32,
   "id": "41fa81f1",
>>>>>>> 8d3198882c53cfaf25803d902cbd015a961344da
   "metadata": {},
   "outputs": [
    {
     "data": {
      "image/png": "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\n",
      "text/plain": [
       "<Figure size 1440x504 with 2 Axes>"
      ]
     },
     "metadata": {},
     "output_type": "display_data"
    }
   ],
   "source": [
    "fig, ax = plt.subplots(1, 2, figsize=(20, 7))\n",
    "ax[0].vlines(200, 0, 25000, colors=\"darkgray\", ls=\"--\")\n",
    "ax[0].vlines(10000, 0, 25000, colors=\"black\", ls=\"--\")\n",
    "sns.scatterplot(\n",
    "    data=records,\n",
    "    x=\"D\",\n",
    "    y=\"T\",\n",
    "    hue=\"Sex\",\n",
    "    ax=ax[0],\n",
    "    palette=[\"hotpink\", \"royalblue\"],\n",
    ")\n",
    "ax[0].set_ylabel(\"Time [s]\")\n",
    "ax[0].set_xlabel(\"Distance [m]\")\n",
    "ax[0].set_title(\"Extended Keller Model - Time & distance - short and mid-long distances\")\n",
    "ax[0].plot(f_D_estim_extended, f_T_estim_extended, color=\"hotpink\")\n",
    "ax[0].plot(m_D_estim_extended, m_T_estim_extended, color=\"royalblue\")\n",
    "ax[0].set_xlim((-500, 11000))\n",
    "ax[0].set_ylim((-100, 2000))\n",
    "\n",
    "\n",
    "ax[1].vlines(200, 0, 25000, colors=\"darkgray\", ls=\"--\")\n",
    "ax[1].vlines(10000, 0, 25000, colors=\"black\", ls=\"--\")\n",
    "sns.scatterplot(\n",
    "    data=records,\n",
    "    x=\"D\",\n",
    "    y=\"T\",\n",
    "    hue=\"Sex\",\n",
    "    ax=ax[1],\n",
    "    palette=[\"hotpink\", \"royalblue\"],\n",
    "    legend=False\n",
    ")\n",
    "ax[1].set_ylabel(\"Time [s]\")\n",
    "ax[1].set_xlabel(\"Distance [m]\")\n",
    "ax[1].set_title(\"Extended Keller Model - Time & distance - all distances\")\n",
    "ax[1].plot(f_D_estim_extended, f_T_estim_extended, color=\"hotpink\")\n",
    "ax[1].plot(m_D_estim_extended, m_T_estim_extended, color=\"royalblue\")\n",
    "\n",
    "\n",
    "plt.savefig(\"./../images/M1.jpg\", dpi=300)"
   ]
  },
  {
   "cell_type": "code",
<<<<<<< HEAD
   "execution_count": 82,
   "id": "242abd17",
=======
   "execution_count": 33,
   "id": "d223becd",
>>>>>>> 8d3198882c53cfaf25803d902cbd015a961344da
   "metadata": {},
   "outputs": [],
   "source": [
    "m_params.update({'SEX': \"M\", \"CONTINOUS\": False})\n",
    "f_params.update({'SEX': \"F\", \"CONTINOUS\": False})\n",
    "param_df = pd.DataFrame([m_params, f_params])"
   ]
  },
  {
   "cell_type": "code",
<<<<<<< HEAD
   "execution_count": 83,
   "id": "ef3f4818",
=======
   "execution_count": 34,
   "id": "942ea3d7",
>>>>>>> 8d3198882c53cfaf25803d902cbd015a961344da
   "metadata": {},
   "outputs": [
    {
     "data": {
      "text/html": [
       "<div>\n",
       "<style scoped>\n",
       "    .dataframe tbody tr th:only-of-type {\n",
       "        vertical-align: middle;\n",
       "    }\n",
       "\n",
       "    .dataframe tbody tr th {\n",
       "        vertical-align: top;\n",
       "    }\n",
       "\n",
       "    .dataframe thead th {\n",
       "        text-align: right;\n",
       "    }\n",
       "</style>\n",
       "<table border=\"1\" class=\"dataframe\">\n",
       "  <thead>\n",
       "    <tr style=\"text-align: right;\">\n",
       "      <th></th>\n",
       "      <th>E0</th>\n",
       "      <th>sigma</th>\n",
       "      <th>tau</th>\n",
       "      <th>F</th>\n",
       "      <th>SEX</th>\n",
       "      <th>CONTINOUS</th>\n",
       "    </tr>\n",
       "  </thead>\n",
       "  <tbody>\n",
       "    <tr>\n",
       "      <th>0</th>\n",
       "      <td>2644.27</td>\n",
       "      <td>34.31</td>\n",
       "      <td>1.11</td>\n",
       "      <td>10.29</td>\n",
       "      <td>M</td>\n",
       "      <td>False</td>\n",
       "    </tr>\n",
       "    <tr>\n",
       "      <th>1</th>\n",
       "      <td>3209.27</td>\n",
       "      <td>32.27</td>\n",
       "      <td>0.91</td>\n",
       "      <td>10.98</td>\n",
       "      <td>F</td>\n",
       "      <td>False</td>\n",
       "    </tr>\n",
       "  </tbody>\n",
       "</table>\n",
       "</div>"
      ],
      "text/plain": [
       "        E0  sigma   tau      F SEX  CONTINOUS\n",
       "0  2644.27  34.31  1.11  10.29   M      False\n",
       "1  3209.27  32.27  0.91  10.98   F      False"
      ]
     },
     "execution_count": 83,
     "metadata": {},
     "output_type": "execute_result"
    }
   ],
   "source": [
    "param_df.round(2)"
   ]
  },
  {
   "cell_type": "markdown",
<<<<<<< HEAD
   "id": "8cb669db",
=======
   "id": "d3760e66",
>>>>>>> 8d3198882c53cfaf25803d902cbd015a961344da
   "metadata": {},
   "source": [
    "# Future"
   ]
  },
  {
   "cell_type": "markdown",
<<<<<<< HEAD
   "id": "32b244d8",
=======
   "id": "116f87a1",
>>>>>>> 8d3198882c53cfaf25803d902cbd015a961344da
   "metadata": {},
   "source": [
    "* Residuals can be investgated (to know the accuracy).\n",
    "* Get more data.\n",
    "* Try another methods of LSq fitting."
   ]
  },
  {
   "cell_type": "markdown",
<<<<<<< HEAD
   "id": "2c432a4a",
=======
   "id": "8d9005f3",
>>>>>>> 8d3198882c53cfaf25803d902cbd015a961344da
   "metadata": {},
   "source": [
    "\\+ ofc an extended version of the model."
   ]
  },
  {
   "cell_type": "markdown",
<<<<<<< HEAD
   "id": "2d4387ef",
=======
   "id": "d5c71ff1",
>>>>>>> 8d3198882c53cfaf25803d902cbd015a961344da
   "metadata": {},
   "source": [
    "# Fit quality"
   ]
  },
  {
   "cell_type": "code",
<<<<<<< HEAD
   "execution_count": 84,
   "id": "9e6b6c42",
=======
   "execution_count": 35,
   "id": "387234f9",
>>>>>>> 8d3198882c53cfaf25803d902cbd015a961344da
   "metadata": {},
   "outputs": [],
   "source": [
    "fit_res_basic = pd.DataFrame(\n",
    "    {\"D\": m_D_estim, \"Tm\": m_T_estim, \"Tf\": f_T_estim}, dtype=(float)\n",
    ")\n",
    "fit_res_basic.drop_duplicates(\"D\", inplace=True)\n",
    "fit_res_basic = fit_res_basic[fit_res_basic[\"D\"].isin(records[\"D\"])]\n",
    "fit_res_basic.reset_index(drop=True, inplace=True)\n",
    "fit_res_basic = pd.merge(fit_res_basic, records[records[\"Sex\"] == \"M\"], on=\"D\")\n",
    "fit_res_basic = pd.merge(fit_res_basic, records[records[\"Sex\"] == \"F\"], on=\"D\")\n",
    "fit_res_basic.drop([\"Sex_x\", \"Sex_y\", \"pace_x\", \"pace_y\"], axis=1, inplace=True)\n",
    "fit_res_basic.rename(columns={\"T_x\": \"Tm_r\", \"T_y\": \"Tf_r\"}, inplace=True)\n",
    "fit_res_basic[\"RAEm\"] = (\n",
    "    np.abs(fit_res_basic[\"Tm\"] - fit_res_basic[\"Tm_r\"]) / fit_res_basic[\"Tm_r\"]\n",
    ")\n",
    "fit_res_basic[\"RAEf\"] = (\n",
    "    np.abs(fit_res_basic[\"Tf\"] - fit_res_basic[\"Tf_r\"]) / fit_res_basic[\"Tf_r\"]\n",
    ")"
   ]
  },
  {
   "cell_type": "markdown",
<<<<<<< HEAD
   "id": "e9e8d5c3",
=======
   "id": "ebc3bfe9",
>>>>>>> 8d3198882c53cfaf25803d902cbd015a961344da
   "metadata": {},
   "source": [
    "### Mean absolute relative error for basic approx fit - by sex"
   ]
  },
  {
   "cell_type": "code",
<<<<<<< HEAD
   "execution_count": 85,
   "id": "10140ddd",
=======
   "execution_count": 36,
   "id": "bf96594a",
>>>>>>> 8d3198882c53cfaf25803d902cbd015a961344da
   "metadata": {},
   "outputs": [
    {
     "data": {
      "text/html": [
       "<div>\n",
       "<style scoped>\n",
       "    .dataframe tbody tr th:only-of-type {\n",
       "        vertical-align: middle;\n",
       "    }\n",
       "\n",
       "    .dataframe tbody tr th {\n",
       "        vertical-align: top;\n",
       "    }\n",
       "\n",
       "    .dataframe thead th {\n",
       "        text-align: right;\n",
       "    }\n",
       "</style>\n",
       "<table border=\"1\" class=\"dataframe\">\n",
       "  <thead>\n",
       "    <tr style=\"text-align: right;\">\n",
       "      <th></th>\n",
       "      <th>M_pc</th>\n",
       "      <th>F_pc</th>\n",
       "    </tr>\n",
       "  </thead>\n",
       "  <tbody>\n",
       "    <tr>\n",
       "      <th>0</th>\n",
       "      <td>3.611396</td>\n",
       "      <td>4.312607</td>\n",
       "    </tr>\n",
       "  </tbody>\n",
       "</table>\n",
       "</div>"
      ],
      "text/plain": [
       "       M_pc      F_pc\n",
       "0  3.611396  4.312607"
      ]
     },
     "execution_count": 85,
     "metadata": {},
     "output_type": "execute_result"
    }
   ],
   "source": [
    "pd.DataFrame(\n",
    "    {\n",
    "        \"M_pc\": [fit_res_basic[\"RAEm\"].mean() * 100],\n",
    "        \"F_pc\": [fit_res_basic[\"RAEf\"].mean() * 100],\n",
    "    }\n",
    ")"
   ]
  },
  {
   "cell_type": "markdown",
<<<<<<< HEAD
   "id": "723338a7",
=======
   "id": "456ec379",
>>>>>>> 8d3198882c53cfaf25803d902cbd015a961344da
   "metadata": {},
   "source": [
    "# Maćko-dane"
   ]
  },
  {
   "cell_type": "code",
<<<<<<< HEAD
   "execution_count": 144,
   "id": "4e190ad4",
=======
   "execution_count": 37,
   "id": "20bab2ac",
>>>>>>> 8d3198882c53cfaf25803d902cbd015a961344da
   "metadata": {},
   "outputs": [],
   "source": [
    "macius = pd.read_csv(\"./../data/running_data.csv\")\n",
    "macius[\"D\"] = macius.apply(lambda x : x.Distance //1 if x.Distance > 1 else x.Distance , axis=1 ) *1000\n",
    "macius = macius.sort_values('Moving Pace').drop_duplicates('D').sort_values('Distance')\n",
    "macius[\"T\"] =  macius[\"Moving Time\"] \n",
    "macius[\"Dscale\"] = macius[\"D\"]/1000\n",
    "macius[\"Tscale\"] = macius[\"T\"]/60\n",
    "macius[\"TEscale\"] = macius[\"Elapsed Time\"]/60"
   ]
  },
  {
   "cell_type": "code",
<<<<<<< HEAD
   "execution_count": 189,
   "id": "b8df4258",
=======
   "execution_count": 38,
   "id": "736561a8",
>>>>>>> 8d3198882c53cfaf25803d902cbd015a961344da
   "metadata": {},
   "outputs": [
    {
     "data": {
      "image/png": "iVBORw0KGgoAAAANSUhEUgAABKYAAAHHCAYAAACFjlC+AAAAOXRFWHRTb2Z0d2FyZQBNYXRwbG90bGliIHZlcnNpb24zLjUuMCwgaHR0cHM6Ly9tYXRwbG90bGliLm9yZy8/fFQqAAAACXBIWXMAAAsTAAALEwEAmpwYAABbu0lEQVR4nO3deXhTZfrG8Ttt04XSNCwtIIiiMIBiKZsom4PgyOaCMoyoiArI5iCgAgWHRWUbBmQrCgwiAqPgiM4MLrj91FEUWWRUNmWpiEo3LF0oTdrm90dtJLSFlLY5p8n3c11clzknOXnTh9Db55zzvhaXy+USAAAAAAAA4GNBRg8AAAAAAAAAgYnGFAAAAAAAAAxBYwoAAAAAAACGoDEFAAAAAAAAQ9CYAgAAAAAAgCFoTAEBjEU5K9fF/DyrogbUFQAA3+P3L7zF3xXAE40pwEcGDx6s5s2bu/+0aNFCbdu21V133aWPP/74vK/dvHmzmjdvrry8vEobz5IlS7R58+ZKO55ZDR48WOPHj6/S93A4HJo5c6a2bdtWrteVtwbHjx9X8+bNz/v35dxj3njjjfrb3/5WrnEBAGB25Cpj+CJXGcUXn+3UqVMaN26cjh49Ksm7bAcEAhpTgA916tRJGzdu1MaNG/XSSy9p8eLFstlsGjlypPbu3Vvm637/+99r48aNCg0NrbSxJCYmyuFwVNrxAllKSor+8Y9/qKCgoFyvq4oanHvMZcuW6Z577qnU9wAAwAzIVahM06dP17hx46r0PQ4cOKC33nrLfcVUbGysNm7cqDZt2lTp+wJmF2L0AIBAYrfbFR8f77GtQ4cO6tatmzZu3Kgnn3yy1NfVrl1btWvX9sEI4W+uuuoqo4cAAECVIFehMjVt2tTn7xkaGlri7zAQiLhiCjBYeHi4Lr/8cv3000+SpMmTJ+uRRx7Rn//8Z7Vu3VrTpk3zuOR86dKl6tixo/Lz8z2Oc8stt7gDWGZmpmbOnKlu3bqpVatW6tKli2bPni2n0ylJat68uSRpxowZGjx4sPsYr776qnr16qVWrVqpT58+euutt8479sGDB2vmzJkaPHiw4uLitGLFCknS4cOHNWzYMMXHx6tjx4566qmndObMGY/XbtmyRbfeeqtat26tm2++Wa+++qp7X2FhoTZs2KC+ffsqLi5OvXv39thffNnziy++qG7duunaa69VUlKSnE6n5syZo+uuu07XXnutezxne/XVV9W7d29dc801uvHGG7V06VIVFhaev0jncfz4cfXo0UOSNHz4cE2ePFlS0e19y5Yt0x/+8AfFxcWpf//++r//+z/360qrgcPh0MKFC9WzZ0+1atVK1113nSZPnqzs7GyvxlLaMc++lW/z5s3q1q2b3nvvPfXu3VtxcXEaPHiwkpOTtWHDBvfPctq0aR5XfyUnJ2vcuHFq166d2rVrp8cff1y//PKLe39OTo4SEhLUuXNnxcXF6a677tJnn312UT9PAAAqglxVvXOVdPF55fvvv9fDDz+sjh07qn379ho/frySk5MlSdu3b1fz5s21b98+j/d6+umn1a9fP/fPv/hWvuLn7969WwMGDNA111yjm2++We+9957H6z/99FP1799fcXFxuuOOO/Tuu++qefPmOn78eInPtX37dt13332SpD59+mjp0qUlbuWbPHmyHnvsMS1fvlydO3dWmzZtNHXqVGVnZ2vmzJlq166dunXrppdfftnj2F9++aUGDRqkuLg4de3atUQdDh8+rAcffFBt27ZV+/bt9fDDD+uHH364qPoAVYHGFGCw/Px8/fjjj2rYsKF723vvvaeaNWtq+fLluuOOOzye36dPH2VkZGjHjh3ubUlJSfr222/Vp08fSdKECRO0bds2JSQkaNWqVbrjjju0du1avfbaa5KkjRs3SpKGDRum6dOnu7c98cQTuvHGG/Xss8+qc+fOGj9+vD744IPzjn/Tpk1q3bq1li5dqh49eig5OVn33HOPcnJytHDhQk2cOFFvvPGGJk6c6H7Nm2++qUcffVTt27fX8uXL1bdvX02ZMkXvv/++JGn+/PmaM2eO+vTpo+XLl6tLly6aMmWKNmzY4PHeK1eu1BNPPKEpU6bo8ssv19NPP61XXnlFY8eO1Zw5c7R161bt3r3b/fwdO3boiSee0O23367Vq1dr8ODBevbZZ0v8ci+P2NhYLVu2TJKUkJCg0aNHS5Iee+wxPf/887r33nu1bNkyNW3aVKNGjXI3p0qrwaxZs/TPf/5TY8aM0erVqzVs2DBt2bJFq1at8mospR3zXBkZGZo3b57+/Oc/a+7cudq3b58GDx6sf//733rqqac0ZMgQbdy4UVu2bJEknT59Wvfdd5++/fZbzZo1S0899ZS+/PJLjRgxwh0GZ82apR07dmjatGlasWKFatWqpVGjRunkyZMX8yMFAOCikauqd64qVt688tNPP2ngwIFKSUnRrFmzNHPmTO3du1f33nuvsrOz1aFDB8XExOidd95xv4fL5dI777zjrnNpHnvsMd1+++1asWKFLrnkEk2YMEEZGRmSim7LGzFihC677DItW7ZMXbt21WOPPVbmsa6++mpNmzZNkvTMM8/oj3/8Y6nP++CDD/TZZ59p7ty5GjlypP75z3/qjjvu0JkzZ7R06VLFx8frqaeecje/Dhw4oCFDhshut2vp0qUaPny4Vq9erfnz50sqakyOHj1aFotFS5Ys0bx583T48GFNmDDB+4IAVYxb+QAfcrlc7jNyhYWFOnHihJ577jmlp6drwIABHs+dPn26wsPDJUlHjhxxb7/yyivVvHlzbd26Vddff70k6e2331b9+vXVrl07nTlzRgUFBZo5c6auu+46SdL111+vDz/8ULt27dLAgQPdlww3atRITZs2VWFhoZYsWaI//vGP7qDTtWtXZWRkaPHixbrxxhvL/Ex16tTx+CX817/+VRaLRatWrVLNmjUlSZdcconuv/9+7d+/Xy1bttTKlSvVs2dP9y/nzp076/vvv9fOnTvVpk0brVu3TmPGjNGoUaMkSV26dFFOTo6WLFmiP/3pT+73uvPOO/WHP/xBUlGAeeWVVzR16lTdfffdkqRWrVq5r2aSis4mRURE6IEHHlBoaKiuvfZaBQcHKzY29sLFK0NoaKhatmwpSbriiivUuHFjHThwQFu3btX8+fN16623SpK6deumlJQULVq0SN27dy9RA0n65ZdflJCQoFtuuUWS1LFjR+3atUu7du3yaiylHfNceXl5mjJlirp37y5J+u9//6vNmzdr7dq1atCggW644Qb961//0tdff63bbrtNr732mn788Udt3brVHfKvuuoq9e7dW//3f/+nnj17avfu3erUqZNuvvlm9/7nnntOubm55fxpAgDgPXKV/+WqYuXNKy+88IIk6fnnn3f/nOLi4tSrVy/985//1P33369evXrpnXfecc8j9eWXXyo5Ofm8janhw4dr0KBBkqQGDRqoV69e2r59u26++WatWrVKV155pZ555hlZLBZ169ZN2dnZWr9+fanHqlmzpjufNW/eXPXr1y/1yiqHw6GlS5fKbrera9eu2rhxoywWi2bNmqWgoCBdeeWV2rp1q/bv369GjRrp2Wef1aWXXqply5YpODhYkhQREaGZM2dq2LBhKiwsVFJSkv785z+rS5cukor+nn300UcqKChwvwYwEo0pwIfeeuutEpdx165dW08++aSuueYa97b69eu7w1Np+vTpo/Xr12v69OmyWCzaunWrevXqJYvFovDwcK1Zs0Yul0vHjh3T0aNHdfDgQaWnp7svOT/X0aNHlZaWpm7dunlcyt61a1f9+9//VkZGhux2e6mvvfzyyz0e79ixQ+3atVN4eLj7WMWPt2/friZNmmj//v0lJuResGCBJOnDDz+U0+lUr169SnzmV199VUeOHFGNGjUkSU2aNHHv/9///qeCggJ169bNva1evXpq3bq1+3Hbtm11+vRp3Xbbberbt6969OjhvqS6NIWFhR6XQVssFq9+ee/atUsWi6XUzzBt2jRlZ2e7Q9PZlixZIkn6+eefdeTIEX333Xc6fPiwatWqdcH3LI+zfyZ16tRR7dq11aBBA/c2u93uvn1wx44datasmerVq+euZ6NGjdS4cWN9/vnn6tmzp9q3b69NmzYpLS1NN954o2688UZNmjSpUscMAMC5yFX+navKk1d27dqlLl26eOSrSy+9VNdcc412796t+++/X3369NG6det0+PBhd3PnqquuKvEzL2sM9evXlyT3ibcvvvhCd955pywWi/s5vXr1KrMx5a3LLrvM4+9H3bp11aBBAwUFBbk/tyRlZWVJKvo70q9fP49GbdeuXeV0OrV792716NFDl19+uf7yl7/o888/V/fu3dW5c2fmtoKp0JgCfKhLly7uszRBQUGy2Wxq1KiRxy80qeiX7/n06dNHzzzzjHbv3q3Y2Fjt27dPM2bMcO9/7733NGvWLP3000+qW7eu4uPjFRYW5l4B5FzF8wWNGTOm1P1paWllBqhzx5qRkaGvvvpKV199dYnnpqSk6NSpU5JU5qSjxfvr1q1b6vtkZ2e7A9TZx8jMzJSkEk2cs8fXvn17JSYm6vnnn9fy5cu1dOlSNWvWTLNnz1ZcXFyJsSQmJrpv05Oka6+9VuvWrSt13Od+hqioqBKr/RSPJScnp9TG1M6dOzV9+nQdOnRIdrtdrVq1Unh4eJl1u1iRkZEejyMiIsp8bkZGhvbt21dqPVu0aCFJeuKJJ1S3bl3961//0vvvv6+QkBD17t1bTz311HmPDQBARZCr/DtXlSevZGZmllrn2rVru5tXbdq00SWXXKJ33nlHo0aN0jvvvOO+GqosYWFh7v8ubgwVN9d++eWXEj/3C/1d88a5n1u6cFZbu3at1q5dW2JfSkqKgoKCtGbNGi1dulRvv/22XnnlFdWsWVMPPfSQRowYUeHxApWBxhTgQzabzeMM3sVq3LixWrVqpffee0916tRRw4YN3Wd0kpKSNG7cON19990aPny4YmJiJKnM+9iLxyVJc+bMUbNmzUrsb9Sokddji4qK0s0336zhw4eX2Fe3bl33L9uzJ8+Wii6rz8rKUnR0tKSi0BYVFeXen5aWJknu/ecq3p6enu7R9Dl16pRHaOjRo4d69OihjIwMffjhh1q2bJkef/xxbd26tcQxBw4cqN///vfux6UFhbLGkpWVJYfD4dGcOt9nyMrK0qhRo9SlSxetXLnSfdvcuHHj3BO4GsFms7kn3jxX8ecIDw/XuHHjNG7cOH377bd64403tHLlSjVr1ozAAwCoMuSqwMhV3rDZbEpPTy+xPT09XZdccokkua9mf/fdd9W5c2f99NNP6t2790W/Z2xsbIn3NGJ+zaioKPXr10+33357iX3Fn/2SSy7RnDlz9NRTT2n37t1av369Fi5cqGuvvVZt2rTx8YiBkpj8HKim+vbtq48//ljvv/++xy/Vffv2yel0asSIEe7wlJaWpm+//dbj8unisz5S0dxIdrtdaWlpuuaaa9x/Dh48qJUrV3o890Latm2rI0eO6KqrrnIfp169elq4cKGSkpJUs2ZNNWvWzL36SLFFixbpmWeeUVxcnKxWq95++22P/W+99ZZq1apV5uXWbdq0kdVq9ZjUsvgsY7EVK1a451Kw2+26/fbbNXDgQPeKLeeqV6+ex8/jiiuuKPV5516G3rZtW7lcrlI/Q8uWLd23E5z9cz1y5IgyMzP1wAMPuJtSZ86c0e7du8u1uk15auWNNm3a6Pvvv1eTJk3cP4dmzZpp6dKl+vrrr+VyuXT77be753b43e9+p/Hjx+vyyy/XiRMnKnUsAABUFXKVJyNz1cVo27atPvnkE4+VjH/44Qd98803Hres9e3bV/v27dOmTZsUFxenSy+99KLfs127dh4rLktFt06eT1XM59SmTRslJSV5/GxDQkK0aNEipaen68iRI+rSpYv27t2rkJAQ94qGkshqMA2umAKqqd69e7snxHziiSfc21u0aKHg4GDNnTtXd955p1JSUvTcc88pLy/PYzJqm82mL774Qm3atFGLFi00YsQILVq0SE6nU+3atdOBAwf0zDPP6NZbby1xS9r5DBkyRK+99prGjBmju+66S/n5+Vq2bJnS0tLct36NHDlSjz32mGbPnq3f//732rFjh959912tWLFCtWvX1t13363ExEQVFhYqPj5eH3/8sTZv3qwpU6aU+Qs9KipK999/v5YuXSqr1arLL79cK1eu9FhGuEOHDlq0aJGmTZum3r17Kz09XRs2bFDPnj3L++Mv8d5S0cScjRo1UsuWLdWzZ0/NmDFDGRkZatKkibZs2aLt27d7XMJ+dg2aNGmiGjVqaPHixRo6dKiysrL0/PPPKyUlxeMM54WcW9eKuvPOO7V27VoNGzZMQ4cOVWhoqJ5//nl99dVXmjx5siwWi+Li4rR8+XLVqFFDl112mT777DMdPXpUf/nLXyr8/gAA+AK5ypORuepi3H///Xrttdf04IMP6qGHHpLD4dDixYtVr1493Xnnne7ntWrVSo0bN9arr77qsbLhxXjooYfUv39/TZgwQf3799fevXv14osvSir7RGFxpnv//fc9bhOsiJEjR+qee+5RQkKC+vTpo1OnTumZZ55RRESEmjRpouDgYNlsNk2ePFl//vOfVbNmTf3jH/9QVFSUOnbsWCljACqKxhRQTTVo0EBt2rRRenq6x7wDV1xxhWbPnq3ExERt3bpV9erVU69evfSHP/xBGzdudK++MWrUKC1evFiHDh3Sf/7zHz344IMKDw/X2rVr9eyzzyo2NlYPPPBAmfMjlOXSSy/V+vXrNX/+fI0bN06hoaFq166dFi5c6J6noF+/fsrPz9eKFSv00ksv6bLLLtPChQvdE2xOnjxZtWrV0qZNm/Tcc8/p8ssv1+zZs0ss8XyuCRMmyGq1atWqVcrNzdWdd97pPrspFZ1NW7BggZ577jn961//Uo0aNfSHP/xBjz/+eLk+47lq1qypBx98UBs2bNCxY8e0YsUKLViwQIsWLdLKlSuVmZmp3/3ud3r22Wfdq8tIKlGDxYsXa/78+Ro5cqTq1Kmjrl276tZbb9Xs2bPdSxNfyLnHrCibzaZ169bpr3/9qyZPniypKNStXbvWfaYzISFBVqtVy5Yt08mTJ3XZZZdp7ty56tSpU4XfHwAAXyBXlWRUrroYDRs21IYNG/TXv/5Vjz32mMLCwtSlSxdNnDixxLyevXv31ooVKyp0G58kNWvWTImJiZo/f75GjRql5s2ba8KECZozZ06Zc0I1a9ZMffv21ZIlS3TixAk9+OCDFRqDVLQq8+rVq7Vo0SKNGTNGkZGR6tKlix5//HFZrVZJ0nPPPae5c+fqL3/5i86cOaNrrrlGzz//fJlzkwG+ZnFV9qy6AAAAAAD4sU8//bTEPGcbN27UggULtH379hKT8AMom8/nmPrhhx80YsQItWnTRl26dNH8+fPdy1pmZWXp0UcfVbt27dS1a1etWbPG47UX2g8AAIDSkcEAoPJ8+eWXGjZsmF599VXt2LFDmzZt0sKFCzVw4ECaUkA5+fRWPpfLpZEjR+rKK6/Uq6++qrS0ND3++OOKiIjQww8/rKlTpyolJUUbNmxQUlKSEhISFBsbq759+0rSBfcDAACgJDIYAFSuESNGKCcnR8uWLVNqaqrq1aun+++/Xw899JDRQwOqHZ82plJTU9WsWTNNnz5dtWrV0hVXXKFevXrpiy++0I8//qh33nlHW7ZsUdOmTdWiRQsdOnRIa9euVd++fS+4HwAAAKUjgwFA5bJarZo0aZImTZpk9FCAas+nt/LFxsZq0aJF7on6Dhw4oPfff1+dOnXSnj17ZLfb1bRpU/fz27dvr71798rpdF5wPwAAAEpHBgMAAGbl8zmmit1666267bbbFB0drfvuu0/JycmKjY31eE5MTIzy8/OVlpZ2wf0AAAC4MDIYAAAwE8MaU3PnztWaNWuUnZ2tCRMmKDc3V2FhYR7PCQ0NlSQ5HI4L7gcAAMCFkcEAAICZ+HSOqbNdddVVkqSnn35a9957rzp06FAi3BQ/Dg8PV3h4+Hn3l8cvv+SosNDlflynTk2lp2eX+zOgalAPc6Ee5kNNzIV6mEtQkEW1akUaPQxTMyqDkb/Mj5qYC/UwH2piLtTDXCqSwXzamEpLS9OuXbt08803u7c1a9ZMkpSXl6fU1FSP56ekpMhqtapWrVqqX7/+efeXR2GhyyMYFW+DeVAPc6Ee5kNNzIV6wOzMkMHIX9UDNTEX6mE+1MRcqId/8OmtfMePH9fYsWP1ww8/uLft3btXISEhuu2225Senq6jR4+69+3atUutWrVSaGio4uPjz7sfAAAApSODAQAAs/JpYyouLk6tW7dWQkKCvv32W3322WeaPn267rvvPjVs2FDdu3fXpEmTtG/fPm3dulWrV6/WkCFDJOmC+wEAAFA6MhgAADAri8vl8um1bykpKZo1a5a2bdumkJAQ9e/fX+PHj5fValVGRoamTZumjz76SNHR0Ro6dKhH6LnQfm+lp2d7XPIXExOl1NSsSvl8qDjqYS7Uw3yoiblQD3MJCrKoTp2aRg/DlIzOYOQv86Mm5kI9zIeamAv1MJeKZDCfN6bMgGBkbtTDXKiH+VATc6Ee5kJjyrzIX+ZHTcyFepgPNTEX6mEuFclgPr2VDwAAAAAAAChGYwoAAAAAAACGoDEFAAAAAAAAQ9CYAgAAAAAAgCFoTAEAAAAAAMAQNKYAAAAAAABgCBpTAAAAAAAAMASNKQAAAAAAABiCxhQAAAAAAAAMQWMKAAAAAAAAhqAxBQAAAAAAAEPQmAIAAAAAAIAhaEwBAAAAAADAEDSmAAAAAAAAYAgaUwAAAAAAADAEjSkAAAAAAAAYgsYUAAAAAAAADEFjCgAAAAAAAIagMQUAAAAAAABD0JgCAAAAAACAIWhMAQAAAAAAwBA0pgAAAAAAAGAIGlMAAAAAAAAwBI0pAAAAAAAAGILGFAAAAAAAAAxBYwoAAAAAAACGoDEFAAAAAAAAQ9CYAgAAAAAAgCFoTAEAAAAAAMAQNKYAAAAAAABgCBpTAAAAAAAAMASNKQAAAAAAABiCxhQAAAAAAAAMQWMKAAAAAAAAhqAxBQAAAAAAAEPQmAIAAAAAAIAhaEwBAAAAAADAEDSmAAAAAAAAYAgaUwAAAAAAADAEjSkAAAAAAAAYgsYUAAAAAAAADEFjCgAAAAAAAIagMQUAAAAAAABD0JgCAAAAAACAIWhMAQAAAAAAwBA0pgAAAAAAAGAIGlMAAAAAAAAwBI0pAAAAAAAAGILGFAAAAAAAAAxBYwoAAAAAAACG8Hlj6sSJExo7dqw6duyozp07a8qUKcrMzJQkrVu3Ts2bN/f4M2LECI/XPvTQQ2rTpo169uypf//7374ePgAAQLVD/gIAAGYV4ss3Kyws1JgxY2S327V27Vo5HA7NmDFDCQkJSkxM1Hfffac77rhDEyZMcL8mLCzM/d9jxoxRgwYN9Morr2jnzp2aMmWKGjVqpLZt2/ryYwAAAFQb5C8AAGBmPm1MHTx4UN98840++eQTxcTESJKmTp2qe+65R9nZ2Tp8+LBuuukm976z7dixQwcPHtSaNWtks9nUtGlT/e9//9O6desIRgAAAGUgfwEAADPz6a18DRo00KpVqzyCj8VikcvlcgejJk2alPraL7/8Us2bN5fNZnNva9++vfbs2VPVwwYAAKi2yF8AAMDMfNqYstvt6tatm8e2F154QU2aNJHVatUvv/yit956Sz169NBNN92kBQsWyOFwSJKSk5MVGxvr8dq6desqOTnZZ+MHAACobshfAADAzHx6K9+5Vq5cqXfffVcrV67U4cOHJUlRUVFKTExUUlKSZs2apczMTM2cOVO5ubke8x1IUmhoqAoKCpSfn6+QEO8/Sp06NUtsi4mJqtiHQaWiHuZCPcyHmpgL9UB1Qv7C+VATc6Ee5kNNzIV6+AfDGlOJiYlasmSJpk2bpq5du0qSPv/8c9WqVUuS1KJFC0nSo48+qqlTpyo8PFwZGRkex3A4HLJareUKRZKUnp6twkKX+3FMTJRSU7Mq8GlQmaiHuVAP86Em5kI9zCUoyFJqAwRFyF84H2piLtTDfKiJuVAPc6lIBvPprXzFZs+eraVLl2rGjBm655573NuLQ1Gxpk2bKj8/XydPnlT9+vWVmprqsT81NbXE5eUAAAAoifwFAADMyOeNqWXLlmn9+vWaO3euBg0a5N7+8ssvq0ePHiosLHRv27dvn2rWrKnY2FjFx8fr4MGDys7Odu/ftWuX2rRp49PxAwAAVDfkLwAAYFY+bUwdPHhQiYmJGjp0qDp37qzU1FT3n06dOunkyZN68sknlZSUpA8++EB//etfNXz4cAUFBal9+/a64oor9Nhjj+nbb7/Vxo0btWXLFg0ePNiXHwEAgKphkTJznTqWmqPMM/mSxegBwV+QvwAAgJlZXC6X68JPqxxLly7VsmXLSt335ptvKiMjQ/Pnz9eBAwdks9n0pz/9SaNHj5bFUpTOjx8/rr/85S/atWuX6tWrp0ceeUT9+vUr9ziY48DcqIe5UA/zoSbmUin1sEj7j53Skk17lOcsUJg1WGMHxqtl42jJZ7+l/QNzTJVE/oK3qIm5UA/zoSbmQj3MpSIZzKeNKbMgGJkb9TAX6mE+1MRcKqMemblOTVq+TXnOAve2MGuw5o3uJFuEtaJDDCg0psyL/GV+1MRcqIf5UBNzoR7mUu0mPwcAAL/JyHZ4NKUkKc9ZoIwch0EjAgAAAHyDxhQAAAazR4UpzBrssS3MGix7ZKhBIwIAAAB8g8YUAAAGs0WEaOzAeHdzqniOKVsNbuMDAACAfwsxegAAAAQ8l9SycbTmje6kjByH7JGhRU2pgJsFEgAAAIGGxhQAAGbgkmwR1t8mO6cpBQAAgADArXwAAAAAAAAwBI0pAAAAAAAAGILGFAAAAAAAAAxBYwoAAAAAAACGoDEFAAAAAAAAQ9CYAgAAAAAAgCFoTAEAAAAAAMAQNKYAAAAAAABgCBpTAAAAAAAAMASNKQAAAAAAABiCxhQAAAAAAAAMQWMKAAAAAAAAhqAxBQAAAAAAAEPQmAIAAAAAAIAhaEwBAAAAAADAEDSmAAAAAAAAYAgaUwAAAAAAIDBZpMxcp46l5ijzTL5kMXpAgSfE6AEAAAAAAAD4nEXaf+yUlmzaozxngcKswRo7MF4tG0dLLqMHFzi4YgoAAAAAAASczNNOd1NKkvKcBVqyaY8yTzsNHllgoTEFAAAAAAACTka2w92UKpbnLFBGjsOgEQUmGlMAAAAAACDg2KPCFGYN9tgWZg2WPTLUoBEFJhpTAAAAAAAg4NgiQjR2YLy7OVU8x5SthtXgkQUWJj8HAAAAAACBxyW1bByteaM7KSPHIXtkaFFTionPfYrGFAAAAAAACEwuyRZhlS3C6n4M3+JWPgAAAAAAABiCxhQAAAAAAAAMQWMKAAAAAAAAhqAxBQAAAAAAAEPQmAIAAAAAAIAhaEwBAAAAAADAEDSmAAAAAAAAYAgaUwAAAAAAADAEjSkAAAAAAAAYgsYUAAAAAAAADEFjCgAAAAAAAIagMQUAAAAAAABD0JgCAAAAAACAIWhMAQAAAAAAwBA0pgAAAAAAAGAIGlMAAAAAAAAwBI0pAAAAAAAAGILGFAAAAAAAAAxBYwoAAAAAAACGoDEFAAAAAAAAQ9CYAgAAAAAAgCFoTAEAAAAAAMAQPm9MnThxQmPHjlXHjh3VuXNnTZkyRZmZmZKkrKwsPfroo2rXrp26du2qNWvWeLz2QvsBAABQEvkLAACYVYgv36ywsFBjxoyR3W7X2rVr5XA4NGPGDCUkJCgxMVFTp05VSkqKNmzYoKSkJCUkJCg2NlZ9+/aVpAvuBwAAgCfyFwAAMDOfNqYOHjyob775Rp988oliYmIkFYWde+65Rz/++KPeeecdbdmyRU2bNlWLFi106NAhrV27Vn379r3gfgAAAJRE/gIAAGbm01v5GjRooFWrVrlDkSRZLBa5XC7t3LlTdrtdTZs2de9r37699u7dK6fTqT179px3PwAAAEoifwEAADPz6RVTdrtd3bp189j2wgsvqEmTJkpPT1dsbKzHvpiYGOXn5ystLU3Jycnn3d+gQQOvx1GnTs0S22JiosrxSVDVqIe5UA/zoSbmQj1gZuQvlAc1MRfqYT7UxFyoh3/waWPqXCtXrtS7776rlStX6quvvlJYWJjH/tDQUEmSw+FQbm7uefeXR3p6tgoLXe7HMTFRSk3NupiPgCpAPcyFepgPNTEX6mEuQUGWUhsg+A35C2WhJuZCPcyHmpgL9TCXimQwn6/KVywxMVELFizQE088oa5duyo8PLxEwCl+HB4efsH9AAAAOD/yFwAAMBtDrpiaPXu2XnzxRc2YMUODBg2SJNWvX1+pqakez0tJSZHValWtWrUuuB8AAABlI38BAAAz8vkVU8uWLdP69es1d+5cdyiSpPj4eKWnp+vo0aPubbt27VKrVq0UGhp6wf0AUG1ZpMxcp46l5ijzTL5kMXpAAPwN+QsAAJiVTxtTBw8eVGJiooYOHarOnTsrNTXV/ad+/frq3r27Jk2apH379mnr1q1avXq1hgwZIklq2LDhefcDQLVkkfYfO6VJy7dpxurtmpT4qfYfO0VzCkClIX8BAAAzs7hcLteFn1Y5li5dqmXLlpW6780331SdOnU0bdo0ffTRR4qOjtbQoUM9gk9GRsZ593uLyTfNjXqYC/WoWpm5Tk1avk15zgL3tjBrsOaN7iRbhLXU11ATc6Ee5sLk5yWRv+AtamIu1MN8qIm5UA9zqUgG82ljyiwIRuZGPcyFelStY6k5mrF6e4ntM4Z1VOO6kaW+hpqYC/UwFxpT5kX+Mj9qYi7Uw3yoiblQD3OplqvyAQAke1SYwqzBHtvCrMGyRzJ3CwAAAAD/R2MKAAxkiwjR2IHx7uZUmDVYYwfGy1aj9Nv4AAAAAMCfhBg9AAAIaC6pZeNozRvdSRk5DtkjQ4uaUgF3kzUAAACAQERjCgCM5pJsEdbfJjunKQUAAAAgQHArHwAAAAAAAAxBYwoAAAAAAACGoDEFAAAAAAAAQ9CYAgAAAAAAgCFoTAEAAAAAAMAQNKYAAAAAAABgCBpTAAAAAAAAMASNKQAAAAAAABiCxhQAAAAAAAAMQWMKAAAAAAAAhqAxBQAAAAAAAEPQmAIAAAAAAIAhaEwBAAAAAADAEDSmAAAAAAAAYAgaUwAAAAAAADAEjSkAAAAAAAAYgsYUAAAAAAAADEFjCgAAAAAAAIagMQUAAAAAAABD0JgCAAAAAAQei5SZ69Sx1BxlnsmXLEYPCAhMIWXtePTRRy/6oAsWLLjo1wIAAAQyMhgA+IBF2n/slJZs2qM8Z4HCrMEaOzBeLRtHSy6jBwcEljIbU2+88YauuuoqRUZGen2wnJwc7d+/n1AEAABwkchgAFD1Mk873U0pScpzFmjJpj2aN7qTbBFWg0cHBJYyG1OSNGPGDMXFxXl9sD179uiuu+6q8KAAAAACGRkMAKpWRrbD3ZQqlucsUEaOg8YU4GNlzjE1Y8YMNWrUqFwHa9y4sWbMmFHRMQEAAAQsMhgAVD17VJjCrMEe28KswbJHhho0IiBwlXnFVGln3U6dOqXc3FwVFhaW2HfJJZeodu3anK0DAACoADIYAFQ9W0SIxg6MLzHHlK2GlTmmAB877618xQ4fPqwpU6boq6++KrHP5XLJYrFo//79lT44AACAQEYGA4Aq4pJaNo7WvNGdlJHjkD0ylKYUYBCvGlPTp09XamqqZs6cqXr16ikoqMw7AAEAVcVSNFHniUOpqhEWIltECOEJ8HNkMACoQi7JFmH9bU6psnIVGQyoUl41pr766istWrRIN954Y1WPBwBQGpY0BgISGQwADEYGA6qcV6fd6tWrp/z8/KoeCwCgDGUtaZx52mnwyABUJTIYABiLDAZUPa8aU6NHj9bSpUuVlJRUxcMBAJTmfEsaA/BfZDAAMBYZDKh6Xt3K98orr+jnn39W7969VbNmTYWFhZV4zieffFLpgwMAFCle0vjsYMSSxoD/I4MBgLHIYEDV86ox1alTJ3Xq1KmqxwIAKANLGgOBiQwGAMYigwFVz+JyuQLu65Senq3Cwt8+dkxMlFJTswwcEc5GPcyFepjIryvCnHYWqIY1mEBkEnxHzCUoyKI6dWoaPQyUgvxlftTEXKiHiZDBTInviLlUJIOVecXUxo0bddNNN6l27drauHHjeQ9isVg0cODAixoAAMBLvy5pfGXj2kW/hAlEgF8igwGAyZDBgCpVZmNq+vTpatmypWrXrq3p06ef9yCEIgAAgMpBBgMAAIGkzMbUgQMHSv1vAAAAVB0yGAAACCRBRg8AAAAAAAAAgcmrVfmOHDmip59+Wl9//bWys7NLfc7+/fsrdWAAAACBjgwGAAD8nVeNqSlTpuj48eMaOnSo7HZ7FQ8JAAAAEhkMAAD4P68aUwcOHNDixYt1ww03VPV4AAAA8CsyGAAA8HdezTHVokULJScnV/VYAAAAcBYyGAAA8HdeXTH11FNP6ZFHHtEvv/yili1bKiIiosRzOnToUOmDAwAACGRkMAAA4O+8akwdOnRIP//8s5555plS91ssFibeBAAAqGRkMAAA4O+8akzNnz9fbdq00ahRo1SnTp2qHhMAAABEBgMAAP7Pq8bUyZMnNXv2bC4VBwAA8CEyGAAA8HdeTX5+3XXXaefOnVU9FgAAAJyFDAYAAPydV1dM9erVS7NmzdKhQ4cUFxenyMjIEs/505/+VK43zsvL0x133KFJkyapW7dukqR169bp6aef9nje73//e61YsUKSdOLECU2bNk07duxQnTp1NHbsWN16663lel8AAIDqggwGAAD8nVeNqcmTJ0uS3n77bb399tsl9lsslnKFotzcXI0fP16HDh3y2P7dd9/pjjvu0IQJE9zbwsLC3P89ZswYNWjQQK+88op27typKVOmqFGjRmrbtq3X7w0AAFBdkMEAAIC/86oxdeDAgUp7w2+++UaTJk2S1Wotse/w4cO66aabFBMTU2Lfjh07dPDgQa1Zs0Y2m01NmzbV//73P61bt45QBAAA/BIZDAAA+Lsy55h6+OGH9f3335frYElJSXr44YfP+5zPPvtMN9xwg15++eUS+w4fPqwmTZqU+rovv/xSzZs3l81mc29r37699uzZU64xAgAAmBkZDAAABJIyr5h677339MADD6hBgwZeHywtLU3vv//+eZ8zfPjwUrenp6frl19+0VtvvaUnn3xSQUFB6tWrl/785z8rNDRUycnJio2N9XhN3bp1lZyc7PX4AAAAzI4MBgAAAsl5b+W79957y3Uwl8sli8VyUQM5fPiwJCkqKkqJiYlKSkrSrFmzlJmZqZkzZyo3N9djrgNJCg0NVUFBgfLz8xUS4tVdiZKkOnVqltgWExN1UeNG1aAe5kI9zIeamAv1QGXzxwxG/qoeqIm5UA/zoSbmQj38Q5lJYs6cOb4ch6699lp9/vnnqlWrliSpRYsWkqRHH31UU6dOVXh4uDIyMjxe43A4ZLVay9WUkqT09GwVFrrcj2NiopSamlWxD4BKQz3MhXqYDzUxF+phLkFBllIbINWJv2Yw8pf5URNzoR7mQ03MhXqYS0UyWJlpon///hc9oItVHIiKNW3aVPn5+Tp58qTq16+vr7/+2mN/ampqiUvLAQAAqjMyGAAACCRlTn7uay+//LJ69OihwsJC97Z9+/apZs2aio2NVXx8vA4ePKjs7Gz3/l27dqlNmzZGDBcAAMAvkMEAAICRTNOY6tKli06ePKknn3xSSUlJ+uCDD/TXv/5Vw4cPV1BQkNq3b68rrrhCjz32mL799ltt3LhRW7Zs0eDBg40eOgAAQLVFBgMAAEYyTWOqUaNG+vvf/64DBw7o9ttv14wZMzRo0CCNGDFCkhQUFKRly5YpLy9PAwYM0N///nfNmTNH8fHxxg4cAACgGiODAQAAI1lcLpfrwk/zL0y+aW7Uw1yoh/lQE3OhHubiD5Of+yvyl/lRE3OhHuZDTcyFephLlUx+XpoDBw5o+/btSk1N1eDBg5WUlKQWLVooOjr6ot4cAAAAF0YGAwAA/sqrxlReXp4mTZqkrVu3KiwsTHl5eerdu7dWrFihQ4cO6cUXX9Tll19exUMFAAAILGQwAADg77yaY2r+/Pnavn271qxZoy+++ELFd//NnTtXderU0d/+9rcqHSQAAEAgIoMBAAB/51VjasuWLZo4caKuu+46BQcHu7fHxsZqzJgx2rFjR5UNEAAAIFCRwQAAgL/zqjGVl5enWrVqlbrParXK4XBU6qAAAABABgMAAP7Pq8ZUu3bttGrVKuXm5rq3WSwWuVwuvfTSS2rbtm2VDRAAACBQkcEAAIC/82ry84SEBN17773q2bOn2rVrJ4vFohUrVujIkSM6ceKE1q1bV9XjBOAPLFLmaacysh2yR4XJFhEiuS78MgAIVGQwAADg77xqTF155ZX617/+pRdeeEE7d+7UpZdequPHj6tjx466//771ahRo6oeJ4DqziLtP3ZKSzbtUZ6zQGHWYI0dGK+WjaNpTgFAGchgAADA33nVmJKKJtmcOHFiVY4FgB/LPO10N6UkKc9ZoCWb9mje6E6yRVgNHh0AmBcZDAAA+DOvG1O7d+/W119/raysrFL3P/zww5U2KAD+JyPb4W5KFctzFigjx0FjCgDOgwwGAAD8mVeNqaVLl2r58uUKDQ1VVFRUqc8hFAE4H3tUmMKswR7NqTBrsOyRoQaOCgDMjQwGAAD8nVeNqZdeekl33323pk6dqqAgrxbyAwAPtogQjR0YX2KOKVsNK3NMAUAZyGAAAMDfedWYcrlc6tGjB4EIwMVzSS0bR2ve6E7KyHHIHhlKUwoALoAMBgAA/J1XKWfQoEFav3698vLyqno8APyZS7JFWNW4bmTRvFI0pQDgvMhgAADA33l1xdQDDzygAQMGqGvXrrr88ssVHh5e4jkvvvhipQ8OAAAgkJHBAACAv/OqMZWQkKAff/xRbdu2Vd26dat6TAAAABAZDAAA+D+vGlOffvqppk+frj/+8Y9VPR4AAAD8igwGAAD8nVdzTNWqVUsxMTFVPRYAAACchQwGAAD8nVeNqVGjRmnRokU6fPhwVY8HAAAAvyKDAQAAf+fVrXyvvfaajh07pn79+ik8PFyRkZElnvPJJ59U+uAAAAACGRkMAAD4O68aU506dVKnTp2qeiwAAAA4CxkMAAD4O68aUw8//HBVjwMAAADnIIMBAAB/V2ZjauPGjbrppptUu3Ztbdy48bwHsVgsGjhwYKUPDgAAINCQwQBUKouUedqpjGyH7FFhskWESC6jBwUAvymzMTV9+nS1bNlStWvX1vTp0897EEIRAABA5SCDAag0Fmn/sVNasmmP8pwFCrMGa+zAeLVsHE1zCoBplNmYevHFF3XllVdKkg4cOOCzAQEAAAQyMhiAypJ52uluSklSnrNASzbt0bzRnWSLsBo8OgAoElTWjiFDhrA0MQAAgI+RwQBUloxsh7spVSzPWaCMHIdBIwKAkspsTLlcXNsJAADga2QwAJXFHhWmMGuwx7Ywa7DskaEGjQgASiqzMQUAAAAAqL5sESEaOzDe3ZwqnmPKVoPb+ACYR5lzTEnSK6+8oo8//viCB7FYLBozZkylDQoAACCQkcEAVAqX1LJxtOaN7qSMHIfskaFFTSkuzARgIudtTL3zzjuyWr3rphOKAAAAKgcZDEClcUm2COtvk53TlAJgMudtTK1atUpxcXG+GgsAAABEBgMAAIGDOaYAAAAAAABgCBpTAAAAAAAAMESZjan+/furVq1avhwLAABAwCODAQCAQFLmHFNz5szx5TgAAAAgMhgAAAgs3MoHAAAAAAAAQ9CYAgAAAAAAgCFoTAEAAAAAAMAQNKYAAAAAAABgCBpTAAAAAAAAMASNKQAAAAAAABiCxhQAAAAAAAAMQWMKAAAAAAAAhqAxBQAAAAAAAEPQmAL8hUXKzHXqWGqOMs/kSxajBwQAAAAAwPmFGD0AAJXAIu0/dkpLNu1RnrNAYdZgjR0Yr5aNoyWX0YMDAADwYxYp87RTGdkO2aPCZIsIIX8BQDnQmAL8QOZpp7spJUl5zgIt2bRH80Z3ki3CavDoAAAA/BQnBwGgwriVD/ADGdkOd1OqWJ6zQBk5DoNGBAAA4P/KOjmYedpp8MgAoPqgMQX4AXtUmMKswR7bwqzBskeGGjQiAAAA/8fJQQCoOBpTgB+wRYRo7MB4d3Oq+DJyWw1u4wMAAKgqnBwEgIozrDGVl5envn376uOPP3Zvy8rK0qOPPqp27dqpa9euWrNmjcdrLrQfCFguqWXjaM0b3UkzhnXUvNGdmNsAAFAC+QuoXJwcBICKM2Ty89zcXI0fP16HDh3y2D516lSlpKRow4YNSkpKUkJCgmJjY9W3b1+v9gMBzSXZIqy/TXZOUwoAcBbyF1AFzjo5mJHjkD0ytKgpRQ4DAK/5vDH1zTffaNKkSbJaPc8i/Pjjj3rnnXe0ZcsWNW3aVC1atNChQ4e0du1a9e3b94L7AQAAUDryF1CFODkIABXi81v5PvvsM91www16+eWXPbbv2bNHdrtdTZs2dW9r37699u7dK6fTecH9AAAAKB35CwAAmJXPr5gaPnx4qduTk5MVGxvrsS0mJkb5+flKS0u74P4GDRpU2ZgBAACqM/IXAAAwK0PmmCpNbm6uwsLCPLaFhhatZuFwOC64vzzq1KlZYltMTFS5joGqRT3M5UL1KCx06ee0HJ3MzFVtW4Qa1I1UUJDFR6MLTHxHzIV6oLoif+Fc1MRczlcP8pcx+I6YC/XwD6ZpTIWHh5cIOMWPw8PDL7i/PNLTs1VY+NvN3zExUUpNzbqYYaMKUA9zuWA9LNL+Y6e0ZNMe5TkL3KvRsCpg1eE7Yi7Uw1yCgiylNkBQOvIXzkZNzOW89SB/GYLviLlQD3OpSAbz+RxTZalfv75SU1M9tqWkpMhqtapWrVoX3A/AGJmnne5QJEl5zgIt2bRHmaeZewQAzI78BVRP5C8A/sQ0jan4+Hilp6fr6NGj7m27du1Sq1atFBoaesH9AIyRke1wh6Jiec4CZeSU7xYPAIDvkb+A6on8BcCfmKYx1bBhQ3Xv3l2TJk3Svn37tHXrVq1evVpDhgzxaj8AY9ijwhRmDfbYFmYNlj2S/2EBALMjfwHVE/kLgD8xTWNKkubOnav69etr0KBBmjVrlsaNG6fevXt7vR+A79kiQjR2YLw7HBXPcWCrYTV4ZAAAb5C/gOqH/AXAn1hcLlfATY/H5JvmRj1MwlI0f8FpR4FqhIXIFhFS9mSavz43I8che2RoUSgKuH9ZfIfviLlQD3Nh8nPzIn+ZHzUxCW8zGPnL5/iOmAv1MJeKZDDTrMoHwETKu9KLS7JFWGWLsLofAwAAoJzKk8HIXwD8hKlu5QNgDqz0AgAA4HtkMACBiMYUgBJY6QUAAMD3yGAAAhGNKQAlsNILAACA75HBAAQiGlMASmClFwAAAN8jgwEIREx+DnireOWTbIfsUWHnX6WuunNJLRtHa97oTjrtLFANazArvQAAAFQ1MhiAAERjCvBGeVep8we/rvRyZePaRcuw+uvnBAAAMBMyGIAAw618gBdYIQUAAAAAgMpHYwrwAiukAAAAAABQ+WhMAV5ghRQAAAAAACofjSnAC6yQAgAAAABA5WPyc8AbZ62QkpHjkD0ylBVSAAAAAACoIBpTgLd+XSHFFmF1PwYAAAAAABePW/kAAAAAAABgCBpTAAAAAAAAMASNKQAAAAAAABiCxhQAAAAAAAAMQWMKAAAAAAAAhqAxBQAAAAAAAEPQmAIAAAAAAIAhaEwBAAAAAADAEDSmAAAAAAAAYAgaU4BRLFJmrlPHUnOUeSZfshg9IAAAgABABgMAUwkxegBAQLJI+4+d0pJNe5TnLFCYNVhjB8arZeNoyWX04AAAAPwUGQwATIcrpgADZJ52ugORJOU5C7Rk0x5lnnYaPDIAAAD/RQYDAPOhMQUYICPb4Q5ExfKcBcrIcRg0IgAAAP9HBgMA86ExBRjAHhWmMGuwx7Ywa7DskaEGjQgAAMCkKnFOKDIYAJgPjSnAALaIEI0dGO8ORsXzG9hqWA0eGQAAgIn8OifUpOXbNGP1dk1K/FT7j5266OYUGQwAzIfJz4HKZimavyAj2yF7VJhsESElJ9N0SS0bR2ve6E7KyHHIHhlaFIiYdBMAAMCtrDmh5o3uJFvEOc0kMhgAVEs0poDKVJ6VXlySLcL6W6giEAEAAHg435xQHo0pMhgAVFvcygdUIlZ6AQAAqDzezglFBgOA6ovGFFCJWOkFAACg8ng7JxQZDACqL27lMzNv7pOHqRSf1Ts7GLHSCwAAwEXyck4oMhgAVF9cMWVWlbwCCXyDlV4AAAAq2a9zQjWuG1k0L1QpJ2rJYABQfXHFlEmVawUSmAcrvQAAAPgeGQwAqi0aUybl9QokqLjKvmWSlV4AAAB8jwwGANUSjSmT4j55HynP0sIAAAAAAKBSMceUSXGffCWwSJm5Th1LzVHmmfxS5+diaWEAAACDeJHVAAD+jyumzIr75CvGyyuhuGUSAACgknkzTQJXrQMAfsUVU2bmxQokKJ23V0IV3zJ5Nm6ZBAAAuEherizNVesAgGI0puCXzncl1Nm4ZRIAAKDyeNtw8jarAQD8H7fywS95PXk8t0wCAABUGm+nSWChHwBAMa6Ygl8q15VQ3DIJAABQKbydJoGr1gEAxbhiCtWPNxNqciUUAACAzxU3nM6d1LxEDiOrAQB+RWMKJXnT+DFKeVZw+fVKKPdl42b5DAAAAP6qPA0nshoAQDSmjOEvjR8DlDWh5rzRnTzmLQAAAIBBaDgBAMqBxpSv0fipEG8n1AQAAAAAAObH5Oc+5u0SukYx+9K93k6oCQAAAAAAzI/GlI/R+KkYVnABAAAAAMB/cCufjxU3fs5uTpmx8XPBlVSMwgouAAAAAAD4DRpTPkbjpxIwoSYAAIDvmXkBHwBAtWW6xtQHH3ygUaNGeWxr1qyZtmzZoqysLM2YMUMffvihatSooQcffFAPPPCAQSO9SDR+AACAyfh9/kLFmXwBHwBA9WW6xtShQ4d0/fXXa/78+e5tISFFw5w6dapSUlK0YcMGJSUlKSEhQbGxserbt69Rw704NH4AAICJBET+QoWYfeVmAED1ZcrGVLNmzRQTE+Ox/ccff9Q777yjLVu2qGnTpmrRooUOHTqktWvXEowAAAAqgPyFCznfAj40pgAAFWG6VfkOHTqkJk2alNi+Z88e2e12NW3a1L2tffv22rt3r5xOpy+HCAAA4FfIX7gQs6/cDACovkzVmHK5XDp69Kh27Nih3r17q3v37po2bZqysrKUnJys2NhYj+fHxMQoPz9faWlpBo0YAACgeiN/wRvFC/gUN6c8FvABAKACTHUr308//aTTp0/LYrFowYIFSktL09y5czVhwgTFx8crLCzM4/mhoUVnaBwOR7nep06dmiW2xcREXfzAUemoh7lQD/OhJuZCPVCdkb9wtvPVpE7tmrqykV0ns3JVOypCDepGKijI4sPRBR6+I+ZDTcyFevgHUzWmGjZsqO3btys6OloWS9EvuVq1amnAgAG69tprSwSg4sfh4eHlep/09GwVFv4243hMTJRSU7MqOHpUFuphLtTDfKiJuVAPcwkKspTaAEHZyF8o5k1NQi1SfVu4JJfS07N9M7AAxXfEfKiJuVAPc6lIBjPVrXySZLfb3aFIkntOA6fTqdTUVI/npqSkyGq1qlatWj4dI8rJImXmOnUsNUeZZ/IlTqwBAGAq5C8/RQYDAFQDpmpMffTRR+rQoYOys387+7Jv3z4FBQXptttuU3p6uo4ePeret2vXLrVq1cp9STlMyCLtP3ZKk5Zv04zV2zUp8VPtP3aKYAQAgEmQv/wUGQwAUE2YqjHVtm1bRUREaPLkyTp8+LC2b9+uqVOnasCAAWrYsKG6d++uSZMmad++fdq6datWr16tIUOGGD3s6qOyz5p5cbzM004t2bTHvbxwnrNASzbtUebpUlby+fV4Xx9K5aweAAA+Qv7yT2QwAEB1Yao5pqKiorR69WrNnTtXAwcOlNVqVb9+/TRx4kRJ0ty5czVt2jQNGjRI0dHRGjdunHr37m3wqKuJX8+aFQeU4pVUWjaOllwXfvnFHi8j2+EORMXynAXKyHHIFmEt9/EAAEDlIn/5JzIYAKC6sLhcroD7lROIk29m5jo1afk2j4ASZg3WvNGdPMNJJR8v80y+JiV+euHnVfL4UHkC4ftR3VATc6Ee5sLk5+YViPnLSGSw6o/viPlQE3OhHubiV5Ofo2qc76xZVR7PFhGisQPjFWYNliT3WThbDc+gU9njAwAACGRkMABAdWGqW/lQdexRYQqzBpc4G2aPvLiJS70+nktq2Tha80Z3UkaOQ/bI0KJA5LrI4wEAAODCyGAAgGqCK6YChLdnzarkeC7JFmFV47qRRZeEl3LzaGWPDwAAIOCRwQAA1QBzTCmA7k21FK3Qcr6zZmY43mlngWpYgyt+PFSKgPl+VCPUxFyoh7kwx5R5BWz+qg7IYKbEd8R8qIm5UA9zqUgG41a+QPLrWTP3RJYVDRxVdLwrG9cu+geGQAQAAFBS8cnBbIfsUWGyRYRULDeRwQAABqIxBQAAAFQXFmn/sVNasmmP8pwF7lvvWjaOpqEEAKiWmGMKAAAAqCYyTzvdTSmpaAW9JZv2KPO00+CRAQBwcWhMAQAAANVERrbDYwU9qag5lZHjMGhEAABUDI0pAAAAoJqwR4W5V9ArFmYNlj0y1KARAQBQMTSmAAAAADOwSJm5Th1LzVHmmXzJUvIptogQjR0Y725OFc8xZath9fFgAQCoHEx+DgAAABjN20nNXVLLxtGaN7qTMnIcskeGFjWlmPgcAFBNccUUAAAAYLByTWrukmwRVjWuGylbBE0pAED1RmMKAAAAMBiTmgMAAhWNKQAAAMBgTGoOAAhUNKYAAAAAgzGpOQAgUDH5OQAAAGA0JjUHAAQoGlMAAACAGfw6qbktwup+DACAv+NWPgAAAAAAABiCxhQAAABQlSxSZq5Tx1JzlHkmX7IYPSAAAMyDW/kAAACAqmKR9h87pSWb9ijPWeCe1Lxl42hu1QMAQFwxBQAAAFSZzNNOd1NKkvKcBVqyaY8yTzsNHhkAAOZAYwoAAACoIhnZDndTqlies0AZOQ6DRgQAgLnQmAIAAACqiD0qTGHWYI9tYdZg2SNDDRoRAADmQmMKAAAAqCK2iBCNHRjvbk4VzzFlq2E1eGQAAJgDk58DAAAAVcUltWwcrXmjOykjxyF7ZGhRU4qJzwEAkERjyj9YiibWzMh2yB4VJltECGEHAACgqnmbwVySLcIqW4TV/RgAABShMVXdsQQxAACA75HBAACoFMwxVc2xBDEAAIDvkcEAAKgcNKaqOZYgBgAA8D0yGAAAlYPGVDXHEsQAAACVzCJl5jp1LDVHmWfyJUvJp5DBAACoHDSmqjmWIAYAAKhEv84dNWn5Ns1YvV2TEj/V/mOnSjSnyGAAAFQOJj+v7liCGAAAoNKUNXfUvNGdfltVTyKDAQBQSWhM+QOWIAYAAKgU55s7yqMxJZHBAACoBNzKBwAAAPyKuaMAAPAtGlMAAADAr5g7CgAA3+JWPgAAAKAYc0cBAOBTNKYAAADg/yxFE5tnZDtkjwqTLSKk7GYTc0cBAOAzNKYAAADg3yzS/mOn3KvtFd+e17JxNE0nAAAMxhxTAAAA8GuZp53uppRUtMrekk17lHnaafDIAAAAjSkAAAD4tYxsh7spVSzPWaCMHIdBIwIAAMVoTAEAAMCv2aPC3KvsFQuzBsseGWrQiAAAQDEaUwAAAPBrtogQjR0Y725OFc8xZathNXhkAACAyc8rU3lWewEAAEDFeZO/XFLLxtGaN7qTMnIcskeGFjWlyGkAABiOxlRlYbUXAAAA3ypP/nJJtgirbBFW92MAAGA8buWrJKz2AgAA4FvkLwAAqj8aU5WE1V4AAAB8i/wFAED1R2OqkrDaCwAAgG+RvwAAqP5oTFUSVnsBAADwLfIXAADVH5Ofn095VtljtRcAAICKI38BABBQaEydyyKdzi/Q6TMF+jElW89t/lpRkVb17HCZLq1XUw3rRpYdkFjtBQAA4OJYpNyCAh36IUvL//k/8hcAAAGi2jWmnE6n5syZozfeeEOS9Mc//lETJkxQUFAl3JUYLP2YmqPUjDyl/JKr1z48pKhIq/p0aqKN73574WWIAQAA/FCV5q9fTwpm5zp0OrfQ3ZQifwEAEBiq3RxTCxcu1KeffqqVK1fqmWee0euvv66///3vFTpmfn6hcvIL9FN6rlyWIK147WsVulzKcxboxnaN3aFIYhliAAAQeKoifxUWupTjLNDR5Gxl5zpVWBCkb4/9Qv4CACDAVKvGVF5enl566SVNmTJFrVu3VqdOnfToo4/qxRdflMt1kafPgqWd+3/WqWynsk87lZXz27LDYdZgySKWIQYAAAGrSvJXkLT9m5+VnnlGeY5CFeRL6Zm5KnSRvwAACDTVqjG1f/9+5ebmqn379u5t7du3V2pqqo4fP17+A1qkn9PPyJkv/ZJ1RuGhIaptC1eYNVgf7DymP930OwVZLCxDDAAAAlZV5K8fUk/ryE+ZOpNXoNy8fJ3KyZMtMlT//fI4+QsAgABTrRpTycnJqlmzpiIjI93bYmJi3PvKK/O0U8knTys3L1+2yFCFWC0KCbFoRP9rlJXj1JvbjioiLFgj77iGZYgBAEBAqor8tT/ppApdLoWHhigiPET2qDC9+ckRDejxO727/XuFWYM07LaryV8AAASAajX5eW5ursLCwjy2hYYWnTlzOLy/tLtOnZqSpBOHUhUeFizJohNpOYqxh8vpKFCtqFBNub+DMk87ZKsRquAg6ZnxNygj+4xqR0WoQd1IBQVZKu1zoaSYmCijh4CzUA/zoSbmQj3gz6oifxW6pCCLRSFWi85kOlUQEayOrS7R9m9+0sg74pR12qGYWjX0t7FdlZXrIH/5EP+emQv1MB9qYi7Uwz9Uq8ZUeHh4iQBU/Dg8PNzr46SnZ6uw0KUaYSFa9+Y+3XbDlaoRFqKMbIdia0UoPMyqPEeBQoKCVCM8RHWiQqVCqb4tXJJL6enZlfmxcI6YmCilpmYZPQz8inqYDzUxF+phLkFBFncDBJWjKvLXf788rlu6XqGMzDMKtQbrp7TTuvLSaDWo20y/ZJ1RnegIxdhDpXwp0kr+8hX+PTMX6mE+1MRcqIe5VCSDVatb+erXr6+srCzl5ua6t6WmpkqS6tWrV+7j2SJC1K/LlfrXR4cVFRmqBjE1VeCSfsnKU2R4sJo3sqlOZFFTCgAAIBBVRf66t1dL/ee/R5T6yxnZa4bq0vo2pZzMlcUitWgcrXq2MCm/0j4CAAAwsWrVmGrRooUiIiK0a9cu97adO3cqNjZWDRs2LP8BXVLLxtF65K52kqSIkCBdWqeGrqxXU7Zwq3SRC80AAAD4i6rKX9OHXa8ml9hUM9yq+tFhatEwWrFRYVLBhQ8BAAD8R7W7lW/AgAF68sknNXfuXOXl5WnBggW6//77L/6gLqlhbE2FWlzuxwAAAChC/gIAAFWpWjWmJOnxxx9XXl6ehg0bprCwMA0YMEBDhw4t1zFKmziTyTTNhXqYC/UwH2piLtTDPKhF1SB/BQ5qYi7Uw3yoiblQD/OoSC0sLpeLc1QAAAAAAADwuWo1xxQAAAAAAAD8B40pAAAAAAAAGILGFAAAAAAAAAxBYwoAAAAAAACGoDEFAAAAAAAAQ9CYAgAAAAAAgCFoTAEAAAAAAMAQNKYAAAAAAABgCBpTAAAAAAAAMETANqacTqeefPJJdezYUR07dtTf/vY3FRYWGj2sgJSXl6e+ffvq448/dm/LysrSo48+qnbt2qlr165as2aNgSMMDCdOnNDYsWPVsWNHde7cWVOmTFFmZqYk6mGUH374QSNGjFCbNm3UpUsXzZ8/X/n5+ZKoidGmTZumgQMHuh9TD9/74IMP1Lx5c48//fr1k0Q9zI4MZg7kL/Mgg5kL+cu8yF/mUBUZLKQqB2xmCxcu1KeffqqVK1cqJydHEydOlM1m00MPPWT00AJKbm6uxo8fr0OHDnlsnzp1qlJSUrRhwwYlJSUpISFBsbGx6tu3r0Ej9W+FhYUaM2aM7Ha71q5dK4fDoRkzZighIUGJiYnUwwAul0sjR47UlVdeqVdffVVpaWl6/PHHFRERoYcffpiaGGj79u3atGmT4uLi3Nuoh+8dOnRI119/vebPn+/eFhJSFGuoh7mRwYxH/jIPMpi5kL/Mi/xlHlWSwVwB6MyZM67WrVu7PvzwQ/e2zZs3uzp37uwqLCw0cGSB5euvv3b16dPHddttt7l+97vfuT766COXy+VyHT9+3NW8eXPXd999537u0qVLXX/84x+NGqrf27dvn+t3v/udKyUlxb1t586drubNm1MPgyQnJ7seeeQR18mTJ93bZs+e7Ro8eDA1MdDp06ddN910k2vQoEHunzf1MMbjjz/uevrpp0tspx7mRgYzHvnLXMhg5kL+Mifyl7lURQYLyFv59u/fr9zcXLVv3969rX379kpNTdXx48cNHFlg+eyzz3TDDTfo5Zdf9ti+Z88e2e12NW3a1L2tffv22rt3r5xOp6+HGRAaNGigVatWKSYmxr3NYrHI5XJp586d1MMAsbGxWrRokWrVqiVJOnDggN5//3116tSJ74iBFi1apHbt2un66693b6Mexjh06JCaNGlSYjv1MDcymPHIX+ZCBjMX8pc5kb/MpSoyWEA2ppKTk1WzZk1FRka6txX/MkhOTjZqWAFn+PDhmjhxosLDwz22JycnKzY21mNbTEyM8vPzlZaW5sshBgy73a5u3bp5bHvhhRfUpEkTpaenUw+D3XrrrbrtttsUHR2t++67j++IQfbs2aM33nhDkyZN8thOPXzP5XLp6NGj2rFjh3r37q3u3btr2rRpysrKoh4mRwYzHvnLXMhg5kX+Mgfyl7lUVQYLyMZUbm6uwsLCPLaFhoZKkhwOhxFDwlmoj/FWrlypd999V1OnTqUeJjB37lytWbNG2dnZmjBhAjUxgMPh0JQpUzRlyhTZ7XaPfdTD93766SedPn1aFotFCxYs0MyZM7Vz506+H9UA9TEvamMOZDDzIH8Zj/xlPlWVwQJy8vPw8PASP5jix+eePYLvUR9jJSYmasmSJZo2bZq6du2qb7/9lnoY7KqrrpIkPf3007r33nvVoUMHauJjiYmJuuyyy9SnT58S+/g3y/caNmyo7du3Kzo6WhaLRZJUq1YtDRgwQNdeey31MDG+L+ZFbYxHBjMX8pfxyF/mU1UZLCAbU/Xr11dWVpZyc3MVEREhSUpNTZUk1atXz8ihQUX1Ka5HsZSUFFmtVvf93qgas2fP1osvvqgZM2Zo0KBBkqiHUdLS0rRr1y7dfPPN7m3NmjWTVLTENzXxrf/85z9KTU1VmzZtJBUtd19QUKA2bdpo+vTp1MMA5545LZ7PwOl0Ug8TI4OZF7/vjUUGMwfyl7mQv8ypKjJYQN7K16JFC0VERGjXrl3ubTt37lRsbKwaNmxo4MggSfHx8UpPT9fRo0fd23bt2qVWrVq5LwVE5Vu2bJnWr1+vuXPnugORRD2Mcvz4cY0dO1Y//PCDe9vevXsVEhKi2267jZr42Lp167Rlyxa9/vrrev3113XXXXepefPmev3119WhQwfq4WMfffSROnTooOzsbPe2ffv2KSgoiO+HyZHBzIvf98Yhg5kH+ctcyF/mU1UZLCAbU+Hh4RowYICefPJJ7d69W5999pkWLFigIUOGGD00qOjywO7du2vSpEnat2+ftm7dqtWrV1OfKnTw4EElJiZq6NCh6ty5s1JTU91/6tevTz0MEBcXp9atWyshIUHffvutPvvsM02fPl333Xcf3xEDNGzYUJdddpn7T3R0tEJDQ3XZZZdRDwO0bdtWERERmjx5sg4fPqzt27dr6tSpGjBgAPUwOTKYefHdMQYZzFzIX+ZC/jKfqspgFpfL5fLB+E0nLy9PTz/9tN544w2FhYVpwIABmjBhgvs+SfhW8+bNtWrVKveqJBkZGZo2bZo++ugjRUdHa+jQofwjU4WWLl2qZcuWlbrvzTffVJ06daiHAVJSUjRr1ixt27ZNISEh6t+/v8aPHy+r1cp3xGBLly7Vf//7X23atEkS/2YZ4bvvvtPcuXO1Z88eWa1W9evXTxMnTlRoaCj1MDkymHmQv4xHBjMf8pd5kb/MoSoyWMA2pgAAAAAAAGCsgLyVDwAAAAAAAMajMQUAAAAAAABD0JgCAAAAAACAIWhMAQAAAAAAwBA0pgAAAAAAAGAIGlMATIEFQgEAAHyL/AXADGhMAfDK4MGD1bx5c/efq6++Wp07d9a4ceN0+PBhj+dOnjxZAwcO9PrYS5Ys0ebNmyt7yJVu8+bN7s8/evRoSVLz5s310ksvVdp7DBw40P0eH3/8caUdFwAAVD/kL/IXEAhCjB4AgOqjU6dOeuSRRyRJTqdTJ06c0Jo1azRgwAC99NJLatGihSRp9OjRysvL8/q4iYmJmjFjRlUMuUqsX79edevWrZJjz5o1S0lJSXr44Yer5PgAAKB6IX8VIX8B/ovGFACv2e12xcfHe2zr2bOn7rjjDk2fPl0bN26UJDVu3NiA0flOXFycwsLCquTYzZo1U0RERJUcGwAAVD/kryLkL8B/cSsfgAqJiIjQ0KFDtWfPHvcl5edeSv5///d/6t+/v+Li4tSlSxc9/fTTOnPmjKSiS7ElacaMGRo8eLAkyeFwaOHCherZs6datWql6667TpMnT1Z2drYk6fjx42revLk++ugjDRkyRHFxcerevbtefvllj7EdO3ZMo0aNUrt27XT99ddr6tSpysrKcu8/fPiwhg0bpvj4eHXs2FFPPfWUe1wXw+Fw6N5779WNN96o5ORk9zg/+OAD3XPPPYqLi1Pv3r21fft27dixQ7fccovi4+P14IMPKiUl5aLfFwAABBby12/IX0D1R2MKQIVdf/31kqQ9e/aU2Pf9999r7Nixuvbaa7Vq1So98sgjevXVV7V06VJJcp/lGzZsmKZPny6p6HLqf/7znxozZoxWr16tYcOGacuWLVq1apXHsRMSEnT99ddrxYoVatu2raZPn65Dhw5JkrKysnT33Xfr559/1pw5czRt2jR98sknSkhIkCQlJyfrnnvuUU5OjhYuXKiJEyfqjTfe0MSJEy/qZ1BYWKjHHntMR48e1Zo1a1SvXj33vilTpugPf/iDli9fLqvVqkcffVRPPPGEhg8frtmzZ2v37t1avHjxRb0vAAAITOQv8hfgL7iVD0CF1alTR5KUnp5eYt8333wjh8OhoUOHKjY2Vh07dlRoaKjy8/MlyX1peqNGjdS0aVNJ0i+//KKEhATdcsstkqSOHTtq165d2rVrl8ex77jjDo0cOVKS1Lp1a7399tv6+OOP1bRpU23evFmZmZl6/fXX3fMRWK1WLVy4UKdPn9batWtlsVi0atUq1axZU5J0ySWX6P7779f+/fvVsmXLcv0MZs+erW3btmn9+vW67LLLPPb1799fQ4YMkSSlpqZq8uTJevzxx3XrrbdKkrZt26avvvqqXO8HAAACG/mL/AX4CxpTAKpUXFycQkNDNXDgQPXr10833nijbrnlFgUFlX3B5pIlSyRJP//8s44cOaLvvvtOhw8fVq1atTye17p1a/d/16hRQzabTadPn5Ykffnll2rVqpXHJJk9e/ZUz549JUk7duxQu3btFB4e7g5pxY+3b99ermC0ceNG7d+/Xw899JB7AtJzfwbFikPk1Vdf7d5mt9vdl8kDAABUFPmL/AVUJ9zKB6DCUlNTJUmxsbEl9l166aVas2aNmjZtqhdeeEGDBg1Sz5499dFHH5V5vJ07d6pv3776/e9/rwkTJui///2vwsPD5XK5PJ537gSYQUFB7uecOnVKtWvXLvM9MjIy9O677+rqq692/7nmmmt05syZcs838N133+m6667TP/7xD/fP4myRkZEltoWHh5frPQAAAM5G/iJ/Af6CK6YAVNgXX3whSWrTpk2p+9u3b6+///3vysnJ0SeffKLnnntO48eP1+eff67Q0FCP52ZlZWnUqFHq0qWLVq5cqYYNG0qSxo0bp59++snrMUVFRZW4tD0vL0/bt29X27ZtFRUVpZtvvlnDhw8v8dryLkU8atQo3Xfffbr55ps1b948/e1vfyvX6wEAAMqL/EX+AvwFV0wBqBCHw6E1a9aoQ4cOJe7tl6TXX39dPXr0kNPpVGRkpDuM5OTkuC+fPvuy8iNHjigzM1MPPPCAOxSdOXNGu3fvVmFhodfjat26tb755hudPHnSvW3btm0aPny4srOz1bZtWx05ckRXXXWVrrnmGl1zzTWqV6+eFi5cqKSkpHL9DOrUqSObzabx48frP//5j3bs2FGu1wMAAJQH+Yv8BfgTrpgC4LWMjAz3yi/5+fk6fvy41q9frxMnTuiZZ54p9TXt2rVTWlqaJkyYoLvuuku5ubl69tln1bZtW/el3jabTV988YXatGmjJk2aqEaNGlq8eLGGDh2qrKwsPf/880pJSVFUVJTXY73zzju1Zs0aPfTQQxo5cqTy8vI0f/589e3bV/Xr19eQIUP02muvacyYMbrrrruUn5+vZcuWKS0trdR5CrwxYMAAvfTSS3ryySf12muvXdQxAAAAzkb+Oj/yF1D90ZgC4LVt27Zp27ZtkqTQ0FDVq1dP8fHxmj9/vpo0aVLqay699FI9++yzWrRokR5++GGFhISoa9eu7mWDpaJLsRcvXqxDhw7pP//5jxYvXqz58+dr5MiRqlOnjrp27apbb71Vs2fPVkZGhldjtdvtWrdunebMmaPHHntMkZGR6t27tyZMmOAe1/r16zV//nyNGzdOoaGhateunRYuXFhikk9vBQUF6YknntDdd9+tdevW6aabbrqo4wAAABQjf50f+Quo/iyuc2ezAwCUavPmzUpISNBXX31VYuLPynT8+HH16NFDq1atUrdu3arsfQAAAMyO/AX4P+aYAoBy+uqrr3T06NEqOfZ3332n/fv3V8mxAQAAqivyF+C/uJUPAMrp3nvvVY8ePbR8+fJKP/bUqVP1v//9r9KPCwAAUJ2RvwD/xa18AAAAAAAAMAS38gEAAAAAAMAQNKYAAAAAAABgCBpTAAAAAAAAMASNKQAAAAAAABiCxhQAAAAAAAAMQWMKAAAAAAAAhvh/4CvE5RN4+H8AAAAASUVORK5CYII=\n",
      "text/plain": [
       "<Figure size 1440x504 with 2 Axes>"
      ]
     },
     "metadata": {},
     "output_type": "display_data"
    }
   ],
   "source": [
    "fig, ax = plt.subplots(1, 2, figsize=(20, 7))\n",
    "\n",
    "ax[0].vlines(200, 0, 25000, colors=\"darkgray\", ls=\"--\")\n",
    "ax[0].vlines(10000, 0, 25000, colors=\"black\", ls=\"--\")\n",
    "sns.scatterplot(\n",
    "    data=macius,\n",
    "    x=\"Dscale\",\n",
    "    y=\"TEscale\",\n",
    "    ax=ax[0],\n",
    "    palette=[\"hotpink\", \"royalblue\"],\n",
    ")\n",
    "ax[0].set_ylabel(\"Time [min]\")\n",
    "ax[0].set_xlabel(\"Distance [km]\")\n",
    "ax[0].set_title(\"Private records - total times\")\n",
    "ax[0].set_xlim((-0.5, 50))\n",
    "ax[0].set_ylim((-5, 300))\n",
    "\n",
    "ax[1].vlines(200, 0, 25000, colors=\"darkgray\", ls=\"--\")\n",
    "ax[1].vlines(10000, 0, 25000, colors=\"black\", ls=\"--\")\n",
    "sns.scatterplot(\n",
    "    data=macius,\n",
    "    x=\"Dscale\",\n",
    "    y=\"Tscale\",\n",
    "    ax=ax[1],\n",
    "    palette=[\"hotpink\", \"royalblue\"],\n",
    ")\n",
    "ax[1].set_ylabel(\"Time [min]\")\n",
    "ax[1].set_xlabel(\"Distance [km]\")\n",
    "ax[1].set_title(\"Private records - moving times\")\n",
    "ax[1].set_xlim((-0.5, 50))\n",
    "ax[1].set_ylim((-5, 300))\n",
    "plt.savefig(\"./../images/Ma.jpg\", dpi=300)"
   ]
  },
  {
   "cell_type": "markdown",
<<<<<<< HEAD
   "id": "3cc5b6fc",
=======
   "id": "79c9a71c",
>>>>>>> 8d3198882c53cfaf25803d902cbd015a961344da
   "metadata": {},
   "source": [
    "- czasy poruszania się wykazują juz minijeszą wariancję\n",
    "\n",
    "__Problemy__:\n",
    "- nie są to tylko rekordy, ale w związku z rozpiętością historyczną danych i w ogóle warunkami \"codziennymi\" rejestracji używamy wszystkich\n",
    "- trochę odpoczynku może zaburzać kwestię uzupełniania magazynu energii/zmęczenia\n",
    "- brak krótkich dystansów, ale ssporo danych pozwoli dobrze dopasować parametry prawdopodobnie\n",
    "\n",
    "ale zakładamy, że nasz dzielny zawodnik starał się zawsze przy bieganiu i porusza się strategią bliskiej optymalnej więc estymujemy.\n",
    "\n"
   ]
  },
  {
   "cell_type": "markdown",
<<<<<<< HEAD
   "id": "604c41d1",
=======
   "id": "d0333241",
>>>>>>> 8d3198882c53cfaf25803d902cbd015a961344da
   "metadata": {},
   "source": [
    "## ESTIMATION"
   ]
  },
  {
   "cell_type": "code",
<<<<<<< HEAD
   "execution_count": 157,
   "id": "8046d73f",
=======
   "execution_count": 39,
   "id": "fab9daa9",
>>>>>>> 8d3198882c53cfaf25803d902cbd015a961344da
   "metadata": {},
   "outputs": [
    {
     "name": "stderr",
     "output_type": "stream",
     "text": [
      "c:\\users\\cp\\appdata\\local\\programs\\python\\python39\\lib\\site-packages\\scipy\\optimize\\minpack.py:476: RuntimeWarning: Number of calls to function has reached maxfev = 600.\n",
      "  warnings.warn(errors[info][0], RuntimeWarning)\n"
     ]
    }
   ],
   "source": [
    "maciek_D_estim_extended, maciek_T_estim_extended, maciek_params_extended = estim_D_extended(macius, 400)"
   ]
  },
  {
   "cell_type": "code",
<<<<<<< HEAD
   "execution_count": 158,
   "id": "01d2a1d6",
=======
   "execution_count": 40,
   "id": "24db8761",
>>>>>>> 8d3198882c53cfaf25803d902cbd015a961344da
   "metadata": {},
   "outputs": [
    {
     "data": {
      "text/plain": [
       "{'E0': 62423.65160927312,\n",
       " 'sigma': 398.72922233922156,\n",
       " 'tau': 0.02914518409400867,\n",
       " 'F': 211.1565191907392}"
      ]
     },
     "execution_count": 158,
     "metadata": {},
     "output_type": "execute_result"
    }
   ],
   "source": [
    "maciek_params_extended"
   ]
  },
  {
   "cell_type": "code",
<<<<<<< HEAD
   "execution_count": 159,
   "id": "89296fd9",
=======
   "execution_count": 41,
   "id": "549e5ac6",
>>>>>>> 8d3198882c53cfaf25803d902cbd015a961344da
   "metadata": {},
   "outputs": [
    {
     "data": {
      "text/html": [
       "<div>\n",
       "<style scoped>\n",
       "    .dataframe tbody tr th:only-of-type {\n",
       "        vertical-align: middle;\n",
       "    }\n",
       "\n",
       "    .dataframe tbody tr th {\n",
       "        vertical-align: top;\n",
       "    }\n",
       "\n",
       "    .dataframe thead th {\n",
       "        text-align: right;\n",
       "    }\n",
       "</style>\n",
       "<table border=\"1\" class=\"dataframe\">\n",
       "  <thead>\n",
       "    <tr style=\"text-align: right;\">\n",
       "      <th></th>\n",
       "      <th>E0</th>\n",
       "      <th>sigma</th>\n",
       "      <th>tau</th>\n",
       "      <th>F</th>\n",
       "      <th>SEX</th>\n",
       "      <th>CONTINOUS</th>\n",
       "    </tr>\n",
       "  </thead>\n",
       "  <tbody>\n",
       "    <tr>\n",
       "      <th>0</th>\n",
       "      <td>2644.27</td>\n",
       "      <td>34.31</td>\n",
       "      <td>1.11</td>\n",
       "      <td>10.29</td>\n",
       "      <td>M</td>\n",
       "      <td>False</td>\n",
       "    </tr>\n",
       "    <tr>\n",
       "      <th>1</th>\n",
       "      <td>3209.27</td>\n",
       "      <td>32.27</td>\n",
       "      <td>0.91</td>\n",
       "      <td>10.98</td>\n",
       "      <td>F</td>\n",
       "      <td>False</td>\n",
       "    </tr>\n",
       "  </tbody>\n",
       "</table>\n",
       "</div>"
      ],
      "text/plain": [
       "        E0  sigma   tau      F SEX  CONTINOUS\n",
       "0  2644.27  34.31  1.11  10.29   M      False\n",
       "1  3209.27  32.27  0.91  10.98   F      False"
      ]
     },
     "execution_count": 159,
     "metadata": {},
     "output_type": "execute_result"
    }
   ],
   "source": [
    "param_df.round(2)"
   ]
  },
  {
   "cell_type": "markdown",
<<<<<<< HEAD
   "id": "d845524b",
=======
   "id": "824a21c9",
>>>>>>> 8d3198882c53cfaf25803d902cbd015a961344da
   "metadata": {},
   "source": [
    "### Combined"
   ]
  },
  {
   "cell_type": "code",
<<<<<<< HEAD
   "execution_count": 188,
   "id": "9a57ee6b",
=======
   "execution_count": 42,
   "id": "ad09fa82",
>>>>>>> 8d3198882c53cfaf25803d902cbd015a961344da
   "metadata": {},
   "outputs": [
    {
     "data": {
      "image/png": "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\n",
      "text/plain": [
       "<Figure size 720x504 with 1 Axes>"
      ]
     },
     "metadata": {},
     "output_type": "display_data"
    }
   ],
   "source": [
    "fig, ax = plt.subplots(1, 1, figsize=(10, 7))\n",
    "ax.vlines(200, 0, 25000, colors=\"darkgray\", ls=\"--\")\n",
    "ax.vlines(10000, 0, 25000, colors=\"black\", ls=\"--\")\n",
    "sns.scatterplot(\n",
    "    data=macius,\n",
    "    x=\"Dscale\",\n",
    "    y=\"Tscale\",\n",
    "    ax=ax,\n",
    "    palette=[\"hotpink\", \"royalblue\"],\n",
    ")\n",
    "ax.set_ylabel(\"Time [min]\")\n",
    "ax.set_xlabel(\"Distance [km]\")\n",
    "ax.set_title(\"Extended Keller model - private records\")\n",
    "ax.plot(maciek_D_estim_extended/1000, maciek_T_estim_extended/60, color=\"hotpink\")\n",
    "ax.set_xlim((-0.5, 50))\n",
    "ax.set_ylim((-5, 300))\n",
    "plt.savefig(\"./../images/M2.jpg\", dpi=300)"
   ]
  },
  {
   "cell_type": "markdown",
<<<<<<< HEAD
   "id": "060940e1",
=======
   "id": "af21b6ac",
>>>>>>> 8d3198882c53cfaf25803d902cbd015a961344da
   "metadata": {},
   "source": [
    "## UWAGA"
   ]
  },
  {
   "cell_type": "markdown",
<<<<<<< HEAD
   "id": "3ea32e30",
=======
   "id": "28efe713",
>>>>>>> 8d3198882c53cfaf25803d902cbd015a961344da
   "metadata": {},
   "source": [
    "- musieliśmy przesunąć granicę sprint/średni dystans tu do 400 metrów"
   ]
  },
  {
   "cell_type": "markdown",
<<<<<<< HEAD
   "id": "e477e1c0",
=======
   "id": "f4e3bd2e",
>>>>>>> 8d3198882c53cfaf25803d902cbd015a961344da
   "metadata": {},
   "source": [
    "* wyniki są bez sensu"
   ]
  },
  {
   "cell_type": "code",
<<<<<<< HEAD
   "execution_count": 180,
   "id": "5587c79c",
=======
   "execution_count": 43,
   "id": "baee8b7a",
>>>>>>> 8d3198882c53cfaf25803d902cbd015a961344da
   "metadata": {},
   "outputs": [],
   "source": [
    "maciek = pd.read_csv('./../data/running_data.csv')\n",
    "world = pd.read_csv('./../data/world_records.csv')"
   ]
  },
  {
   "cell_type": "code",
<<<<<<< HEAD
   "execution_count": 181,
   "id": "1a8e8db2-d9d7-4c2d-ad07-830ca4b35aa8",
   "metadata": {},
   "outputs": [],
   "source": [
    "world[\"Distance\"] = world[\"Distance\"] /1000\n",
    "world[\"Time\"] = world[\"Time\"] /60"
   ]
  },
  {
   "cell_type": "code",
   "execution_count": 182,
   "id": "1fcdb0cd",
=======
   "execution_count": 44,
   "id": "1de0d5a2",
>>>>>>> 8d3198882c53cfaf25803d902cbd015a961344da
   "metadata": {},
   "outputs": [],
   "source": [
    "maciek = maciek.loc[maciek['Type'] == 'Records']\n",
    "maciek = maciek[['Moving Time', 'Distance']]\n",
    "maciek['Distance'] = maciek['Distance']\n",
    "maciek['Moving Time'] = maciek['Moving Time'] /60"
   ]
  },
  {
   "cell_type": "code",
<<<<<<< HEAD
   "execution_count": 183,
   "id": "cc73cfad",
=======
   "execution_count": 45,
   "id": "00d7dd55",
>>>>>>> 8d3198882c53cfaf25803d902cbd015a961344da
   "metadata": {},
   "outputs": [],
   "source": [
    "world = world.loc[(maciek['Distance'].min() <= world['Distance']) & (world['Distance'] <= maciek['Distance'].max())]"
   ]
  },
  {
   "cell_type": "code",
<<<<<<< HEAD
   "execution_count": 187,
   "id": "fef08486",
=======
   "execution_count": 46,
   "id": "79b9a8fd",
>>>>>>> 8d3198882c53cfaf25803d902cbd015a961344da
   "metadata": {},
   "outputs": [
    {
     "data": {
      "image/png": "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\n",
      "text/plain": [
       "<Figure size 720x504 with 1 Axes>"
      ]
     },
     "metadata": {},
     "output_type": "display_data"
    }
   ],
   "source": [
    "fig, ax = plt.subplots(1, 1, figsize=(10, 7))\n",
    "ax.vlines(200, 0, 25000, colors=\"darkgray\", ls=\"--\")\n",
    "ax.vlines(10000, 0, 25000, colors=\"black\", ls=\"--\")\n",
    "\n",
    "sns.scatterplot(data=maciek, x='Distance', y='Moving Time', color='green')\n",
    "sns.scatterplot(data=world, x='Distance', y='Time', color='C0')\n",
    "\n",
    "ax.set_ylabel(\"Time [min]\")\n",
    "ax.set_xlabel(\"Distance [km]\")\n",
    "ax.set_title(\"Private and world records models comparison\")\n",
    "ax.plot(maciek_D_estim_extended/1000, maciek_T_estim_extended/60, color=\"green\", label=\"Maciuś\")\n",
    "ax.plot(m_D_estim_extended/1000, m_T_estim_extended/60, color=\"C0\", label=\"World\")\n",
    "ax.legend(loc=4)\n",
    "ax.set_xlim((-0.5, 50))\n",
    "ax.set_ylim((-5, 300))\n",
    "plt.savefig(\"./../images/M3.jpg\", dpi=300)"
   ]
  },
  {
   "cell_type": "code",
<<<<<<< HEAD
   "execution_count": 185,
   "id": "c509998c",
=======
   "execution_count": 47,
   "id": "9e41832f",
>>>>>>> 8d3198882c53cfaf25803d902cbd015a961344da
   "metadata": {},
   "outputs": [],
   "source": [
    "maciek_world = pd.merge(maciek, world)\n",
    "maciek_world['ratio'] = maciek_world['Time']/maciek_world['Moving Time']"
   ]
  },
  {
   "cell_type": "code",
<<<<<<< HEAD
   "execution_count": 186,
   "id": "ed1b33f1",
=======
   "execution_count": 48,
   "id": "142b2837",
>>>>>>> 8d3198882c53cfaf25803d902cbd015a961344da
   "metadata": {},
   "outputs": [
    {
     "data": {
      "text/plain": [
       "(0.0, 1.0)"
      ]
     },
     "execution_count": 186,
     "metadata": {},
     "output_type": "execute_result"
    },
    {
     "data": {
      "image/png": "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\n",
      "text/plain": [
       "<Figure size 720x504 with 1 Axes>"
      ]
     },
     "metadata": {},
     "output_type": "display_data"
    }
   ],
   "source": [
    "zero_mask = maciek_D_estim_extended > 0\n",
    "\n",
    "fig, ax = plt.subplots(1, 1, figsize=(10, 7))\n",
    "# ax.vlines(200, 0, 1, colors=\"darkgray\", ls=\"--\")\n",
    "# ax.vlines(10000, 0, 1, colors=\"black\", ls=\"--\")\n",
    "\n",
    "sns.scatterplot(data=maciek_world, x='Distance', y='ratio', color='C0', label='data')\n",
    "\n",
    "ax.set_ylabel(\"Ratio\")\n",
    "ax.set_xlabel(\"Distance [m]\")\n",
    "ax.set_title(\"Ratio of world and private records\")\n",
    "ax.plot(m_D_estim_extended[zero_mask], m_T_estim_extended[zero_mask]/ maciek_T_estim_extended[zero_mask], color=\"hotpink\")\n",
    "ax.set_xlim((2000, 80000))\n",
    "ax.set_ylim((0, 1))\n",
    "#plt.savefig('./../images/ratio_maciek_world.jpg', dpi=300)"
   ]
  },
  {
   "cell_type": "code",
<<<<<<< HEAD
   "execution_count": 98,
   "id": "ca3884f0",
=======
   "execution_count": 49,
   "id": "c7c5b447",
>>>>>>> 8d3198882c53cfaf25803d902cbd015a961344da
   "metadata": {},
   "outputs": [
    {
     "data": {
      "text/plain": [
       "1901"
      ]
     },
     "execution_count": 98,
     "metadata": {},
     "output_type": "execute_result"
    }
   ],
   "source": [
    "m_D_estim_extended.size"
   ]
  },
  {
   "cell_type": "code",
   "execution_count": null,
<<<<<<< HEAD
   "id": "4162ca3d",
   "metadata": {},
   "outputs": [],
   "source": []
  },
  {
   "cell_type": "code",
   "execution_count": null,
   "id": "1bca7c3e",
   "metadata": {},
   "outputs": [],
   "source": []
  },
  {
   "cell_type": "code",
   "execution_count": null,
   "id": "32703458",
   "metadata": {},
   "outputs": [],
   "source": []
  },
  {
   "cell_type": "code",
   "execution_count": null,
   "id": "b811572b",
   "metadata": {},
   "outputs": [],
   "source": []
  },
  {
   "cell_type": "code",
   "execution_count": null,
   "id": "7b0bec35",
   "metadata": {},
   "outputs": [],
   "source": []
  },
  {
   "cell_type": "code",
   "execution_count": null,
   "id": "75c61ca6-f3f3-4c03-8761-6d6cc771db7b",
   "metadata": {},
   "outputs": [],
   "source": []
  },
  {
   "cell_type": "code",
   "execution_count": null,
   "id": "22d9e95e-fb26-404a-8c77-df2a25bbd1cb",
   "metadata": {},
   "outputs": [],
   "source": []
  },
  {
   "cell_type": "code",
   "execution_count": null,
   "id": "9794dce7-7f9a-475b-82a3-978ce5d54466",
   "metadata": {},
   "outputs": [],
   "source": []
  },
  {
   "cell_type": "code",
   "execution_count": null,
   "id": "c0c04d6d-a093-4193-9910-f66111f81110",
   "metadata": {},
   "outputs": [],
   "source": []
  },
  {
   "cell_type": "code",
   "execution_count": null,
   "id": "0ad8686b-0c87-43d0-8d6f-ffdce71781ae",
   "metadata": {},
   "outputs": [],
   "source": []
  },
  {
   "cell_type": "code",
   "execution_count": null,
   "id": "8310fb0f-d305-44c7-83e9-c759420f70ed",
   "metadata": {},
   "outputs": [],
   "source": []
  },
  {
   "cell_type": "code",
   "execution_count": null,
   "id": "287188fe-3de3-4661-9af4-3e62531fc7d4",
   "metadata": {},
   "outputs": [],
   "source": []
  },
  {
   "cell_type": "code",
   "execution_count": null,
   "id": "f32b6de3-0a2e-4e9d-b83e-83e4b5701b83",
   "metadata": {},
   "outputs": [],
   "source": []
  },
  {
   "cell_type": "code",
   "execution_count": null,
   "id": "2141bbde-baec-47b2-9880-0d05c54c68a1",
   "metadata": {},
   "outputs": [],
   "source": []
  },
  {
   "cell_type": "code",
   "execution_count": null,
   "id": "eceaeabd-0465-4027-95e3-5a84fa4ae1bf",
   "metadata": {},
   "outputs": [],
   "source": []
  },
  {
   "cell_type": "code",
   "execution_count": null,
   "id": "ab9878b7-aa68-4cb2-b815-8485947ded1c",
=======
   "id": "8991b0bf",
>>>>>>> 8d3198882c53cfaf25803d902cbd015a961344da
   "metadata": {},
   "outputs": [],
   "source": []
  },
  {
   "cell_type": "code",
   "execution_count": null,
<<<<<<< HEAD
   "id": "2dab87ae-2213-4c8c-b1f1-4426f0d952b7",
=======
   "id": "6b3fe81f",
>>>>>>> 8d3198882c53cfaf25803d902cbd015a961344da
   "metadata": {},
   "outputs": [],
   "source": []
  },
  {
   "cell_type": "code",
   "execution_count": null,
<<<<<<< HEAD
   "id": "d8676a09-7eec-4292-98f1-63c6147f048c",
=======
   "id": "8cbc5b6c",
>>>>>>> 8d3198882c53cfaf25803d902cbd015a961344da
   "metadata": {},
   "outputs": [],
   "source": []
  },
  {
   "cell_type": "code",
   "execution_count": null,
<<<<<<< HEAD
   "id": "4c4b80dc-8d49-4ef7-be88-d3c5ec1e9017",
=======
   "id": "e568a83c",
>>>>>>> 8d3198882c53cfaf25803d902cbd015a961344da
   "metadata": {},
   "outputs": [],
   "source": []
  },
  {
   "cell_type": "code",
   "execution_count": null,
<<<<<<< HEAD
   "id": "acbc9bc7-a0ca-460e-ae9b-f013b5fde086",
=======
   "id": "729bc5e7",
>>>>>>> 8d3198882c53cfaf25803d902cbd015a961344da
   "metadata": {},
   "outputs": [],
   "source": []
  }
 ],
 "metadata": {
  "kernelspec": {
   "display_name": "Python 3 (ipykernel)",
   "language": "python",
   "name": "python3"
  },
  "language_info": {
   "codemirror_mode": {
    "name": "ipython",
    "version": 3
   },
   "file_extension": ".py",
   "mimetype": "text/x-python",
   "name": "python",
   "nbconvert_exporter": "python",
   "pygments_lexer": "ipython3",
   "version": "3.9.7"
  }
 },
 "nbformat": 4,
 "nbformat_minor": 5
}
