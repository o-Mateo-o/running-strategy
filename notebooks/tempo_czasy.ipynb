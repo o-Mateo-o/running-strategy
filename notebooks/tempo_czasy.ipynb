{
 "cells": [
  {
   "cell_type": "code",
   "execution_count": 302,
   "metadata": {},
   "outputs": [],
   "source": [
    "import numpy as np\n",
    "import matplotlib.pyplot as plt\n",
    "import pandas as pd\n",
    "import seaborn as sns\n",
    "import os\n",
    "import datetime"
   ]
  },
  {
   "cell_type": "code",
   "execution_count": 303,
   "metadata": {},
   "outputs": [],
   "source": [
    "sns.set_style('darkgrid')\n",
    "sns.set(rc={'figure.figsize':(11,7)})\n",
    "\n",
    "#const\n",
    "path = os.path.join('..', 'data')\n",
    "cols = ['Date', 'Time']"
   ]
  },
  {
   "cell_type": "markdown",
   "metadata": {},
   "source": [
    "### Data cleaning"
   ]
  },
  {
   "cell_type": "code",
   "execution_count": 304,
   "metadata": {},
   "outputs": [],
   "source": [
    "men_marathon = pd.read_csv(os.path.join(path, 'Men marathon.csv'))\n",
    "men10km = pd.read_csv(os.path.join(path, 'Men 10km.csv'))\n",
    "men100m = pd.read_csv(os.path.join(path, 'Men 100m.csv'))\n",
    "men400m = pd.read_csv(os.path.join(path, 'Men 400m.csv'))\n",
    "\n",
    "women_marathon = pd.read_csv(os.path.join(path, 'Women marathon.csv'))\n",
    "women10km = pd.read_csv(os.path.join(path, 'Women 10km.csv'))\n",
    "women100m = pd.read_csv(os.path.join(path, 'Women 100m.csv'))\n",
    "women400m = pd.read_csv(os.path.join(path, 'Women 400m.csv'))"
   ]
  },
  {
   "cell_type": "code",
   "execution_count": 305,
   "metadata": {},
   "outputs": [],
   "source": [
    "def clean_data(filename):\n",
    "    if filename == 'Men 100m.csv':\n",
    "        df = pd.read_csv(os.path.join(path, filename))[['Mark', 'Date']]\n",
    "        df = df.rename(columns={'Mark':'Time'})\n",
    "    else:\n",
    "        df = pd.read_csv(os.path.join(path, filename))[['Date', 'Time']]\n",
    "        \n",
    "    df.dropna(subset=['Time'], axis=0, how='all', inplace=True)\n",
    "    \n",
    "    if filename in ('Men 10km.csv', 'Women 10km.csv', 'Men marathon.csv', 'Women marathon.csv'):\n",
    "        df['Time'] = df['Time'].str.extract(r'^(\\d{1,2}.\\d{2}.\\d{0,2})', expand=False)\n",
    "    else:\n",
    "        df['Time'] = df['Time'].str.extract(r'^(\\d{1,2}.\\d{1,4})', expand=False)\n",
    "    \n",
    "    '''if filename in ('Men marathon.csv', 'Women marathon.csv', 'Men 400m.csv', 'Women 100m.csv', 'Women 400m.csv'):\n",
    "        df['Date'] = df['Date'].str.extract(r'^(\\w{3,9}\\s\\d{1,22},\\d{4})', expand=False)\n",
    "        print(df.head())\n",
    "        #df['Date'] = pd.to_datetime(df['Date'])\n",
    "    else:\n",
    "        df['Date'] = pd.to_datetime(df['Date'])\n",
    "    \n",
    "    #df = df.sort_values(by='Date')\n",
    "    '''\n",
    "    return df"
   ]
  },
  {
   "cell_type": "code",
   "execution_count": 306,
   "metadata": {},
   "outputs": [],
   "source": [
    "men_marathon = clean_data('Men marathon.csv')\n",
    "men10km = clean_data('Men 10km.csv')\n",
    "men100m = clean_data('Men 100m.csv')\n",
    "men400m = clean_data('Men 400m.csv')\n",
    "\n",
    "women_marathon = clean_data('Women marathon.csv')\n",
    "women10km = clean_data('Women 10km.csv')\n",
    "women100m = clean_data('Women 100m.csv')\n",
    "women400m = clean_data('Women 400m.csv')\n"
   ]
  },
  {
   "cell_type": "markdown",
   "metadata": {},
   "source": [
    "* marathon"
   ]
  },
  {
   "cell_type": "code",
   "execution_count": 307,
   "metadata": {},
   "outputs": [
    {
     "data": {
      "text/html": [
       "<div>\n",
       "<style scoped>\n",
       "    .dataframe tbody tr th:only-of-type {\n",
       "        vertical-align: middle;\n",
       "    }\n",
       "\n",
       "    .dataframe tbody tr th {\n",
       "        vertical-align: top;\n",
       "    }\n",
       "\n",
       "    .dataframe thead th {\n",
       "        text-align: right;\n",
       "    }\n",
       "</style>\n",
       "<table border=\"1\" class=\"dataframe\">\n",
       "  <thead>\n",
       "    <tr style=\"text-align: right;\">\n",
       "      <th></th>\n",
       "      <th>Date</th>\n",
       "      <th>Time</th>\n",
       "    </tr>\n",
       "  </thead>\n",
       "  <tbody>\n",
       "    <tr>\n",
       "      <th>0</th>\n",
       "      <td>April 13, 2003</td>\n",
       "      <td>2:15:25</td>\n",
       "    </tr>\n",
       "    <tr>\n",
       "      <th>1</th>\n",
       "      <td>April 17, 1983</td>\n",
       "      <td>2:25:28</td>\n",
       "    </tr>\n",
       "    <tr>\n",
       "      <th>2</th>\n",
       "      <td>April 17, 2005</td>\n",
       "      <td>2:17:42</td>\n",
       "    </tr>\n",
       "    <tr>\n",
       "      <th>3</th>\n",
       "      <td>April 18, 1983</td>\n",
       "      <td>2:22:43</td>\n",
       "    </tr>\n",
       "    <tr>\n",
       "      <th>4</th>\n",
       "      <td>April 19, 1998</td>\n",
       "      <td>2:20:47</td>\n",
       "    </tr>\n",
       "  </tbody>\n",
       "</table>\n",
       "</div>"
      ],
      "text/plain": [
       "             Date     Time\n",
       "0  April 13, 2003  2:15:25\n",
       "1  April 17, 1983  2:25:28\n",
       "2  April 17, 2005  2:17:42\n",
       "3  April 18, 1983  2:22:43\n",
       "4  April 19, 1998  2:20:47"
      ]
     },
     "execution_count": 307,
     "metadata": {},
     "output_type": "execute_result"
    }
   ],
   "source": [
    "women_marathon.head()[cols]"
   ]
  },
  {
   "cell_type": "code",
   "execution_count": 308,
   "metadata": {},
   "outputs": [
    {
     "data": {
      "text/html": [
       "<div>\n",
       "<style scoped>\n",
       "    .dataframe tbody tr th:only-of-type {\n",
       "        vertical-align: middle;\n",
       "    }\n",
       "\n",
       "    .dataframe tbody tr th {\n",
       "        vertical-align: top;\n",
       "    }\n",
       "\n",
       "    .dataframe thead th {\n",
       "        text-align: right;\n",
       "    }\n",
       "</style>\n",
       "<table border=\"1\" class=\"dataframe\">\n",
       "  <thead>\n",
       "    <tr style=\"text-align: right;\">\n",
       "      <th></th>\n",
       "      <th>Date</th>\n",
       "      <th>Time</th>\n",
       "    </tr>\n",
       "  </thead>\n",
       "  <tbody>\n",
       "    <tr>\n",
       "      <th>0</th>\n",
       "      <td>April 14, 2002</td>\n",
       "      <td>2:05:38</td>\n",
       "    </tr>\n",
       "    <tr>\n",
       "      <th>1</th>\n",
       "      <td>April 17, 1988</td>\n",
       "      <td>2:06:50</td>\n",
       "    </tr>\n",
       "    <tr>\n",
       "      <th>2</th>\n",
       "      <td>April 19, 1947</td>\n",
       "      <td>2:25:39</td>\n",
       "    </tr>\n",
       "    <tr>\n",
       "      <th>3</th>\n",
       "      <td>April 20, 1985</td>\n",
       "      <td>2:07:12</td>\n",
       "    </tr>\n",
       "    <tr>\n",
       "      <th>4</th>\n",
       "      <td>April 26, 1980</td>\n",
       "      <td>2:09:01</td>\n",
       "    </tr>\n",
       "  </tbody>\n",
       "</table>\n",
       "</div>"
      ],
      "text/plain": [
       "             Date     Time\n",
       "0  April 14, 2002  2:05:38\n",
       "1  April 17, 1988  2:06:50\n",
       "2  April 19, 1947  2:25:39\n",
       "3  April 20, 1985  2:07:12\n",
       "4  April 26, 1980  2:09:01"
      ]
     },
     "execution_count": 308,
     "metadata": {},
     "output_type": "execute_result"
    }
   ],
   "source": [
    "men_marathon.head()[cols]"
   ]
  },
  {
   "cell_type": "markdown",
   "metadata": {},
   "source": [
    "* 10km"
   ]
  },
  {
   "cell_type": "code",
   "execution_count": 309,
   "metadata": {},
   "outputs": [
    {
     "data": {
      "text/html": [
       "<div>\n",
       "<style scoped>\n",
       "    .dataframe tbody tr th:only-of-type {\n",
       "        vertical-align: middle;\n",
       "    }\n",
       "\n",
       "    .dataframe tbody tr th {\n",
       "        vertical-align: top;\n",
       "    }\n",
       "\n",
       "    .dataframe thead th {\n",
       "        text-align: right;\n",
       "    }\n",
       "</style>\n",
       "<table border=\"1\" class=\"dataframe\">\n",
       "  <thead>\n",
       "    <tr style=\"text-align: right;\">\n",
       "      <th></th>\n",
       "      <th>Date</th>\n",
       "      <th>Time</th>\n",
       "    </tr>\n",
       "  </thead>\n",
       "  <tbody>\n",
       "    <tr>\n",
       "      <th>0</th>\n",
       "      <td>12.08.2016</td>\n",
       "      <td>29:17.45</td>\n",
       "    </tr>\n",
       "    <tr>\n",
       "      <th>1</th>\n",
       "      <td>1967-03-26</td>\n",
       "      <td>38:06.4</td>\n",
       "    </tr>\n",
       "    <tr>\n",
       "      <th>2</th>\n",
       "      <td>1975-08-20</td>\n",
       "      <td>34:01.4</td>\n",
       "    </tr>\n",
       "    <tr>\n",
       "      <th>3</th>\n",
       "      <td>1966</td>\n",
       "      <td>39:25.0</td>\n",
       "    </tr>\n",
       "    <tr>\n",
       "      <th>4</th>\n",
       "      <td>1966</td>\n",
       "      <td>39:10.0</td>\n",
       "    </tr>\n",
       "  </tbody>\n",
       "</table>\n",
       "</div>"
      ],
      "text/plain": [
       "         Date      Time\n",
       "0  12.08.2016  29:17.45\n",
       "1  1967-03-26   38:06.4\n",
       "2  1975-08-20   34:01.4\n",
       "3        1966   39:25.0\n",
       "4        1966   39:10.0"
      ]
     },
     "execution_count": 309,
     "metadata": {},
     "output_type": "execute_result"
    }
   ],
   "source": [
    "women10km.head()[cols]"
   ]
  },
  {
   "cell_type": "code",
   "execution_count": 310,
   "metadata": {},
   "outputs": [
    {
     "data": {
      "text/html": [
       "<div>\n",
       "<style scoped>\n",
       "    .dataframe tbody tr th:only-of-type {\n",
       "        vertical-align: middle;\n",
       "    }\n",
       "\n",
       "    .dataframe tbody tr th {\n",
       "        vertical-align: top;\n",
       "    }\n",
       "\n",
       "    .dataframe thead th {\n",
       "        text-align: right;\n",
       "    }\n",
       "</style>\n",
       "<table border=\"1\" class=\"dataframe\">\n",
       "  <thead>\n",
       "    <tr style=\"text-align: right;\">\n",
       "      <th></th>\n",
       "      <th>Date</th>\n",
       "      <th>Time</th>\n",
       "    </tr>\n",
       "  </thead>\n",
       "  <tbody>\n",
       "    <tr>\n",
       "      <th>0</th>\n",
       "      <td>1904-11-05</td>\n",
       "      <td>31:02.4</td>\n",
       "    </tr>\n",
       "    <tr>\n",
       "      <th>1</th>\n",
       "      <td>18.08.1989</td>\n",
       "      <td>27:08.23</td>\n",
       "    </tr>\n",
       "    <tr>\n",
       "      <th>2</th>\n",
       "      <td>13.07.1973</td>\n",
       "      <td>27:30.8</td>\n",
       "    </tr>\n",
       "    <tr>\n",
       "      <th>3</th>\n",
       "      <td>01.06.1954</td>\n",
       "      <td>28:54.2</td>\n",
       "    </tr>\n",
       "    <tr>\n",
       "      <th>4</th>\n",
       "      <td>01.11.1953</td>\n",
       "      <td>29:01.6</td>\n",
       "    </tr>\n",
       "  </tbody>\n",
       "</table>\n",
       "</div>"
      ],
      "text/plain": [
       "         Date      Time\n",
       "0  1904-11-05   31:02.4\n",
       "1  18.08.1989  27:08.23\n",
       "2  13.07.1973   27:30.8\n",
       "3  01.06.1954   28:54.2\n",
       "4  01.11.1953   29:01.6"
      ]
     },
     "execution_count": 310,
     "metadata": {},
     "output_type": "execute_result"
    }
   ],
   "source": [
    "men10km.head()[cols]"
   ]
  },
  {
   "cell_type": "markdown",
   "metadata": {},
   "source": [
    "* 100m"
   ]
  },
  {
   "cell_type": "code",
   "execution_count": 311,
   "metadata": {},
   "outputs": [
    {
     "data": {
      "text/html": [
       "<div>\n",
       "<style scoped>\n",
       "    .dataframe tbody tr th:only-of-type {\n",
       "        vertical-align: middle;\n",
       "    }\n",
       "\n",
       "    .dataframe tbody tr th {\n",
       "        vertical-align: top;\n",
       "    }\n",
       "\n",
       "    .dataframe thead th {\n",
       "        text-align: right;\n",
       "    }\n",
       "</style>\n",
       "<table border=\"1\" class=\"dataframe\">\n",
       "  <thead>\n",
       "    <tr style=\"text-align: right;\">\n",
       "      <th></th>\n",
       "      <th>Date</th>\n",
       "      <th>Time</th>\n",
       "    </tr>\n",
       "  </thead>\n",
       "  <tbody>\n",
       "    <tr>\n",
       "      <th>0</th>\n",
       "      <td>July 25, 1976[1]</td>\n",
       "      <td>11.01</td>\n",
       "    </tr>\n",
       "    <tr>\n",
       "      <th>1</th>\n",
       "      <td>July 2, 1967[1]</td>\n",
       "      <td>11.1</td>\n",
       "    </tr>\n",
       "    <tr>\n",
       "      <th>2</th>\n",
       "      <td>October 14, 1968</td>\n",
       "      <td>11.1</td>\n",
       "    </tr>\n",
       "    <tr>\n",
       "      <th>3</th>\n",
       "      <td>June 2, 1928</td>\n",
       "      <td>12.0</td>\n",
       "    </tr>\n",
       "    <tr>\n",
       "      <th>4</th>\n",
       "      <td>July 18, 1970[1]</td>\n",
       "      <td>11.0</td>\n",
       "    </tr>\n",
       "  </tbody>\n",
       "</table>\n",
       "</div>"
      ],
      "text/plain": [
       "               Date   Time\n",
       "0  July 25, 1976[1]  11.01\n",
       "1   July 2, 1967[1]   11.1\n",
       "2  October 14, 1968   11.1\n",
       "3      June 2, 1928   12.0\n",
       "4  July 18, 1970[1]   11.0"
      ]
     },
     "execution_count": 311,
     "metadata": {},
     "output_type": "execute_result"
    }
   ],
   "source": [
    "women100m.head()[cols]"
   ]
  },
  {
   "cell_type": "code",
   "execution_count": 312,
   "metadata": {},
   "outputs": [
    {
     "data": {
      "text/html": [
       "<div>\n",
       "<style scoped>\n",
       "    .dataframe tbody tr th:only-of-type {\n",
       "        vertical-align: middle;\n",
       "    }\n",
       "\n",
       "    .dataframe tbody tr th {\n",
       "        vertical-align: top;\n",
       "    }\n",
       "\n",
       "    .dataframe thead th {\n",
       "        text-align: right;\n",
       "    }\n",
       "</style>\n",
       "<table border=\"1\" class=\"dataframe\">\n",
       "  <thead>\n",
       "    <tr style=\"text-align: right;\">\n",
       "      <th></th>\n",
       "      <th>Date</th>\n",
       "      <th>Time</th>\n",
       "    </tr>\n",
       "  </thead>\n",
       "  <tbody>\n",
       "    <tr>\n",
       "      <th>0</th>\n",
       "      <td>1960-06-21 00:00:00</td>\n",
       "      <td>10.0</td>\n",
       "    </tr>\n",
       "    <tr>\n",
       "      <th>1</th>\n",
       "      <td>2007-09-09 00:00:00</td>\n",
       "      <td>9.74</td>\n",
       "    </tr>\n",
       "    <tr>\n",
       "      <th>2</th>\n",
       "      <td>2006-06-11 00:00:00</td>\n",
       "      <td>9.77</td>\n",
       "    </tr>\n",
       "    <tr>\n",
       "      <th>3</th>\n",
       "      <td>2005-06-14 00:00:00</td>\n",
       "      <td>9.77</td>\n",
       "    </tr>\n",
       "    <tr>\n",
       "      <th>4</th>\n",
       "      <td>2006-08-18 00:00:00</td>\n",
       "      <td>9.77</td>\n",
       "    </tr>\n",
       "  </tbody>\n",
       "</table>\n",
       "</div>"
      ],
      "text/plain": [
       "                  Date  Time\n",
       "0  1960-06-21 00:00:00  10.0\n",
       "1  2007-09-09 00:00:00  9.74\n",
       "2  2006-06-11 00:00:00  9.77\n",
       "3  2005-06-14 00:00:00  9.77\n",
       "4  2006-08-18 00:00:00  9.77"
      ]
     },
     "execution_count": 312,
     "metadata": {},
     "output_type": "execute_result"
    }
   ],
   "source": [
    "men100m.head()[cols]"
   ]
  },
  {
   "cell_type": "markdown",
   "metadata": {},
   "source": [
    "* 400m"
   ]
  },
  {
   "cell_type": "code",
   "execution_count": 313,
   "metadata": {},
   "outputs": [
    {
     "data": {
      "text/html": [
       "<div>\n",
       "<style scoped>\n",
       "    .dataframe tbody tr th:only-of-type {\n",
       "        vertical-align: middle;\n",
       "    }\n",
       "\n",
       "    .dataframe tbody tr th {\n",
       "        vertical-align: top;\n",
       "    }\n",
       "\n",
       "    .dataframe thead th {\n",
       "        text-align: right;\n",
       "    }\n",
       "</style>\n",
       "<table border=\"1\" class=\"dataframe\">\n",
       "  <thead>\n",
       "    <tr style=\"text-align: right;\">\n",
       "      <th></th>\n",
       "      <th>Date</th>\n",
       "      <th>Time</th>\n",
       "    </tr>\n",
       "  </thead>\n",
       "  <tbody>\n",
       "    <tr>\n",
       "      <th>0</th>\n",
       "      <td>9 May 1976[1]</td>\n",
       "      <td>49.77</td>\n",
       "    </tr>\n",
       "    <tr>\n",
       "      <th>1</th>\n",
       "      <td>18 September 1969[1]</td>\n",
       "      <td>51.7</td>\n",
       "    </tr>\n",
       "    <tr>\n",
       "      <th>2</th>\n",
       "      <td>22 June 1974[1]</td>\n",
       "      <td>49.9</td>\n",
       "    </tr>\n",
       "    <tr>\n",
       "      <th>3</th>\n",
       "      <td>22 June 1976[1]</td>\n",
       "      <td>49.75</td>\n",
       "    </tr>\n",
       "    <tr>\n",
       "      <th>4</th>\n",
       "      <td>29 July 1976[1]</td>\n",
       "      <td>49.29</td>\n",
       "    </tr>\n",
       "  </tbody>\n",
       "</table>\n",
       "</div>"
      ],
      "text/plain": [
       "                   Date   Time\n",
       "0         9 May 1976[1]  49.77\n",
       "1  18 September 1969[1]   51.7\n",
       "2       22 June 1974[1]   49.9\n",
       "3       22 June 1976[1]  49.75\n",
       "4       29 July 1976[1]  49.29"
      ]
     },
     "execution_count": 313,
     "metadata": {},
     "output_type": "execute_result"
    }
   ],
   "source": [
    "women400m.head()[cols]"
   ]
  },
  {
   "cell_type": "code",
   "execution_count": 314,
   "metadata": {},
   "outputs": [
    {
     "data": {
      "text/html": [
       "<div>\n",
       "<style scoped>\n",
       "    .dataframe tbody tr th:only-of-type {\n",
       "        vertical-align: middle;\n",
       "    }\n",
       "\n",
       "    .dataframe tbody tr th {\n",
       "        vertical-align: top;\n",
       "    }\n",
       "\n",
       "    .dataframe thead th {\n",
       "        text-align: right;\n",
       "    }\n",
       "</style>\n",
       "<table border=\"1\" class=\"dataframe\">\n",
       "  <thead>\n",
       "    <tr style=\"text-align: right;\">\n",
       "      <th></th>\n",
       "      <th>Date</th>\n",
       "      <th>Time</th>\n",
       "    </tr>\n",
       "  </thead>\n",
       "  <tbody>\n",
       "    <tr>\n",
       "      <th>0</th>\n",
       "      <td>May 25, 1963[1]</td>\n",
       "      <td>44.9</td>\n",
       "    </tr>\n",
       "    <tr>\n",
       "      <th>1</th>\n",
       "      <td>June 19, 1936[1]</td>\n",
       "      <td>46.1</td>\n",
       "    </tr>\n",
       "    <tr>\n",
       "      <th>2</th>\n",
       "      <td>March 26, 1932[1]</td>\n",
       "      <td>46.4</td>\n",
       "    </tr>\n",
       "    <tr>\n",
       "      <th>3</th>\n",
       "      <td>August 5, 1932[1]</td>\n",
       "      <td>46.2</td>\n",
       "    </tr>\n",
       "    <tr>\n",
       "      <th>4</th>\n",
       "      <td>August 17, 1988[1]</td>\n",
       "      <td>43.29</td>\n",
       "    </tr>\n",
       "  </tbody>\n",
       "</table>\n",
       "</div>"
      ],
      "text/plain": [
       "                 Date   Time\n",
       "0     May 25, 1963[1]   44.9\n",
       "1    June 19, 1936[1]   46.1\n",
       "2   March 26, 1932[1]   46.4\n",
       "3   August 5, 1932[1]   46.2\n",
       "4  August 17, 1988[1]  43.29"
      ]
     },
     "execution_count": 314,
     "metadata": {},
     "output_type": "execute_result"
    }
   ],
   "source": [
    "men400m.head()[cols]"
   ]
  },
  {
   "cell_type": "markdown",
   "metadata": {},
   "source": [
    "-------"
   ]
  },
  {
   "cell_type": "code",
   "execution_count": 315,
   "metadata": {},
   "outputs": [],
   "source": [
    "def seconds(time_string):\n",
    "    m,s = time_string.split(':')\n",
    "    return 60*int(m)+float(s)\n",
    "\n",
    "def seconds2(time_string):\n",
    "    h,m,s = time_string.split(':')\n",
    "    return int(h)*3600+60*int(m)+float(s)\n",
    "\n",
    "women_marathon['Time'][39] = '5:40:00'"
   ]
  },
  {
   "cell_type": "code",
   "execution_count": 316,
   "metadata": {},
   "outputs": [],
   "source": [
    "for x in [men10km,women10km]:\n",
    "    for i in range(len(x['Time'])):\n",
    "        x['Time'][i] = seconds(str(x['Time'][i]))   "
   ]
  },
  {
   "cell_type": "code",
   "execution_count": 317,
   "metadata": {},
   "outputs": [],
   "source": [
    "for x in [men_marathon,women_marathon]:\n",
    "    for i in range(len(x['Time'])):\n",
    "        x['Time'][i] = seconds2(str(x['Time'][i]))     "
   ]
  },
  {
   "cell_type": "code",
   "execution_count": 318,
   "metadata": {},
   "outputs": [
    {
     "data": {
      "text/html": [
       "<div>\n",
       "<style scoped>\n",
       "    .dataframe tbody tr th:only-of-type {\n",
       "        vertical-align: middle;\n",
       "    }\n",
       "\n",
       "    .dataframe tbody tr th {\n",
       "        vertical-align: top;\n",
       "    }\n",
       "\n",
       "    .dataframe thead th {\n",
       "        text-align: right;\n",
       "    }\n",
       "</style>\n",
       "<table border=\"1\" class=\"dataframe\">\n",
       "  <thead>\n",
       "    <tr style=\"text-align: right;\">\n",
       "      <th></th>\n",
       "      <th>Date</th>\n",
       "      <th>Time</th>\n",
       "    </tr>\n",
       "  </thead>\n",
       "  <tbody>\n",
       "    <tr>\n",
       "      <th>0</th>\n",
       "      <td>April 13, 2003</td>\n",
       "      <td>8125.0</td>\n",
       "    </tr>\n",
       "    <tr>\n",
       "      <th>1</th>\n",
       "      <td>April 17, 1983</td>\n",
       "      <td>8728.0</td>\n",
       "    </tr>\n",
       "    <tr>\n",
       "      <th>2</th>\n",
       "      <td>April 17, 2005</td>\n",
       "      <td>8262.0</td>\n",
       "    </tr>\n",
       "    <tr>\n",
       "      <th>3</th>\n",
       "      <td>April 18, 1983</td>\n",
       "      <td>8563.0</td>\n",
       "    </tr>\n",
       "    <tr>\n",
       "      <th>4</th>\n",
       "      <td>April 19, 1998</td>\n",
       "      <td>8447.0</td>\n",
       "    </tr>\n",
       "    <tr>\n",
       "      <th>5</th>\n",
       "      <td>April 21, 1975</td>\n",
       "      <td>9744.0</td>\n",
       "    </tr>\n",
       "    <tr>\n",
       "      <th>6</th>\n",
       "      <td>April 21, 1985</td>\n",
       "      <td>8466.0</td>\n",
       "    </tr>\n",
       "    <tr>\n",
       "      <th>7</th>\n",
       "      <td>April 23, 2017</td>\n",
       "      <td>8221.0</td>\n",
       "    </tr>\n",
       "    <tr>\n",
       "      <th>8</th>\n",
       "      <td>December 1, 1974</td>\n",
       "      <td>9834.0</td>\n",
       "    </tr>\n",
       "    <tr>\n",
       "      <th>9</th>\n",
       "      <td>December 16, 1963[nb 8]</td>\n",
       "      <td>13027.0</td>\n",
       "    </tr>\n",
       "    <tr>\n",
       "      <th>10</th>\n",
       "      <td>December 2, 1973</td>\n",
       "      <td>9996.0</td>\n",
       "    </tr>\n",
       "    <tr>\n",
       "      <th>11</th>\n",
       "      <td>December 5, 1971</td>\n",
       "      <td>10180.0</td>\n",
       "    </tr>\n",
       "    <tr>\n",
       "      <th>12</th>\n",
       "      <td>February 28, 1970</td>\n",
       "      <td>10973.0</td>\n",
       "    </tr>\n",
       "    <tr>\n",
       "      <th>13</th>\n",
       "      <td>February 3, 1980</td>\n",
       "      <td>9083.0</td>\n",
       "    </tr>\n",
       "    <tr>\n",
       "      <th>14</th>\n",
       "      <td>January 16, 1982</td>\n",
       "      <td>8941.0</td>\n",
       "    </tr>\n",
       "    <tr>\n",
       "      <th>15</th>\n",
       "      <td>July 21, 1964[nb 9]</td>\n",
       "      <td>11973.0</td>\n",
       "    </tr>\n",
       "    <tr>\n",
       "      <th>16</th>\n",
       "      <td>March 29, 1981</td>\n",
       "      <td>8997.0</td>\n",
       "    </tr>\n",
       "    <tr>\n",
       "      <th>17</th>\n",
       "      <td>May 1, 1977</td>\n",
       "      <td>9315.0</td>\n",
       "    </tr>\n",
       "    <tr>\n",
       "      <th>18</th>\n",
       "      <td>May 13, 1984</td>\n",
       "      <td>8666.0</td>\n",
       "    </tr>\n",
       "    <tr>\n",
       "      <th>19</th>\n",
       "      <td>May 23, 1964</td>\n",
       "      <td>12465.0</td>\n",
       "    </tr>\n",
       "    <tr>\n",
       "      <th>20</th>\n",
       "      <td>May 3, 1975</td>\n",
       "      <td>9615.0</td>\n",
       "    </tr>\n",
       "    <tr>\n",
       "      <th>21</th>\n",
       "      <td>May 6, 1967</td>\n",
       "      <td>11663.0</td>\n",
       "    </tr>\n",
       "    <tr>\n",
       "      <th>22</th>\n",
       "      <td>May 9, 1971</td>\n",
       "      <td>10902.0</td>\n",
       "    </tr>\n",
       "    <tr>\n",
       "      <th>23</th>\n",
       "      <td>November 16, 1980</td>\n",
       "      <td>9027.0</td>\n",
       "    </tr>\n",
       "    <tr>\n",
       "      <th>24</th>\n",
       "      <td>October 12, 1975</td>\n",
       "      <td>9499.0</td>\n",
       "    </tr>\n",
       "    <tr>\n",
       "      <th>25</th>\n",
       "      <td>October 13, 2002</td>\n",
       "      <td>8238.0</td>\n",
       "    </tr>\n",
       "    <tr>\n",
       "      <th>26</th>\n",
       "      <td>October 13, 2019</td>\n",
       "      <td>8044.0</td>\n",
       "    </tr>\n",
       "    <tr>\n",
       "      <th>27</th>\n",
       "      <td>October 21, 1979</td>\n",
       "      <td>8852.0</td>\n",
       "    </tr>\n",
       "    <tr>\n",
       "      <th>28</th>\n",
       "      <td>October 22, 1978</td>\n",
       "      <td>9149.0</td>\n",
       "    </tr>\n",
       "    <tr>\n",
       "      <th>29</th>\n",
       "      <td>October 25, 1981</td>\n",
       "      <td>8728.0</td>\n",
       "    </tr>\n",
       "    <tr>\n",
       "      <th>30</th>\n",
       "      <td>October 26, 1980</td>\n",
       "      <td>8741.0</td>\n",
       "    </tr>\n",
       "    <tr>\n",
       "      <th>31</th>\n",
       "      <td>October 27, 1974</td>\n",
       "      <td>9984.0</td>\n",
       "    </tr>\n",
       "    <tr>\n",
       "      <th>32</th>\n",
       "      <td>October 3, 1926</td>\n",
       "      <td>13222.0</td>\n",
       "    </tr>\n",
       "    <tr>\n",
       "      <th>33</th>\n",
       "      <td>October 7, 2001</td>\n",
       "      <td>8327.0</td>\n",
       "    </tr>\n",
       "    <tr>\n",
       "      <th>34</th>\n",
       "      <td>September 10, 1977</td>\n",
       "      <td>9287.0</td>\n",
       "    </tr>\n",
       "    <tr>\n",
       "      <th>35</th>\n",
       "      <td>September 12, 1982</td>\n",
       "      <td>8772.0</td>\n",
       "    </tr>\n",
       "    <tr>\n",
       "      <th>36</th>\n",
       "      <td>September 16, 1967</td>\n",
       "      <td>11247.0</td>\n",
       "    </tr>\n",
       "    <tr>\n",
       "      <th>37</th>\n",
       "      <td>September 19, 1971</td>\n",
       "      <td>10522.0</td>\n",
       "    </tr>\n",
       "    <tr>\n",
       "      <th>38</th>\n",
       "      <td>September 26, 1999</td>\n",
       "      <td>8443.0</td>\n",
       "    </tr>\n",
       "    <tr>\n",
       "      <th>39</th>\n",
       "      <td>September 29, 1918</td>\n",
       "      <td>20400.0</td>\n",
       "    </tr>\n",
       "    <tr>\n",
       "      <th>40</th>\n",
       "      <td>September 30, 2001</td>\n",
       "      <td>8386.0</td>\n",
       "    </tr>\n",
       "    <tr>\n",
       "      <th>41</th>\n",
       "      <td>September 6, 1980</td>\n",
       "      <td>9057.0</td>\n",
       "    </tr>\n",
       "  </tbody>\n",
       "</table>\n",
       "</div>"
      ],
      "text/plain": [
       "                       Date     Time\n",
       "0            April 13, 2003   8125.0\n",
       "1            April 17, 1983   8728.0\n",
       "2            April 17, 2005   8262.0\n",
       "3            April 18, 1983   8563.0\n",
       "4            April 19, 1998   8447.0\n",
       "5            April 21, 1975   9744.0\n",
       "6            April 21, 1985   8466.0\n",
       "7            April 23, 2017   8221.0\n",
       "8          December 1, 1974   9834.0\n",
       "9   December 16, 1963[nb 8]  13027.0\n",
       "10         December 2, 1973   9996.0\n",
       "11         December 5, 1971  10180.0\n",
       "12        February 28, 1970  10973.0\n",
       "13         February 3, 1980   9083.0\n",
       "14         January 16, 1982   8941.0\n",
       "15      July 21, 1964[nb 9]  11973.0\n",
       "16           March 29, 1981   8997.0\n",
       "17              May 1, 1977   9315.0\n",
       "18             May 13, 1984   8666.0\n",
       "19             May 23, 1964  12465.0\n",
       "20              May 3, 1975   9615.0\n",
       "21              May 6, 1967  11663.0\n",
       "22              May 9, 1971  10902.0\n",
       "23        November 16, 1980   9027.0\n",
       "24         October 12, 1975   9499.0\n",
       "25         October 13, 2002   8238.0\n",
       "26         October 13, 2019   8044.0\n",
       "27         October 21, 1979   8852.0\n",
       "28         October 22, 1978   9149.0\n",
       "29         October 25, 1981   8728.0\n",
       "30         October 26, 1980   8741.0\n",
       "31         October 27, 1974   9984.0\n",
       "32          October 3, 1926  13222.0\n",
       "33          October 7, 2001   8327.0\n",
       "34       September 10, 1977   9287.0\n",
       "35       September 12, 1982   8772.0\n",
       "36       September 16, 1967  11247.0\n",
       "37       September 19, 1971  10522.0\n",
       "38       September 26, 1999   8443.0\n",
       "39       September 29, 1918  20400.0\n",
       "40       September 30, 2001   8386.0\n",
       "41        September 6, 1980   9057.0"
      ]
     },
     "execution_count": 318,
     "metadata": {},
     "output_type": "execute_result"
    }
   ],
   "source": [
    "women_marathon"
   ]
  },
  {
   "cell_type": "markdown",
   "metadata": {},
   "source": [
    "### BEST"
   ]
  },
  {
   "cell_type": "code",
   "execution_count": 334,
   "metadata": {},
   "outputs": [],
   "source": [
    "best_men_marathon = float(min(men_marathon['Time']))\n",
    "best_men10km = float(min(men10km['Time']))\n",
    "best_men100m = float(min(men100m['Time']))\n",
    "best_men400m = float(min(men400m['Time']))\n",
    "\n",
    "best_women_marathon = float(min(women_marathon['Time']))\n",
    "best_women10km = float(min(women10km['Time']))\n",
    "best_women100m = float(min(women100m['Time']))\n",
    "best_women400m = float(min(women400m['Time']))"
   ]
  },
  {
   "cell_type": "code",
   "execution_count": 349,
   "metadata": {},
   "outputs": [
    {
     "data": {
      "text/plain": [
       "Text(0.5, 1.0, 'Czas na poszczególnych dystansach')"
      ]
     },
     "execution_count": 349,
     "metadata": {},
     "output_type": "execute_result"
    },
    {
     "data": {
      "image/png": "[encoded data removed]",
      "text/plain": [
       "<Figure size 792x504 with 1 Axes>"
      ]
     },
     "metadata": {},
     "output_type": "display_data"
    }
   ],
   "source": [
    "best_men = np.array([best_men100m,best_men400m,best_men10km,best_men_marathon])\n",
    "best_women = np.array([best_women100m,best_women400m,best_women10km,best_women_marathon])\n",
    "distance = [100,1100,10**4,42.194*10**3]\n",
    "plt.plot(distance, best_men, color='hotpink',label='Prędkości mężczyzn')\n",
    "plt.plot(distance, best_women, color='purple',label='Prędkości kobiet')\n",
    "plt.scatter(distance, best_men, color='skyblue',marker='*')\n",
    "plt.scatter(distance, best_women, color='skyblue',marker='*')\n",
    "plt.xticks(distance, ['100m','400m','10km','maraton'],rotation=90)\n",
    "plt.legend()\n",
    "plt.title('Czas na poszczególnych dystansach')"
   ]
  },
  {
   "cell_type": "code",
   "execution_count": 348,
   "metadata": {},
   "outputs": [
    {
     "data": {
      "text/plain": [
       "Text(0.5, 1.0, 'Czas na dystansach 100m i 400m')"
      ]
     },
     "execution_count": 348,
     "metadata": {},
     "output_type": "execute_result"
    },
    {
     "data": {
      "image/png": "[encoded data removed]",
      "text/plain": [
       "<Figure size 792x504 with 1 Axes>"
      ]
     },
     "metadata": {},
     "output_type": "display_data"
    }
   ],
   "source": [
    "best_men = np.array([best_men100m,best_men400m])\n",
    "best_women = np.array([best_women100m,best_women400m])\n",
    "distance = [100,1100]\n",
    "plt.plot(distance, best_men, color='hotpink',label='Prędkości mężczyzn')\n",
    "plt.plot(distance, best_women, color='purple',label='Prędkości kobiet')\n",
    "plt.scatter(distance, best_men, color='skyblue',marker='*')\n",
    "plt.scatter(distance, best_women, color='skyblue',marker='*')\n",
    "plt.xticks(distance, ['100m','400m'],rotation=90)\n",
    "plt.legend()\n",
    "plt.title('Czas na dystansach 100m i 400m')"
   ]
  },
  {
   "cell_type": "code",
   "execution_count": 347,
   "metadata": {},
   "outputs": [
    {
     "data": {
      "text/plain": [
       "Text(0.5, 1.0, 'Prędkości na poszczególnych dystansach')"
      ]
     },
     "execution_count": 347,
     "metadata": {},
     "output_type": "execute_result"
    },
    {
     "data": {
      "image/png": "[encoded data removed]",
      "text/plain": [
       "<Figure size 792x504 with 1 Axes>"
      ]
     },
     "metadata": {},
     "output_type": "display_data"
    }
   ],
   "source": [
    "best_men = np.array([best_men100m,best_men400m,best_men10km,best_men_marathon])\n",
    "best_women = np.array([best_women100m,best_women400m,best_women10km,best_women_marathon])\n",
    "distance = [100,1100,10**4,42.194*10**3]\n",
    "tempo_men = [100/float(best_men100m),400/float(best_men400m),10**4/float(best_men10km),(42.194*10**3)/float(best_men_marathon)]\n",
    "tempo_women = [100/float(best_women100m),400/float(best_women400m),10**4/float(best_women10km),(42.194*10**3)/float(best_women_marathon)]\n",
    "plt.plot(distance, tempo_men, color='hotpink', label='Prędkości mężczyzn')\n",
    "plt.plot(distance, tempo_women, color='purple',label='Prędkości kobiet')\n",
    "plt.scatter(distance, tempo_men, color='skyblue', marker='*')\n",
    "plt.scatter(distance, tempo_women, color='skyblue', marker='*')\n",
    "plt.xticks(distance, ['100m','400m','10km','maraton'],rotation=90)\n",
    "plt.legend()\n",
    "plt.title('Prędkości na poszczególnych dystansach')"
   ]
  },
  {
   "cell_type": "code",
   "execution_count": null,
   "metadata": {},
   "outputs": [],
   "source": []
  },
  {
   "cell_type": "code",
   "execution_count": null,
   "metadata": {},
   "outputs": [],
   "source": []
  }
 ],
 "metadata": {
  "kernelspec": {
   "display_name": "Python 3 (ipykernel)",
   "language": "python",
   "name": "python3"
  },
  "language_info": {
   "codemirror_mode": {
    "name": "ipython",
    "version": 3
   },
   "file_extension": ".py",
   "mimetype": "text/x-python",
   "name": "python",
   "nbconvert_exporter": "python",
   "pygments_lexer": "ipython3",
   "version": "3.9.7"
  }
 },
 "nbformat": 4,
 "nbformat_minor": 4
}
